{
 "cells": [
  {
   "cell_type": "code",
   "execution_count": 38,
   "id": "3bd1c809-2de5-48b4-a633-8ff1b532e727",
   "metadata": {},
   "outputs": [],
   "source": [
    "# Initial imports\n",
    "import requests\n",
    "import pandas as pd\n",
    "import matplotlib.pyplot as plt\n",
    "import hvplot.pandas\n",
    "import plotly.express as px\n",
    "from sklearn.preprocessing import StandardScaler, MinMaxScaler\n",
    "from sklearn.decomposition import PCA\n",
    "from sklearn.cluster import KMeans  \n",
    "import json\n",
    "import pprint\n",
    "from pathlib import Path"
   ]
  },
  {
   "cell_type": "markdown",
   "id": "07728ab6-3413-4df1-b20a-95d64b1a7f39",
   "metadata": {},
   "source": [
    "## Fetching Cryptocurrency Data"
   ]
  },
  {
   "cell_type": "code",
   "execution_count": 39,
   "id": "7b0147ea-bb82-4d80-ad03-4bd8991a90d5",
   "metadata": {},
   "outputs": [],
   "source": [
    "# Alternatively, use the provided csv file:\n",
    "# Create a DataFrame \n",
    "path = Path('Resources/crypto_data.csv')\n",
    "crypto_df = pd.read_csv(path, index_col = 'Unnamed: 0')"
   ]
  },
  {
   "cell_type": "code",
   "execution_count": 40,
   "id": "afa33dd7",
   "metadata": {},
   "outputs": [
    {
     "data": {
      "text/html": [
       "<div>\n",
       "<style scoped>\n",
       "    .dataframe tbody tr th:only-of-type {\n",
       "        vertical-align: middle;\n",
       "    }\n",
       "\n",
       "    .dataframe tbody tr th {\n",
       "        vertical-align: top;\n",
       "    }\n",
       "\n",
       "    .dataframe thead th {\n",
       "        text-align: right;\n",
       "    }\n",
       "</style>\n",
       "<table border=\"1\" class=\"dataframe\">\n",
       "  <thead>\n",
       "    <tr style=\"text-align: right;\">\n",
       "      <th></th>\n",
       "      <th>CoinName</th>\n",
       "      <th>Algorithm</th>\n",
       "      <th>IsTrading</th>\n",
       "      <th>ProofType</th>\n",
       "      <th>TotalCoinsMined</th>\n",
       "      <th>TotalCoinSupply</th>\n",
       "    </tr>\n",
       "  </thead>\n",
       "  <tbody>\n",
       "    <tr>\n",
       "      <th>42</th>\n",
       "      <td>42 Coin</td>\n",
       "      <td>Scrypt</td>\n",
       "      <td>True</td>\n",
       "      <td>PoW/PoS</td>\n",
       "      <td>4.199995e+01</td>\n",
       "      <td>42</td>\n",
       "    </tr>\n",
       "    <tr>\n",
       "      <th>365</th>\n",
       "      <td>365Coin</td>\n",
       "      <td>X11</td>\n",
       "      <td>True</td>\n",
       "      <td>PoW/PoS</td>\n",
       "      <td>NaN</td>\n",
       "      <td>2300000000</td>\n",
       "    </tr>\n",
       "    <tr>\n",
       "      <th>404</th>\n",
       "      <td>404Coin</td>\n",
       "      <td>Scrypt</td>\n",
       "      <td>True</td>\n",
       "      <td>PoW/PoS</td>\n",
       "      <td>1.055185e+09</td>\n",
       "      <td>532000000</td>\n",
       "    </tr>\n",
       "    <tr>\n",
       "      <th>611</th>\n",
       "      <td>SixEleven</td>\n",
       "      <td>SHA-256</td>\n",
       "      <td>True</td>\n",
       "      <td>PoW</td>\n",
       "      <td>NaN</td>\n",
       "      <td>611000</td>\n",
       "    </tr>\n",
       "    <tr>\n",
       "      <th>808</th>\n",
       "      <td>808</td>\n",
       "      <td>SHA-256</td>\n",
       "      <td>True</td>\n",
       "      <td>PoW/PoS</td>\n",
       "      <td>0.000000e+00</td>\n",
       "      <td>0</td>\n",
       "    </tr>\n",
       "    <tr>\n",
       "      <th>1337</th>\n",
       "      <td>EliteCoin</td>\n",
       "      <td>X13</td>\n",
       "      <td>True</td>\n",
       "      <td>PoW/PoS</td>\n",
       "      <td>2.927942e+10</td>\n",
       "      <td>3.14159E+11</td>\n",
       "    </tr>\n",
       "    <tr>\n",
       "      <th>2015</th>\n",
       "      <td>2015 coin</td>\n",
       "      <td>X11</td>\n",
       "      <td>True</td>\n",
       "      <td>PoW/PoS</td>\n",
       "      <td>NaN</td>\n",
       "      <td>0</td>\n",
       "    </tr>\n",
       "    <tr>\n",
       "      <th>BTC</th>\n",
       "      <td>Bitcoin</td>\n",
       "      <td>SHA-256</td>\n",
       "      <td>True</td>\n",
       "      <td>PoW</td>\n",
       "      <td>1.792718e+07</td>\n",
       "      <td>21000000</td>\n",
       "    </tr>\n",
       "    <tr>\n",
       "      <th>ETH</th>\n",
       "      <td>Ethereum</td>\n",
       "      <td>Ethash</td>\n",
       "      <td>True</td>\n",
       "      <td>PoW</td>\n",
       "      <td>1.076842e+08</td>\n",
       "      <td>0</td>\n",
       "    </tr>\n",
       "    <tr>\n",
       "      <th>LTC</th>\n",
       "      <td>Litecoin</td>\n",
       "      <td>Scrypt</td>\n",
       "      <td>True</td>\n",
       "      <td>PoW</td>\n",
       "      <td>6.303924e+07</td>\n",
       "      <td>84000000</td>\n",
       "    </tr>\n",
       "  </tbody>\n",
       "</table>\n",
       "</div>"
      ],
      "text/plain": [
       "       CoinName Algorithm  IsTrading ProofType  TotalCoinsMined  \\\n",
       "42      42 Coin    Scrypt       True   PoW/PoS     4.199995e+01   \n",
       "365     365Coin       X11       True   PoW/PoS              NaN   \n",
       "404     404Coin    Scrypt       True   PoW/PoS     1.055185e+09   \n",
       "611   SixEleven   SHA-256       True       PoW              NaN   \n",
       "808         808   SHA-256       True   PoW/PoS     0.000000e+00   \n",
       "1337  EliteCoin       X13       True   PoW/PoS     2.927942e+10   \n",
       "2015  2015 coin       X11       True   PoW/PoS              NaN   \n",
       "BTC     Bitcoin   SHA-256       True       PoW     1.792718e+07   \n",
       "ETH    Ethereum    Ethash       True       PoW     1.076842e+08   \n",
       "LTC    Litecoin    Scrypt       True       PoW     6.303924e+07   \n",
       "\n",
       "     TotalCoinSupply  \n",
       "42                42  \n",
       "365       2300000000  \n",
       "404        532000000  \n",
       "611           611000  \n",
       "808                0  \n",
       "1337     3.14159E+11  \n",
       "2015               0  \n",
       "BTC         21000000  \n",
       "ETH                0  \n",
       "LTC         84000000  "
      ]
     },
     "execution_count": 40,
     "metadata": {},
     "output_type": "execute_result"
    }
   ],
   "source": [
    "crypto_df.head(10)"
   ]
  },
  {
   "cell_type": "markdown",
   "id": "3b7a78fb-95c7-460c-9789-81e5df79f67c",
   "metadata": {},
   "source": [
    "## Data Preprocessing"
   ]
  },
  {
   "cell_type": "code",
   "execution_count": 41,
   "id": "fce455c5-00dd-41e1-b149-af71e7d458b6",
   "metadata": {},
   "outputs": [],
   "source": [
    "# Keep only cryptocurrencies that are trading\n",
    "crypto_df = crypto_df.loc[crypto_df['IsTrading'] == True]"
   ]
  },
  {
   "cell_type": "code",
   "execution_count": 42,
   "id": "12e542e8-f07f-4743-a2ba-bd2a1f898e26",
   "metadata": {},
   "outputs": [],
   "source": [
    "# Keep only cryptocurrencies with a working algorithm \n",
    "crypto_df = crypto_df.loc[crypto_df['Algorithm'] != 'N/A']"
   ]
  },
  {
   "cell_type": "code",
   "execution_count": 43,
   "id": "a5de403a-5927-44f0-9c10-85af1ab29809",
   "metadata": {},
   "outputs": [],
   "source": [
    "# Remove the \"IsTrading\" column\n",
    "crypto_df.drop(columns = ['IsTrading'], inplace = True)"
   ]
  },
  {
   "cell_type": "code",
   "execution_count": 44,
   "id": "eeea7aa8-9b5f-4bcf-bb9c-0bb0cbf1b823",
   "metadata": {},
   "outputs": [],
   "source": [
    "# Remove rows with at least 1 null value\n",
    "crypto_df.dropna(inplace = True)"
   ]
  },
  {
   "cell_type": "code",
   "execution_count": 45,
   "id": "00240121-15a5-40c5-8d4b-9279e01c53b4",
   "metadata": {},
   "outputs": [],
   "source": [
    "# Remove rows with cryptocurrencies having no coins mined\n",
    "crypto_df = crypto_df.loc[crypto_df['TotalCoinsMined'] != 0]"
   ]
  },
  {
   "cell_type": "code",
   "execution_count": 46,
   "id": "5a214cbd-8980-4fa1-af3f-0f8618f6e2df",
   "metadata": {},
   "outputs": [],
   "source": [
    "# Store the 'CoinName'column in its own DataFrame prior to dropping it from crypto_df\n",
    "CoinName_df = crypto_df[['CoinName']]"
   ]
  },
  {
   "cell_type": "code",
   "execution_count": 47,
   "id": "68b788ef-cac0-4bee-b09d-e844008afe21",
   "metadata": {},
   "outputs": [],
   "source": [
    "# Drop the 'CoinName' column since it's not going to be used on the clustering algorithm\n",
    "crypto_df.drop(columns = ['CoinName'], inplace = True)"
   ]
  },
  {
   "cell_type": "code",
   "execution_count": 48,
   "id": "5cfaca32-62c1-4e79-92f7-b19a9cc149e5",
   "metadata": {},
   "outputs": [],
   "source": [
    "# Create dummy variables for text features\n",
    "X = pd.get_dummies(crypto_df, columns = ['Algorithm','ProofType'])"
   ]
  },
  {
   "cell_type": "code",
   "execution_count": 49,
   "id": "57ae1a58-57f3-4b04-b28f-212a49450a42",
   "metadata": {},
   "outputs": [],
   "source": [
    "# Standardize data\n",
    "scaler = StandardScaler()\n",
    "\n",
    "crypto_scaled = scaler.fit_transform(X)"
   ]
  },
  {
   "cell_type": "markdown",
   "id": "dc409852-2b48-470a-bcea-082b0ef69df6",
   "metadata": {},
   "source": [
    "## Reducing Dimensions Using PCA\n",
    " "
   ]
  },
  {
   "cell_type": "code",
   "execution_count": 50,
   "id": "b0fa4851-53cc-481d-82e4-1ec599009dc7",
   "metadata": {},
   "outputs": [],
   "source": [
    "# Use PCA to reduce dimensions to 3 principal components\n",
    "pca = PCA(n_components=3)"
   ]
  },
  {
   "cell_type": "code",
   "execution_count": 51,
   "id": "e67b3de9-7173-4ec6-8b43-557aa2f4e0a6",
   "metadata": {},
   "outputs": [
    {
     "data": {
      "text/html": [
       "<div>\n",
       "<style scoped>\n",
       "    .dataframe tbody tr th:only-of-type {\n",
       "        vertical-align: middle;\n",
       "    }\n",
       "\n",
       "    .dataframe tbody tr th {\n",
       "        vertical-align: top;\n",
       "    }\n",
       "\n",
       "    .dataframe thead th {\n",
       "        text-align: right;\n",
       "    }\n",
       "</style>\n",
       "<table border=\"1\" class=\"dataframe\">\n",
       "  <thead>\n",
       "    <tr style=\"text-align: right;\">\n",
       "      <th></th>\n",
       "      <th>PC 1</th>\n",
       "      <th>PC 2</th>\n",
       "      <th>PC 3</th>\n",
       "    </tr>\n",
       "  </thead>\n",
       "  <tbody>\n",
       "    <tr>\n",
       "      <th>42</th>\n",
       "      <td>-0.322301</td>\n",
       "      <td>0.968221</td>\n",
       "      <td>-0.586033</td>\n",
       "    </tr>\n",
       "    <tr>\n",
       "      <th>404</th>\n",
       "      <td>-0.305655</td>\n",
       "      <td>0.968523</td>\n",
       "      <td>-0.586616</td>\n",
       "    </tr>\n",
       "    <tr>\n",
       "      <th>1337</th>\n",
       "      <td>2.291992</td>\n",
       "      <td>1.678473</td>\n",
       "      <td>-0.752626</td>\n",
       "    </tr>\n",
       "    <tr>\n",
       "      <th>BTC</th>\n",
       "      <td>-0.157049</td>\n",
       "      <td>-1.290436</td>\n",
       "      <td>0.199899</td>\n",
       "    </tr>\n",
       "    <tr>\n",
       "      <th>ETH</th>\n",
       "      <td>-0.162365</td>\n",
       "      <td>-2.000445</td>\n",
       "      <td>0.403730</td>\n",
       "    </tr>\n",
       "    <tr>\n",
       "      <th>...</th>\n",
       "      <td>...</td>\n",
       "      <td>...</td>\n",
       "      <td>...</td>\n",
       "    </tr>\n",
       "    <tr>\n",
       "      <th>ZEPH</th>\n",
       "      <td>2.484276</td>\n",
       "      <td>0.778252</td>\n",
       "      <td>-0.198855</td>\n",
       "    </tr>\n",
       "    <tr>\n",
       "      <th>GAP</th>\n",
       "      <td>-0.320350</td>\n",
       "      <td>0.968130</td>\n",
       "      <td>-0.586070</td>\n",
       "    </tr>\n",
       "    <tr>\n",
       "      <th>BDX</th>\n",
       "      <td>0.305870</td>\n",
       "      <td>-2.226958</td>\n",
       "      <td>0.424959</td>\n",
       "    </tr>\n",
       "    <tr>\n",
       "      <th>ZEN</th>\n",
       "      <td>-0.160675</td>\n",
       "      <td>-1.981316</td>\n",
       "      <td>0.441323</td>\n",
       "    </tr>\n",
       "    <tr>\n",
       "      <th>XBC</th>\n",
       "      <td>-0.274617</td>\n",
       "      <td>0.812093</td>\n",
       "      <td>-0.258807</td>\n",
       "    </tr>\n",
       "  </tbody>\n",
       "</table>\n",
       "<p>533 rows × 3 columns</p>\n",
       "</div>"
      ],
      "text/plain": [
       "          PC 1      PC 2      PC 3\n",
       "42   -0.322301  0.968221 -0.586033\n",
       "404  -0.305655  0.968523 -0.586616\n",
       "1337  2.291992  1.678473 -0.752626\n",
       "BTC  -0.157049 -1.290436  0.199899\n",
       "ETH  -0.162365 -2.000445  0.403730\n",
       "...        ...       ...       ...\n",
       "ZEPH  2.484276  0.778252 -0.198855\n",
       "GAP  -0.320350  0.968130 -0.586070\n",
       "BDX   0.305870 -2.226958  0.424959\n",
       "ZEN  -0.160675 -1.981316  0.441323\n",
       "XBC  -0.274617  0.812093 -0.258807\n",
       "\n",
       "[533 rows x 3 columns]"
      ]
     },
     "execution_count": 51,
     "metadata": {},
     "output_type": "execute_result"
    }
   ],
   "source": [
    "# Create a DataFrame with the principal components data\n",
    "pcs = pca.fit_transform(crypto_scaled)\n",
    "\n",
    "pcs_df = pd.DataFrame(data = pcs, columns = ['PC 1', 'PC 2', 'PC 3'], index = crypto_df.index)\n",
    "pcs_df"
   ]
  },
  {
   "cell_type": "markdown",
   "id": "6da93b3d-7f0e-406a-aecd-7599970996f9",
   "metadata": {},
   "source": [
    "## Clustering Crytocurrencies Using K-Means"
   ]
  },
  {
   "cell_type": "code",
   "execution_count": 52,
   "id": "9b428c6c-5e87-4447-96a9-36c9f55101c3",
   "metadata": {},
   "outputs": [
    {
     "name": "stderr",
     "output_type": "stream",
     "text": [
      "C:\\Users\\javie\\anaconda3\\envs\\pyvizenv\\lib\\site-packages\\sklearn\\cluster\\_kmeans.py:882: UserWarning:\n",
      "\n",
      "KMeans is known to have a memory leak on Windows with MKL, when there are less chunks than available threads. You can avoid it by setting the environment variable OMP_NUM_THREADS=3.\n",
      "\n"
     ]
    },
    {
     "data": {},
     "metadata": {},
     "output_type": "display_data"
    },
    {
     "data": {
      "application/vnd.holoviews_exec.v0+json": "",
      "text/html": [
       "<div id='2199'>\n",
       "\n",
       "\n",
       "\n",
       "\n",
       "\n",
       "  <div class=\"bk-root\" id=\"4357b5ca-bf04-42d3-9699-28df1aaa2ee4\" data-root-id=\"2199\"></div>\n",
       "</div>\n",
       "<script type=\"application/javascript\">(function(root) {\n",
       "  function embed_document(root) {\n",
       "  var docs_json = {\"f06d3614-305b-4436-a045-70d89a4ec182\":{\"roots\":{\"references\":[{\"attributes\":{\"axis_label\":\"inertia\",\"bounds\":\"auto\",\"formatter\":{\"id\":\"2248\"},\"major_label_orientation\":\"horizontal\",\"ticker\":{\"id\":\"2218\"}},\"id\":\"2217\",\"type\":\"LinearAxis\"},{\"attributes\":{\"margin\":[5,5,5,5],\"name\":\"HSpacer04437\",\"sizing_mode\":\"stretch_width\"},\"id\":\"2200\",\"type\":\"Spacer\"},{\"attributes\":{\"callback\":null,\"renderers\":[{\"id\":\"2240\"}],\"tags\":[\"hv_created\"],\"tooltips\":[[\"k\",\"@{k}\"],[\"inertia\",\"@{inertia}\"]]},\"id\":\"2203\",\"type\":\"HoverTool\"},{\"attributes\":{\"data\":{\"inertia\":{\"__ndarray__\":\"y6hwxk95rEDW29E2U1qjQCRp6JHU2ZZAC0Ir7pgGgEA03NFrtA91QFJ7Ny47TXFA0eL4TlsxbUA5P8vkpvpnQPGnW6o5ImRA7zsHw0cdYUA=\",\"dtype\":\"float64\",\"shape\":[10]},\"k\":[1,2,3,4,5,6,7,8,9,10]},\"selected\":{\"id\":\"2235\"},\"selection_policy\":{\"id\":\"2254\"}},\"id\":\"2234\",\"type\":\"ColumnDataSource\"},{\"attributes\":{\"line_alpha\":0.2,\"line_color\":\"#1f77b3\",\"line_width\":2,\"x\":{\"field\":\"k\"},\"y\":{\"field\":\"inertia\"}},\"id\":\"2239\",\"type\":\"Line\"},{\"attributes\":{\"active_drag\":\"auto\",\"active_inspect\":\"auto\",\"active_multi\":null,\"active_scroll\":\"auto\",\"active_tap\":\"auto\",\"tools\":[{\"id\":\"2203\"},{\"id\":\"2221\"},{\"id\":\"2222\"},{\"id\":\"2223\"},{\"id\":\"2224\"},{\"id\":\"2225\"}]},\"id\":\"2227\",\"type\":\"Toolbar\"},{\"attributes\":{},\"id\":\"2218\",\"type\":\"BasicTicker\"},{\"attributes\":{\"axis\":{\"id\":\"2217\"},\"dimension\":1,\"grid_line_color\":null,\"ticker\":null},\"id\":\"2220\",\"type\":\"Grid\"},{\"attributes\":{\"margin\":[5,5,5,5],\"name\":\"HSpacer04438\",\"sizing_mode\":\"stretch_width\"},\"id\":\"2256\",\"type\":\"Spacer\"},{\"attributes\":{\"data_source\":{\"id\":\"2234\"},\"glyph\":{\"id\":\"2237\"},\"hover_glyph\":null,\"muted_glyph\":{\"id\":\"2239\"},\"nonselection_glyph\":{\"id\":\"2238\"},\"selection_glyph\":null,\"view\":{\"id\":\"2241\"}},\"id\":\"2240\",\"type\":\"GlyphRenderer\"},{\"attributes\":{\"axis\":{\"id\":\"2213\"},\"grid_line_color\":null,\"ticker\":null},\"id\":\"2216\",\"type\":\"Grid\"},{\"attributes\":{\"below\":[{\"id\":\"2213\"}],\"center\":[{\"id\":\"2216\"},{\"id\":\"2220\"}],\"left\":[{\"id\":\"2217\"}],\"margin\":null,\"min_border_bottom\":10,\"min_border_left\":10,\"min_border_right\":10,\"min_border_top\":10,\"plot_height\":300,\"plot_width\":700,\"renderers\":[{\"id\":\"2240\"}],\"sizing_mode\":\"fixed\",\"title\":{\"id\":\"2205\"},\"toolbar\":{\"id\":\"2227\"},\"x_range\":{\"id\":\"2201\"},\"x_scale\":{\"id\":\"2209\"},\"y_range\":{\"id\":\"2202\"},\"y_scale\":{\"id\":\"2211\"}},\"id\":\"2204\",\"subtype\":\"Figure\",\"type\":\"Plot\"},{\"attributes\":{\"source\":{\"id\":\"2234\"}},\"id\":\"2241\",\"type\":\"CDSView\"},{\"attributes\":{\"line_alpha\":0.1,\"line_color\":\"#1f77b3\",\"line_width\":2,\"x\":{\"field\":\"k\"},\"y\":{\"field\":\"inertia\"}},\"id\":\"2238\",\"type\":\"Line\"},{\"attributes\":{\"ticks\":[1,2,3,4,5,6,7,8,9,10]},\"id\":\"2242\",\"type\":\"FixedTicker\"},{\"attributes\":{},\"id\":\"2221\",\"type\":\"SaveTool\"},{\"attributes\":{},\"id\":\"2248\",\"type\":\"BasicTickFormatter\"},{\"attributes\":{\"bottom_units\":\"screen\",\"fill_alpha\":0.5,\"fill_color\":\"lightgrey\",\"left_units\":\"screen\",\"level\":\"overlay\",\"line_alpha\":1.0,\"line_color\":\"black\",\"line_dash\":[4,4],\"line_width\":2,\"render_mode\":\"css\",\"right_units\":\"screen\",\"top_units\":\"screen\"},\"id\":\"2226\",\"type\":\"BoxAnnotation\"},{\"attributes\":{},\"id\":\"2223\",\"type\":\"WheelZoomTool\"},{\"attributes\":{},\"id\":\"2235\",\"type\":\"Selection\"},{\"attributes\":{},\"id\":\"2222\",\"type\":\"PanTool\"},{\"attributes\":{\"line_color\":\"#1f77b3\",\"line_width\":2,\"x\":{\"field\":\"k\"},\"y\":{\"field\":\"inertia\"}},\"id\":\"2237\",\"type\":\"Line\"},{\"attributes\":{\"overlay\":{\"id\":\"2226\"}},\"id\":\"2224\",\"type\":\"BoxZoomTool\"},{\"attributes\":{},\"id\":\"2244\",\"type\":\"BasicTickFormatter\"},{\"attributes\":{},\"id\":\"2254\",\"type\":\"UnionRenderers\"},{\"attributes\":{\"text\":\"Elbow Curve\",\"text_color\":{\"value\":\"black\"},\"text_font_size\":{\"value\":\"12pt\"}},\"id\":\"2205\",\"type\":\"Title\"},{\"attributes\":{},\"id\":\"2225\",\"type\":\"ResetTool\"},{\"attributes\":{},\"id\":\"2211\",\"type\":\"LinearScale\"},{\"attributes\":{\"children\":[{\"id\":\"2200\"},{\"id\":\"2204\"},{\"id\":\"2256\"}],\"margin\":[0,0,0,0],\"name\":\"Row04433\",\"tags\":[\"embedded\"]},\"id\":\"2199\",\"type\":\"Row\"},{\"attributes\":{\"end\":10.0,\"reset_end\":10.0,\"reset_start\":1.0,\"start\":1.0,\"tags\":[[[\"k\",\"k\",null]]]},\"id\":\"2201\",\"type\":\"Range1d\"},{\"attributes\":{},\"id\":\"2209\",\"type\":\"LinearScale\"},{\"attributes\":{\"end\":3995.4298909389995,\"reset_end\":3995.4298909389995,\"reset_start\":-213.859070097464,\"start\":-213.859070097464,\"tags\":[[[\"inertia\",\"inertia\",null]]]},\"id\":\"2202\",\"type\":\"Range1d\"},{\"attributes\":{\"axis_label\":\"k\",\"bounds\":\"auto\",\"formatter\":{\"id\":\"2244\"},\"major_label_orientation\":\"horizontal\",\"ticker\":{\"id\":\"2242\"}},\"id\":\"2213\",\"type\":\"LinearAxis\"}],\"root_ids\":[\"2199\"]},\"title\":\"Bokeh Application\",\"version\":\"2.0.2\"}};\n",
       "  var render_items = [{\"docid\":\"f06d3614-305b-4436-a045-70d89a4ec182\",\"root_ids\":[\"2199\"],\"roots\":{\"2199\":\"4357b5ca-bf04-42d3-9699-28df1aaa2ee4\"}}];\n",
       "  root.Bokeh.embed.embed_items_notebook(docs_json, render_items);\n",
       "  }\n",
       "if (root.Bokeh !== undefined) {\n",
       "    embed_document(root);\n",
       "  } else {\n",
       "    var attempts = 0;\n",
       "    var timer = setInterval(function(root) {\n",
       "      if (root.Bokeh !== undefined) {\n",
       "        clearInterval(timer);\n",
       "        embed_document(root);\n",
       "      } else if (document.readyState == \"complete\") {\n",
       "        attempts++;\n",
       "        if (attempts > 100) {\n",
       "          clearInterval(timer);\n",
       "          console.log(\"Bokeh: ERROR: Unable to run BokehJS code because BokehJS library is missing\");\n",
       "        }\n",
       "      }\n",
       "    }, 10, root)\n",
       "  }\n",
       "})(window);</script>"
      ],
      "text/plain": [
       ":Curve   [k]   (inertia)"
      ]
     },
     "execution_count": 52,
     "metadata": {
      "application/vnd.holoviews_exec.v0+json": {
       "id": "2199"
      }
     },
     "output_type": "execute_result"
    }
   ],
   "source": [
    "# Find the Best Value for k Using the Elbow Curve\n",
    "inertia = []\n",
    "k = list(range(1, 11))\n",
    "\n",
    "# Calculate the inertia for the range of k values\n",
    "for i in k:\n",
    "    km = KMeans(n_clusters=i, random_state=0)\n",
    "    km.fit(pcs_df)\n",
    "    inertia.append(km.inertia_)\n",
    "# Create the Elbow Curve using hvPlot\n",
    "elbow_data = {\"k\": k, \"inertia\": inertia}\n",
    "df_elbow = pd.DataFrame(elbow_data)\n",
    "df_elbow.hvplot.line(x=\"k\", y=\"inertia\", xticks=k, title=\"Elbow Curve\")"
   ]
  },
  {
   "cell_type": "markdown",
   "id": "59afe8f3-654e-4311-b7b0-c2b8bad1f28d",
   "metadata": {},
   "source": [
    "## Running K-Means with k= <your best value for k here> "
   ]
  },
  {
   "cell_type": "code",
   "execution_count": 53,
   "id": "a51ac5ac-f83e-4472-b195-2394a23ec871",
   "metadata": {},
   "outputs": [
    {
     "data": {
      "text/html": [
       "<div>\n",
       "<style scoped>\n",
       "    .dataframe tbody tr th:only-of-type {\n",
       "        vertical-align: middle;\n",
       "    }\n",
       "\n",
       "    .dataframe tbody tr th {\n",
       "        vertical-align: top;\n",
       "    }\n",
       "\n",
       "    .dataframe thead th {\n",
       "        text-align: right;\n",
       "    }\n",
       "</style>\n",
       "<table border=\"1\" class=\"dataframe\">\n",
       "  <thead>\n",
       "    <tr style=\"text-align: right;\">\n",
       "      <th></th>\n",
       "      <th>Algorithm</th>\n",
       "      <th>ProofType</th>\n",
       "      <th>TotalCoinsMined</th>\n",
       "      <th>TotalCoinSupply</th>\n",
       "      <th>PC 1</th>\n",
       "      <th>PC 2</th>\n",
       "      <th>PC 3</th>\n",
       "      <th>CoinName</th>\n",
       "      <th>Class</th>\n",
       "    </tr>\n",
       "  </thead>\n",
       "  <tbody>\n",
       "    <tr>\n",
       "      <th>42</th>\n",
       "      <td>Scrypt</td>\n",
       "      <td>PoW/PoS</td>\n",
       "      <td>4.199995e+01</td>\n",
       "      <td>42</td>\n",
       "      <td>-0.322301</td>\n",
       "      <td>0.968221</td>\n",
       "      <td>-0.586033</td>\n",
       "      <td>42 Coin</td>\n",
       "      <td>0</td>\n",
       "    </tr>\n",
       "    <tr>\n",
       "      <th>404</th>\n",
       "      <td>Scrypt</td>\n",
       "      <td>PoW/PoS</td>\n",
       "      <td>1.055185e+09</td>\n",
       "      <td>532000000</td>\n",
       "      <td>-0.305655</td>\n",
       "      <td>0.968523</td>\n",
       "      <td>-0.586616</td>\n",
       "      <td>404Coin</td>\n",
       "      <td>0</td>\n",
       "    </tr>\n",
       "    <tr>\n",
       "      <th>1337</th>\n",
       "      <td>X13</td>\n",
       "      <td>PoW/PoS</td>\n",
       "      <td>2.927942e+10</td>\n",
       "      <td>3.14159E+11</td>\n",
       "      <td>2.291992</td>\n",
       "      <td>1.678473</td>\n",
       "      <td>-0.752626</td>\n",
       "      <td>EliteCoin</td>\n",
       "      <td>0</td>\n",
       "    </tr>\n",
       "    <tr>\n",
       "      <th>BTC</th>\n",
       "      <td>SHA-256</td>\n",
       "      <td>PoW</td>\n",
       "      <td>1.792718e+07</td>\n",
       "      <td>21000000</td>\n",
       "      <td>-0.157049</td>\n",
       "      <td>-1.290436</td>\n",
       "      <td>0.199899</td>\n",
       "      <td>Bitcoin</td>\n",
       "      <td>0</td>\n",
       "    </tr>\n",
       "    <tr>\n",
       "      <th>ETH</th>\n",
       "      <td>Ethash</td>\n",
       "      <td>PoW</td>\n",
       "      <td>1.076842e+08</td>\n",
       "      <td>0</td>\n",
       "      <td>-0.162365</td>\n",
       "      <td>-2.000445</td>\n",
       "      <td>0.403730</td>\n",
       "      <td>Ethereum</td>\n",
       "      <td>0</td>\n",
       "    </tr>\n",
       "  </tbody>\n",
       "</table>\n",
       "</div>"
      ],
      "text/plain": [
       "     Algorithm ProofType  TotalCoinsMined TotalCoinSupply      PC 1      PC 2  \\\n",
       "42      Scrypt   PoW/PoS     4.199995e+01              42 -0.322301  0.968221   \n",
       "404     Scrypt   PoW/PoS     1.055185e+09       532000000 -0.305655  0.968523   \n",
       "1337       X13   PoW/PoS     2.927942e+10     3.14159E+11  2.291992  1.678473   \n",
       "BTC    SHA-256       PoW     1.792718e+07        21000000 -0.157049 -1.290436   \n",
       "ETH     Ethash       PoW     1.076842e+08               0 -0.162365 -2.000445   \n",
       "\n",
       "          PC 3   CoinName  Class  \n",
       "42   -0.586033    42 Coin      0  \n",
       "404  -0.586616    404Coin      0  \n",
       "1337 -0.752626  EliteCoin      0  \n",
       "BTC   0.199899    Bitcoin      0  \n",
       "ETH   0.403730   Ethereum      0  "
      ]
     },
     "execution_count": 53,
     "metadata": {},
     "output_type": "execute_result"
    }
   ],
   "source": [
    "# Initialize the K-Means model\n",
    "model = KMeans(n_clusters=3, random_state=5)\n",
    "\n",
    "# Fit the model\n",
    "model.fit(pcs_df)\n",
    "\n",
    "# Predict clusters\n",
    "predictions = model.predict(pcs_df)\n",
    "\n",
    "# Create a new DataFrame including predicted clusters and cryptocurrencies features\n",
    "clustered_df = crypto_df.join(pcs_df)\n",
    "clustered_df['CoinName'] = CoinName_df['CoinName']\n",
    "clustered_df['Class'] = predictions\n",
    "clustered_df.head()"
   ]
  },
  {
   "cell_type": "markdown",
   "id": "92c6e995-9b32-44b4-9d2f-6cf736effd9e",
   "metadata": {},
   "source": [
    "## Visualizing Results"
   ]
  },
  {
   "cell_type": "code",
   "execution_count": 54,
   "id": "38eace04-d5d2-406d-aa68-6573dcb226fe",
   "metadata": {},
   "outputs": [
    {
     "data": {
      "application/vnd.plotly.v1+json": {
       "config": {
        "plotlyServerURL": "https://plot.ly"
       },
       "data": [
        {
         "customdata": [
          [
           "Scrypt"
          ],
          [
           "Scrypt"
          ],
          [
           "X13"
          ],
          [
           "SHA-256"
          ],
          [
           "Ethash"
          ],
          [
           "Scrypt"
          ],
          [
           "X11"
          ],
          [
           "CryptoNight-V7"
          ],
          [
           "Ethash"
          ],
          [
           "Equihash"
          ],
          [
           "SHA-512"
          ],
          [
           "Multiple"
          ],
          [
           "SHA-256"
          ],
          [
           "SHA-256"
          ],
          [
           "Scrypt"
          ],
          [
           "X15"
          ],
          [
           "X11"
          ],
          [
           "Scrypt"
          ],
          [
           "Scrypt"
          ],
          [
           "Scrypt"
          ],
          [
           "Multiple"
          ],
          [
           "Scrypt"
          ],
          [
           "SHA-256"
          ],
          [
           "Scrypt"
          ],
          [
           "Scrypt"
          ],
          [
           "Scrypt"
          ],
          [
           "Quark"
          ],
          [
           "Groestl"
          ],
          [
           "Scrypt"
          ],
          [
           "Scrypt"
          ],
          [
           "Scrypt"
          ],
          [
           "Scrypt"
          ],
          [
           "Scrypt"
          ],
          [
           "X11"
          ],
          [
           "Scrypt"
          ],
          [
           "Groestl"
          ],
          [
           "Multiple"
          ],
          [
           "SHA-256"
          ],
          [
           "Scrypt"
          ],
          [
           "Scrypt"
          ],
          [
           "Scrypt"
          ],
          [
           "Scrypt"
          ],
          [
           "PoS"
          ],
          [
           "Scrypt"
          ],
          [
           "Scrypt"
          ],
          [
           "NeoScrypt"
          ],
          [
           "Scrypt"
          ],
          [
           "Scrypt"
          ],
          [
           "Scrypt"
          ],
          [
           "Scrypt"
          ],
          [
           "X11"
          ],
          [
           "Scrypt"
          ],
          [
           "X11"
          ],
          [
           "SHA-256"
          ],
          [
           "Scrypt"
          ],
          [
           "Scrypt"
          ],
          [
           "Scrypt"
          ],
          [
           "SHA3"
          ],
          [
           "Scrypt"
          ],
          [
           "HybridScryptHash256"
          ],
          [
           "Scrypt"
          ],
          [
           "Scrypt"
          ],
          [
           "SHA-256"
          ],
          [
           "Scrypt"
          ],
          [
           "X13"
          ],
          [
           "Scrypt"
          ],
          [
           "SHA-256"
          ],
          [
           "Scrypt"
          ],
          [
           "X13"
          ],
          [
           "NeoScrypt"
          ],
          [
           "Scrypt"
          ],
          [
           "Scrypt"
          ],
          [
           "Scrypt"
          ],
          [
           "Scrypt"
          ],
          [
           "Scrypt"
          ],
          [
           "Scrypt"
          ],
          [
           "X11"
          ],
          [
           "X11"
          ],
          [
           "SHA-256"
          ],
          [
           "Multiple"
          ],
          [
           "SHA-256"
          ],
          [
           "PHI1612"
          ],
          [
           "X11"
          ],
          [
           "SHA-256"
          ],
          [
           "SHA-256"
          ],
          [
           "SHA-256"
          ],
          [
           "X11"
          ],
          [
           "Scrypt"
          ],
          [
           "Scrypt"
          ],
          [
           "Scrypt"
          ],
          [
           "Scrypt"
          ],
          [
           "Lyra2REv2"
          ],
          [
           "Scrypt"
          ],
          [
           "X11"
          ],
          [
           "Multiple"
          ],
          [
           "SHA-256"
          ],
          [
           "X13"
          ],
          [
           "Scrypt"
          ],
          [
           "CryptoNight"
          ],
          [
           "CryptoNight"
          ],
          [
           "Shabal256"
          ],
          [
           "Counterparty"
          ],
          [
           "Scrypt"
          ],
          [
           "SHA-256"
          ],
          [
           "Groestl"
          ],
          [
           "Scrypt"
          ],
          [
           "Scrypt"
          ],
          [
           "Scrypt"
          ],
          [
           "X13"
          ],
          [
           "Scrypt"
          ],
          [
           "Scrypt"
          ],
          [
           "Scrypt"
          ],
          [
           "Scrypt"
          ],
          [
           "X13"
          ],
          [
           "Scrypt"
          ],
          [
           "Stanford Folding"
          ],
          [
           "X11"
          ],
          [
           "Multiple"
          ],
          [
           "QuBit"
          ],
          [
           "Scrypt"
          ],
          [
           "Scrypt"
          ],
          [
           "Scrypt"
          ],
          [
           "M7 POW"
          ],
          [
           "Scrypt"
          ],
          [
           "SHA-256"
          ],
          [
           "Scrypt"
          ],
          [
           "X11"
          ],
          [
           "SHA3"
          ],
          [
           "X11"
          ],
          [
           "Lyra2RE"
          ],
          [
           "SHA-256"
          ],
          [
           "QUAIT"
          ],
          [
           "X11"
          ],
          [
           "X11"
          ],
          [
           "Scrypt"
          ],
          [
           "Scrypt"
          ],
          [
           "Scrypt"
          ],
          [
           "Ethash"
          ],
          [
           "X13"
          ],
          [
           "Blake2b"
          ],
          [
           "SHA-256"
          ],
          [
           "X15"
          ],
          [
           "X11"
          ],
          [
           "SHA-256"
          ],
          [
           "BLAKE256"
          ],
          [
           "Scrypt"
          ],
          [
           "1GB AES Pattern Search"
          ],
          [
           "SHA-256"
          ],
          [
           "X11"
          ],
          [
           "Scrypt"
          ],
          [
           "SHA-256"
          ],
          [
           "SHA-256"
          ],
          [
           "NIST5"
          ],
          [
           "Scrypt"
          ],
          [
           "Scrypt"
          ],
          [
           "X11"
          ],
          [
           "Dagger"
          ],
          [
           "Scrypt"
          ],
          [
           "X11GOST"
          ],
          [
           "X11"
          ],
          [
           "Scrypt"
          ],
          [
           "SHA-256"
          ],
          [
           "Scrypt"
          ],
          [
           "PoS"
          ],
          [
           "Scrypt"
          ],
          [
           "X11"
          ],
          [
           "X11"
          ],
          [
           "SHA-256"
          ],
          [
           "SHA-256"
          ],
          [
           "NIST5"
          ],
          [
           "X11"
          ],
          [
           "Scrypt"
          ],
          [
           "POS 3.0"
          ],
          [
           "Scrypt"
          ],
          [
           "Scrypt"
          ],
          [
           "Scrypt"
          ],
          [
           "X13"
          ],
          [
           "X11"
          ],
          [
           "X11"
          ],
          [
           "Equihash"
          ],
          [
           "X11"
          ],
          [
           "Scrypt"
          ],
          [
           "CryptoNight"
          ],
          [
           "SHA-256"
          ],
          [
           "SHA-256"
          ],
          [
           "X11"
          ],
          [
           "Scrypt"
          ],
          [
           "Multiple"
          ],
          [
           "Scrypt"
          ],
          [
           "Scrypt"
          ],
          [
           "Scrypt"
          ],
          [
           "SHA-256"
          ],
          [
           "Scrypt"
          ],
          [
           "Scrypt"
          ],
          [
           "SHA-256D"
          ],
          [
           "PoS"
          ],
          [
           "Scrypt"
          ],
          [
           "X11"
          ],
          [
           "Lyra2Z"
          ],
          [
           "PoS"
          ],
          [
           "X13"
          ],
          [
           "X14"
          ],
          [
           "PoS"
          ],
          [
           "SHA-256D"
          ],
          [
           "Ethash"
          ],
          [
           "Equihash"
          ],
          [
           "DPoS"
          ],
          [
           "X11"
          ],
          [
           "Scrypt"
          ],
          [
           "X11"
          ],
          [
           "X13"
          ],
          [
           "X11"
          ],
          [
           "PoS"
          ],
          [
           "Scrypt"
          ],
          [
           "Scrypt"
          ],
          [
           "X11"
          ],
          [
           "PoS"
          ],
          [
           "X11"
          ],
          [
           "SHA-256"
          ],
          [
           "Scrypt"
          ],
          [
           "X11"
          ],
          [
           "Scrypt"
          ],
          [
           "Scrypt"
          ],
          [
           "X11"
          ],
          [
           "CryptoNight"
          ],
          [
           "Scrypt"
          ],
          [
           "Scrypt"
          ],
          [
           "Scrypt"
          ],
          [
           "Scrypt"
          ],
          [
           "Quark"
          ],
          [
           "QuBit"
          ],
          [
           "Scrypt"
          ],
          [
           "CryptoNight"
          ],
          [
           "Lyra2RE"
          ],
          [
           "Scrypt"
          ],
          [
           "SHA-256"
          ],
          [
           "X11"
          ],
          [
           "Scrypt"
          ],
          [
           "X11"
          ],
          [
           "Scrypt"
          ],
          [
           "CryptoNight-V7"
          ],
          [
           "Scrypt"
          ],
          [
           "Scrypt"
          ],
          [
           "Scrypt"
          ],
          [
           "X13"
          ],
          [
           "X11"
          ],
          [
           "Equihash"
          ],
          [
           "Scrypt"
          ],
          [
           "Scrypt"
          ],
          [
           "Lyra2RE"
          ],
          [
           "Scrypt"
          ],
          [
           "Dagger-Hashimoto"
          ],
          [
           "X11"
          ],
          [
           "Blake2S"
          ],
          [
           "X11"
          ],
          [
           "Scrypt"
          ],
          [
           "PoS"
          ],
          [
           "X11"
          ],
          [
           "NIST5"
          ],
          [
           "PoS"
          ],
          [
           "X11"
          ],
          [
           "Scrypt"
          ],
          [
           "Scrypt"
          ],
          [
           "Scrypt"
          ],
          [
           "SHA-256"
          ],
          [
           "X11"
          ],
          [
           "Scrypt"
          ],
          [
           "Scrypt"
          ],
          [
           "SHA-256"
          ],
          [
           "PoS"
          ],
          [
           "Scrypt"
          ],
          [
           "X15"
          ],
          [
           "SHA-256"
          ],
          [
           "Scrypt"
          ],
          [
           "POS 3.0"
          ],
          [
           "CryptoNight-V7"
          ],
          [
           "536"
          ],
          [
           "Argon2d"
          ],
          [
           "Blake2b"
          ],
          [
           "Cloverhash"
          ],
          [
           "CryptoNight"
          ],
          [
           "NIST5"
          ],
          [
           "X11"
          ],
          [
           "NIST5"
          ],
          [
           "Skein"
          ],
          [
           "Scrypt"
          ],
          [
           "X13"
          ],
          [
           "Scrypt"
          ],
          [
           "X11"
          ],
          [
           "X11"
          ],
          [
           "Scrypt"
          ],
          [
           "CryptoNight"
          ],
          [
           "X13"
          ],
          [
           "Time Travel"
          ],
          [
           "Scrypt"
          ],
          [
           "Keccak"
          ],
          [
           "SkunkHash v2 Raptor"
          ],
          [
           "X11"
          ],
          [
           "Skein"
          ],
          [
           "SHA-256"
          ],
          [
           "X11"
          ],
          [
           "Scrypt"
          ],
          [
           "Scrypt"
          ],
          [
           "PoS"
          ],
          [
           "Scrypt"
          ],
          [
           "Scrypt"
          ],
          [
           "Scrypt"
          ],
          [
           "Scrypt"
          ],
          [
           "Scrypt"
          ],
          [
           "Scrypt"
          ],
          [
           "Scrypt"
          ],
          [
           "CryptoNight"
          ],
          [
           "SHA-512"
          ],
          [
           "Ouroboros"
          ],
          [
           "X11"
          ],
          [
           "Equihash"
          ],
          [
           "NeoScrypt"
          ],
          [
           "X11"
          ],
          [
           "Scrypt"
          ],
          [
           "NeoScrypt"
          ],
          [
           "Lyra2REv2"
          ],
          [
           "Equihash"
          ],
          [
           "Scrypt"
          ],
          [
           "SHA-256"
          ],
          [
           "NIST5"
          ],
          [
           "PHI1612"
          ],
          [
           "Dagger"
          ],
          [
           "Scrypt"
          ],
          [
           "Quark"
          ],
          [
           "Scrypt"
          ],
          [
           "POS 2.0"
          ],
          [
           "Scrypt"
          ],
          [
           "SHA-256"
          ],
          [
           "X11"
          ],
          [
           "NeoScrypt"
          ],
          [
           "Ethash"
          ],
          [
           "NeoScrypt"
          ],
          [
           "X11"
          ],
          [
           "DPoS"
          ],
          [
           "NIST5"
          ],
          [
           "X13"
          ],
          [
           "Multiple"
          ],
          [
           "Scrypt"
          ],
          [
           "CryptoNight"
          ],
          [
           "CryptoNight"
          ],
          [
           "Ethash"
          ],
          [
           "NIST5"
          ],
          [
           "Quark"
          ],
          [
           "X11"
          ],
          [
           "CryptoNight-V7"
          ],
          [
           "Scrypt"
          ],
          [
           "Scrypt"
          ],
          [
           "Scrypt"
          ],
          [
           "X11"
          ],
          [
           "BLAKE256"
          ],
          [
           "X11"
          ],
          [
           "NeoScrypt"
          ],
          [
           "Quark"
          ],
          [
           "NeoScrypt"
          ],
          [
           "Scrypt"
          ],
          [
           "Scrypt"
          ],
          [
           "Scrypt"
          ],
          [
           "X11"
          ],
          [
           "X11"
          ],
          [
           "SHA-256"
          ],
          [
           "C11"
          ],
          [
           "POS 3.0"
          ],
          [
           "Ethash"
          ],
          [
           "Scrypt"
          ],
          [
           "CryptoNight"
          ],
          [
           "SkunkHash"
          ],
          [
           "Scrypt"
          ],
          [
           "CryptoNight"
          ],
          [
           "Scrypt"
          ],
          [
           "Dagger"
          ],
          [
           "Lyra2REv2"
          ],
          [
           "X13"
          ],
          [
           "Scrypt"
          ],
          [
           "Scrypt"
          ],
          [
           "X11"
          ],
          [
           "C11"
          ],
          [
           "X11"
          ],
          [
           "XEVAN"
          ],
          [
           "Scrypt"
          ],
          [
           "VBFT"
          ],
          [
           "Ethash"
          ],
          [
           "CryptoNight"
          ],
          [
           "Scrypt"
          ],
          [
           "IMesh"
          ],
          [
           "NIST5"
          ],
          [
           "Scrypt"
          ],
          [
           "Scrypt"
          ],
          [
           "Equihash"
          ],
          [
           "Scrypt"
          ],
          [
           "Lyra2Z"
          ],
          [
           "Green Protocol"
          ],
          [
           "PoS"
          ],
          [
           "Scrypt"
          ],
          [
           "Semux BFT consensus"
          ],
          [
           "X11"
          ],
          [
           "Quark"
          ],
          [
           "PoS"
          ],
          [
           "CryptoNight"
          ],
          [
           "X16R"
          ],
          [
           "Scrypt"
          ],
          [
           "NIST5"
          ],
          [
           "Lyra2RE"
          ],
          [
           "XEVAN"
          ],
          [
           "Tribus"
          ],
          [
           "Scrypt"
          ],
          [
           "Lyra2Z"
          ],
          [
           "CryptoNight"
          ],
          [
           "CryptoNight Heavy"
          ],
          [
           "CryptoNight"
          ],
          [
           "Scrypt"
          ],
          [
           "Scrypt"
          ],
          [
           "Jump Consistent Hash"
          ],
          [
           "SHA-256D"
          ],
          [
           "CryptoNight"
          ],
          [
           "Scrypt"
          ],
          [
           "X15"
          ],
          [
           "Scrypt"
          ],
          [
           "Quark"
          ],
          [
           "SHA-256"
          ],
          [
           "DPoS"
          ],
          [
           "X16R"
          ],
          [
           "HMQ1725"
          ],
          [
           "X11"
          ],
          [
           "X16R"
          ],
          [
           "Quark"
          ],
          [
           "Quark"
          ],
          [
           "Scrypt"
          ],
          [
           "Lyra2REv2"
          ],
          [
           "Quark"
          ],
          [
           "Scrypt"
          ],
          [
           "Scrypt"
          ],
          [
           "CryptoNight-V7"
          ],
          [
           "Cryptonight-GPU"
          ],
          [
           "XEVAN"
          ],
          [
           "CryptoNight Heavy"
          ],
          [
           "X11"
          ],
          [
           "X11"
          ],
          [
           "Scrypt"
          ],
          [
           "PoS"
          ],
          [
           "SHA-256"
          ],
          [
           "Keccak"
          ],
          [
           "X11"
          ],
          [
           "X11"
          ],
          [
           "Scrypt"
          ],
          [
           "SHA-512"
          ],
          [
           "X16R"
          ],
          [
           "Equihash"
          ],
          [
           "XEVAN"
          ],
          [
           "Lyra2Z"
          ],
          [
           "SHA-256"
          ],
          [
           "XEVAN"
          ],
          [
           "X11"
          ],
          [
           "CryptoNight"
          ],
          [
           "Quark"
          ],
          [
           "Blake"
          ],
          [
           "Blake"
          ],
          [
           "Equihash"
          ],
          [
           "Exosis"
          ],
          [
           "Scrypt"
          ],
          [
           "Scrypt"
          ],
          [
           "Equihash"
          ],
          [
           "Quark"
          ],
          [
           "Equihash"
          ],
          [
           "Quark"
          ],
          [
           "Scrypt"
          ],
          [
           "QuBit"
          ],
          [
           "X11"
          ],
          [
           "Scrypt"
          ],
          [
           "XEVAN"
          ],
          [
           "SHA-256D"
          ],
          [
           "X11"
          ],
          [
           "SHA-256"
          ],
          [
           "X13"
          ],
          [
           "SHA-256"
          ],
          [
           "X11"
          ],
          [
           "DPoS"
          ],
          [
           "Scrypt"
          ],
          [
           "Scrypt"
          ],
          [
           "X11"
          ],
          [
           "NeoScrypt"
          ],
          [
           "Scrypt"
          ],
          [
           "Blake"
          ],
          [
           "Scrypt"
          ],
          [
           "SHA-256"
          ],
          [
           "Scrypt"
          ],
          [
           "X11"
          ],
          [
           "Scrypt"
          ],
          [
           "Scrypt"
          ],
          [
           "SHA-256"
          ],
          [
           "X11"
          ],
          [
           "SHA-256"
          ],
          [
           "Scrypt"
          ],
          [
           "Scrypt"
          ],
          [
           "Scrypt"
          ],
          [
           "Groestl"
          ],
          [
           "X11"
          ],
          [
           "Scrypt"
          ],
          [
           "PoS"
          ],
          [
           "Scrypt"
          ],
          [
           "Scrypt"
          ],
          [
           "X11"
          ],
          [
           "SHA-256"
          ],
          [
           "DPoS"
          ],
          [
           "Scrypt"
          ],
          [
           "Scrypt"
          ],
          [
           "NeoScrypt"
          ],
          [
           "Multiple"
          ],
          [
           "X13"
          ],
          [
           "Equihash+Scrypt"
          ],
          [
           "DPoS"
          ],
          [
           "Ethash"
          ],
          [
           "DPoS"
          ],
          [
           "SHA-256"
          ],
          [
           "PoS"
          ],
          [
           "PoS"
          ],
          [
           "SHA-256"
          ],
          [
           "Scrypt"
          ],
          [
           "CryptoNight"
          ],
          [
           "Equihash"
          ],
          [
           "Scrypt"
          ]
         ],
         "hovertemplate": "<b>%{hovertext}</b><br><br>Class=%{marker.color}<br>PC 1=%{x}<br>PC 2=%{y}<br>PC 3=%{z}<br>Algorithm=%{customdata[0]}<extra></extra>",
         "hovertext": [
          "42 Coin",
          "404Coin",
          "EliteCoin",
          "Bitcoin",
          "Ethereum",
          "Litecoin",
          "Dash",
          "Monero",
          "Ethereum Classic",
          "ZCash",
          "Bitshares",
          "DigiByte",
          "BitcoinDark",
          "PayCoin",
          "ProsperCoin",
          "KoboCoin",
          "Spreadcoin",
          "Argentum",
          "Aurora Coin",
          "BlueCoin",
          "MyriadCoin",
          "MoonCoin",
          "ZetaCoin",
          "SexCoin",
          "Quatloo",
          "EnergyCoin",
          "QuarkCoin",
          "Riecoin",
          "Digitalcoin ",
          "BitBar",
          "Catcoin",
          "CryptoBullion",
          "CannaCoin",
          "CryptCoin",
          "CasinoCoin",
          "Diamond",
          "Verge",
          "DevCoin",
          "EarthCoin",
          "E-Gulden",
          "Einsteinium",
          "Emerald",
          "Exclusive Coin",
          "FlutterCoin",
          "Franko",
          "FeatherCoin",
          "GrandCoin",
          "GlobalCoin",
          "GoldCoin",
          "HoboNickels",
          "HyperStake",
          "Infinite Coin",
          "IOCoin",
          "IXcoin",
          "KrugerCoin",
          "LuckyCoin",
          "Litebar ",
          "MaxCoin",
          "MegaCoin",
          "MediterraneanCoin",
          "MintCoin",
          "MinCoin",
          "MazaCoin",
          "Nautilus Coin",
          "NavCoin",
          "NobleCoin",
          "Namecoin",
          "NyanCoin",
          "OpalCoin",
          "Orbitcoin",
          "PotCoin",
          "PhoenixCoin",
          "Reddcoin",
          "RonPaulCoin",
          "StableCoin",
          "SmartCoin",
          "SuperCoin",
          "SyncCoin",
          "SysCoin",
          "TeslaCoin",
          "TigerCoin",
          "TittieCoin",
          "TorCoin",
          "TerraCoin",
          "UnbreakableCoin",
          "Unobtanium",
          "UroCoin",
          "UnitaryStatus Dollar",
          "UltraCoin",
          "ViaCoin",
          "VeriCoin",
          "Vertcoin",
          "WorldCoin",
          "X11 Coin",
          "Crypti",
          "JouleCoin",
          "StealthCoin",
          "ZCC Coin",
          "ByteCoin",
          "DigitalNote ",
          "BurstCoin",
          "StorjCoin",
          "MonaCoin",
          "Neutron",
          "FairCoin",
          "Gulden",
          "RubyCoin",
          "PesetaCoin",
          "Kore",
          "Wild Beast Coin",
          "Dnotes",
          "Flo",
          "8BIT Coin",
          "Sativa Coin",
          "ArtByte",
          "Folding Coin",
          "Ucoin",
          "Unitus",
          "CypherPunkCoin",
          "OmniCron",
          "Vtorrent",
          "GreenCoin",
          "Cryptonite",
          "MasterCoin",
          "SoonCoin",
          "1Credit",
          "IslaCoin",
          "Nexus",
          "MarsCoin ",
          "Crypto",
          "Anarchists Prime",
          "Droidz",
          "BowsCoin",
          "Squall Coin",
          "Song Coin",
          "BitZeny",
          "Diggits",
          "Expanse",
          "Paycon",
          "Siacoin",
          "Emercoin",
          "EverGreenCoin",
          "MindCoin",
          "I0coin",
          "Decred",
          "Revolution VR",
          "HOdlcoin",
          "EDRCoin",
          "Hitcoin",
          "Gamecredits",
          "DubaiCoin",
          "CarpeDiemCoin",
          "PWR Coin",
          "BillaryCoin",
          "GPU Coin",
          "Adzcoin",
          "SoilCoin",
          "YoCoin",
          "SibCoin",
          "EuropeCoin",
          "ZeitCoin",
          "SwingCoin",
          "SafeExchangeCoin",
          "Nebuchadnezzar",
          "Francs",
          "BolivarCoin",
          "Ratecoin",
          "Revenu",
          "Clockcoin",
          "VIP Tokens",
          "BitSend",
          "Omni",
          "Let it Ride",
          "PutinCoin",
          "iBankCoin",
          "Frankywillcoin",
          "MudraCoin",
          "PizzaCoin",
          "Lutetium Coin",
          "Komodo",
          "GoldBlocks",
          "CarterCoin",
          "Karbo",
          "BitTokens",
          "ZayedCoin",
          "MustangCoin",
          "ZoneCoin",
          "Circuits of Value",
          "RootCoin",
          "DopeCoin",
          "BitCurrency",
          "DollarCoin",
          "Swiscoin",
          "Shilling",
          "BuzzCoin",
          "Opair",
          "PesoBit",
          "Halloween Coin",
          "ZCoin",
          "CoffeeCoin",
          "RoyalCoin",
          "GanjaCoin V2",
          "TeamUP",
          "LanaCoin",
          "Elementrem",
          "ZClassic",
          "ARK",
          "InsaneCoin",
          "KiloCoin",
          "ArtexCoin",
          "EmberCoin",
          "XenixCoin",
          "FreeCoin",
          "PLNCoin",
          "AquariusCoin",
          "Kurrent",
          "Creatio",
          "Eternity",
          "Eurocoin",
          "BitcoinFast",
          "Stakenet",
          "BitConnect Coin",
          "MoneyCoin",
          "Enigma",
          "Cannabis Industry Coin",
          "Russiacoin",
          "PandaCoin",
          "GameUnits",
          "GAKHcoin",
          "Allsafe",
          "LiteCreed",
          "OsmiumCoin",
          "Bikercoins",
          "HexxCoin",
          "Klingon Empire Darsek",
          "Internet of People",
          "KushCoin",
          "Printerium",
          "PacCoin",
          "Impeach",
          "Citadel",
          "Zilbercoin",
          "FirstCoin",
          "BeaverCoin",
          "FindCoin",
          "VaultCoin",
          "Zero",
          "OpenChat",
          "Canada eCoin",
          "Zoin",
          "RenosCoin",
          "DubaiCoin",
          "VirtacoinPlus",
          "TajCoin",
          "Impact",
          "EB3coin",
          "Atmos",
          "HappyCoin",
          "Coinonat",
          "MacronCoin",
          "Condensate",
          "Independent Money System",
          "ArgusCoin",
          "LomoCoin",
          "ProCurrency",
          "GoldReserve",
          "BenjiRolls",
          "GrowthCoin",
          "ILCoin",
          "Phreak",
          "Degas Coin",
          "HTML5 Coin",
          "Ultimate Secure Cash",
          "EquiTrader",
          "QTUM",
          "Quantum Resistant Ledger",
          "Espers",
          "Dynamic",
          "Nano",
          "ChanCoin",
          "Dinastycoin",
          "Denarius",
          "DigitalPrice",
          "Virta Unique Coin",
          "Bitcoin Planet",
          "Unify",
          "BritCoin",
          "SocialCoin",
          "ArcticCoin",
          "DAS",
          "Linda",
          "LeviarCoin",
          "DeepOnion",
          "Bitcore",
          "gCn Coin",
          "SmartCash",
          "Signatum",
          "Onix",
          "Cream",
          "Bitcoin Cash",
          "Monoeci",
          "Draftcoin",
          "Sojourn Coin",
          "Stakecoin",
          "NewYorkCoin",
          "FrazCoin",
          "Kronecoin",
          "AdCoin",
          "Linx",
          "CoinonatX",
          "Ethereum Dark",
          "Sumokoin",
          "Obsidian",
          "Cardano",
          "Regalcoin",
          "BitcoinZ",
          "TrezarCoin",
          "Elements",
          "TerraNovaCoin",
          "VIVO Coin",
          "Rupee",
          "Bitcoin Gold",
          "WomenCoin",
          "Theresa May Coin",
          "NamoCoin",
          "LUXCoin",
          "Pirl",
          "Xios",
          "Bitcloud 2.0",
          "eBoost",
          "KekCoin",
          "BlackholeCoin",
          "Infinity Economics",
          "Pura",
          "Innova",
          "Ellaism",
          "GoByte",
          "Magnet",
          "Lamden Tau",
          "Electra",
          "Bitcoin Diamond",
          "SHIELD",
          "Cash & Back Coin",
          "UltraNote",
          "BitCoal",
          "DaxxCoin",
          "Bulwark",
          "Kalkulus",
          "AC3",
          "Lethean",
          "GermanCoin",
          "LiteCoin Ultra",
          "PopularCoin",
          "PhantomX",
          "Photon",
          "Sucre",
          "SparksPay",
          "Digiwage",
          "GunCoin",
          "IrishCoin",
          "Trollcoin",
          "Litecoin Plus",
          "Monkey Project",
          "Pioneer Coin",
          "UnitedBitcoin",
          "Interzone",
          "TokenPay",
          "1717 Masonic Commemorative Token",
          "My Big Coin",
          "TurtleCoin",
          "MUNcoin",
          "Unified Society USDEX",
          "Niobio Cash",
          "ShareChain",
          "Travelflex",
          "KREDS",
          "Tokyo Coin",
          "BitFlip",
          "LottoCoin",
          "Crypto Improvement Fund",
          "Stipend",
          "Pushi",
          "Ellerium",
          "Velox",
          "Ontology",
          "Callisto Network",
          "BitTube",
          "Poseidon",
          "Aidos Kuneen",
          "Bitspace",
          "Briacoin",
          "Ignition",
          "Bitrolium",
          "MedicCoin",
          "Alpenschillling",
          "Bitcoin Green",
          "Deviant Coin",
          "Abjcoin",
          "Semux",
          "FuturoCoin",
          "Carebit",
          "Zealium",
          "Monero Classic",
          "Proton",
          "iDealCash",
          "Jumpcoin",
          "Infinex",
          "Bitcoin Incognito",
          "KEYCO",
          "HollyWoodCoin",
          "GINcoin",
          "PlatinCoin",
          "Loki",
          "Newton Coin",
          "Swisscoin",
          "Xt3ch",
          "MassGrid",
          "TheVig",
          "PluraCoin",
          "EmaratCoin",
          "Dekado",
          "Lynx",
          "Poseidon Quark",
          "BitcoinWSpectrum",
          "Muse",
          "Motion",
          "PlusOneCoin",
          "Axe",
          "Trivechain",
          "Dystem",
          "Giant",
          "Peony Coin",
          "Absolute Coin",
          "Vitae",
          "HexCoin",
          "TPCash",
          "Webchain",
          "Ryo",
          "Urals Coin",
          "Qwertycoin",
          "ARENON",
          "EUNO",
          "MMOCoin",
          "Ketan",
          "Project Pai",
          "XDNA",
          "PAXEX",
          "Azart",
          "ThunderStake",
          "Kcash",
          "Xchange",
          "CrypticCoin",
          "Bettex coin",
          "Actinium",
          "Bitcoin SV",
          "BitMoney",
          "Junson Ming Chan Coin",
          "FREDEnergy",
          "HerbCoin",
          "Universal Molecule",
          "Lithium",
          "PirateCash",
          "Exosis",
          "Block-Logic",
          "Oduwa",
          "Beam",
          "Galilel",
          "Bithereum",
          "Crypto Sports",
          "Credit",
          "SLICE",
          "Dash Platinum",
          "Nasdacoin",
          "Beetle Coin",
          "Titan Coin",
          "Award",
          "BLAST",
          "Bitcoin Rhodium",
          "GlobalToken",
          "Insane Coin",
          "ALAX",
          "LiteDoge",
          "SolarCoin",
          "TruckCoin",
          "UFO Coin",
          "OrangeCoin",
          "BlakeCoin",
          "BitstarCoin",
          "NeosCoin",
          "HyperCoin",
          "PinkCoin",
          "Crypto Escudo",
          "AudioCoin",
          "IncaKoin",
          "Piggy Coin",
          "Crown Coin",
          "Genstake",
          "SmileyCoin",
          "XiaoMiCoin",
          "Groestlcoin",
          "CapriCoin",
          " ClubCoin",
          "Radium",
          "Bata",
          "Pakcoin",
          "Creditbit ",
          "OKCash",
          "Lisk",
          "HiCoin",
          "WhiteCoin",
          "FriendshipCoin",
          "JoinCoin",
          "Triangles Coin",
          "Vollar",
          "EOS",
          "Reality Clash",
          "Oxycoin",
          "TigerCash",
          "Particl",
          "Nxt",
          "ZEPHYR",
          "Gapcoin",
          "Beldex",
          "Horizen",
          "BitcoinPlus"
         ],
         "legendgroup": "0",
         "marker": {
          "color": [
           0,
           0,
           0,
           0,
           0,
           0,
           0,
           0,
           0,
           0,
           0,
           0,
           0,
           0,
           0,
           0,
           0,
           0,
           0,
           0,
           0,
           0,
           0,
           0,
           0,
           0,
           0,
           0,
           0,
           0,
           0,
           0,
           0,
           0,
           0,
           0,
           0,
           0,
           0,
           0,
           0,
           0,
           0,
           0,
           0,
           0,
           0,
           0,
           0,
           0,
           0,
           0,
           0,
           0,
           0,
           0,
           0,
           0,
           0,
           0,
           0,
           0,
           0,
           0,
           0,
           0,
           0,
           0,
           0,
           0,
           0,
           0,
           0,
           0,
           0,
           0,
           0,
           0,
           0,
           0,
           0,
           0,
           0,
           0,
           0,
           0,
           0,
           0,
           0,
           0,
           0,
           0,
           0,
           0,
           0,
           0,
           0,
           0,
           0,
           0,
           0,
           0,
           0,
           0,
           0,
           0,
           0,
           0,
           0,
           0,
           0,
           0,
           0,
           0,
           0,
           0,
           0,
           0,
           0,
           0,
           0,
           0,
           0,
           0,
           0,
           0,
           0,
           0,
           0,
           0,
           0,
           0,
           0,
           0,
           0,
           0,
           0,
           0,
           0,
           0,
           0,
           0,
           0,
           0,
           0,
           0,
           0,
           0,
           0,
           0,
           0,
           0,
           0,
           0,
           0,
           0,
           0,
           0,
           0,
           0,
           0,
           0,
           0,
           0,
           0,
           0,
           0,
           0,
           0,
           0,
           0,
           0,
           0,
           0,
           0,
           0,
           0,
           0,
           0,
           0,
           0,
           0,
           0,
           0,
           0,
           0,
           0,
           0,
           0,
           0,
           0,
           0,
           0,
           0,
           0,
           0,
           0,
           0,
           0,
           0,
           0,
           0,
           0,
           0,
           0,
           0,
           0,
           0,
           0,
           0,
           0,
           0,
           0,
           0,
           0,
           0,
           0,
           0,
           0,
           0,
           0,
           0,
           0,
           0,
           0,
           0,
           0,
           0,
           0,
           0,
           0,
           0,
           0,
           0,
           0,
           0,
           0,
           0,
           0,
           0,
           0,
           0,
           0,
           0,
           0,
           0,
           0,
           0,
           0,
           0,
           0,
           0,
           0,
           0,
           0,
           0,
           0,
           0,
           0,
           0,
           0,
           0,
           0,
           0,
           0,
           0,
           0,
           0,
           0,
           0,
           0,
           0,
           0,
           0,
           0,
           0,
           0,
           0,
           0,
           0,
           0,
           0,
           0,
           0,
           0,
           0,
           0,
           0,
           0,
           0,
           0,
           0,
           0,
           0,
           0,
           0,
           0,
           0,
           0,
           0,
           0,
           0,
           0,
           0,
           0,
           0,
           0,
           0,
           0,
           0,
           0,
           0,
           0,
           0,
           0,
           0,
           0,
           0,
           0,
           0,
           0,
           0,
           0,
           0,
           0,
           0,
           0,
           0,
           0,
           0,
           0,
           0,
           0,
           0,
           0,
           0,
           0,
           0,
           0,
           0,
           0,
           0,
           0,
           0,
           0,
           0,
           0,
           0,
           0,
           0,
           0,
           0,
           0,
           0,
           0,
           0,
           0,
           0,
           0,
           0,
           0,
           0,
           0,
           0,
           0,
           0,
           0,
           0,
           0,
           0,
           0,
           0,
           0,
           0,
           0,
           0,
           0,
           0,
           0,
           0,
           0,
           0,
           0,
           0,
           0,
           0,
           0,
           0,
           0,
           0,
           0,
           0,
           0,
           0,
           0,
           0,
           0,
           0,
           0,
           0,
           0,
           0,
           0,
           0,
           0,
           0,
           0,
           0,
           0,
           0,
           0,
           0,
           0,
           0,
           0,
           0,
           0,
           0,
           0,
           0,
           0,
           0,
           0,
           0,
           0,
           0,
           0,
           0,
           0,
           0,
           0,
           0,
           0,
           0,
           0,
           0,
           0,
           0,
           0,
           0,
           0,
           0,
           0,
           0,
           0,
           0,
           0,
           0,
           0,
           0,
           0,
           0,
           0,
           0,
           0,
           0,
           0,
           0,
           0,
           0,
           0,
           0,
           0,
           0,
           0,
           0,
           0,
           0,
           0,
           0,
           0,
           0,
           0,
           0,
           0,
           0,
           0,
           0,
           0,
           0,
           0,
           0,
           0,
           0,
           0,
           0,
           0,
           0,
           0,
           0,
           0,
           0,
           0,
           0,
           0,
           0,
           0,
           0,
           0,
           0,
           0,
           0,
           0,
           0,
           0,
           0,
           0,
           0,
           0,
           0,
           0,
           0,
           0,
           0,
           0,
           0,
           0,
           0,
           0,
           0,
           0,
           0,
           0,
           0,
           0
          ],
          "coloraxis": "coloraxis",
          "symbol": "circle"
         },
         "mode": "markers",
         "name": "0",
         "scene": "scene",
         "showlegend": true,
         "type": "scatter3d",
         "x": [
          -0.32230083284362615,
          -0.3056547708815331,
          2.291992404163716,
          -0.1570487732567905,
          -0.1623647156089551,
          -0.1560278178049039,
          -0.40614791780622966,
          -0.16367720971633712,
          -0.16080963104429336,
          -0.1606734454167633,
          -0.2052732699968817,
          0.15468957283379509,
          -0.32215391745806704,
          -0.2744154874084519,
          -0.15717273916831578,
          -0.262589653841892,
          -0.24122711222702653,
          -0.15678991371668463,
          -0.3219607929349488,
          -0.3145433692005481,
          -0.09837974712077514,
          2.5594931616053147,
          -0.15413696113372916,
          -0.15404878132698424,
          -0.15659439174738832,
          -0.3207984424072832,
          -0.2410332131270309,
          -0.21052668686669207,
          -0.15664267211527322,
          -0.3222967762186941,
          -0.15715501698749346,
          -0.32228107255379385,
          -0.1572413453243662,
          -0.24131637744267903,
          0.8301660322215421,
          -0.37656367256879086,
          0.178462293408375,
          0.2203608708332148,
          0.09120417572269081,
          -0.15698787857952662,
          -0.15259858204975107,
          -0.1569273099715688,
          -0.35824576044545126,
          -0.23879557124846662,
          -0.1572982935294919,
          -0.18610651207203396,
          -0.1365469138688668,
          -0.156094720542769,
          -0.1563720034322474,
          -0.32036200696682327,
          -0.3382469665571297,
          1.5896461108188003,
          -0.40604268664857435,
          -0.15701016839411763,
          -0.15366490656116247,
          -0.15701429374412762,
          -0.15736870649456114,
          -0.3875842463319028,
          -0.1566288087618947,
          -0.15058795444464132,
          -0.014662635299878301,
          -0.15725012838374292,
          -0.2855066891533255,
          -0.2743138893026262,
          -0.287398035420686,
          -0.0223777063143963,
          -0.15708772728990217,
          -0.15092115018727412,
          -0.2880198145859387,
          -0.3558743889232747,
          -0.31661072380774774,
          -0.32070454277912674,
          0.03559327488191173,
          -0.15722968068063078,
          -0.15532730804588024,
          -0.1567170321408005,
          -0.3581198373384056,
          -0.4064138082450227,
          -0.14425601921650677,
          -0.2486877423694333,
          -0.15655208208726654,
          -0.32131322545979724,
          -0.40632559696944026,
          -0.15683905160073955,
          -0.15682238366839465,
          -0.15741199215963908,
          -0.24148999703887758,
          -0.2975641043505229,
          -0.32098002352519234,
          -0.15694637643243367,
          -0.2428282146043393,
          -0.20392447151285567,
          -0.1540536284311988,
          -0.40629005793589096,
          -0.2491542777126431,
          -0.1566193143051254,
          -0.2878008293684194,
          -0.31341889894395597,
          3.8362916267878915,
          0.4390663085006336,
          0.40200591631842,
          -0.34010309648224474,
          -0.15581544992715163,
          -0.3213665816021618,
          -0.3759855964876132,
          -0.14043851619244535,
          -0.2742940199333967,
          -0.1545356616435165,
          -0.2880952549070752,
          -0.15737092563032057,
          -0.26895614927166395,
          -0.1544007343895883,
          -0.3222829137666984,
          -0.2880474557782553,
          -0.14064096311996244,
          -0.1323295499409789,
          -0.35856455065640275,
          -0.13234602911041493,
          -0.1912929400676168,
          -0.15724409428137934,
          -0.3220176549596842,
          -0.030354970835995226,
          -0.13180850443670775,
          -0.1573797945059971,
          -0.15711548634574485,
          0.49352967750198906,
          -0.4063953498919891,
          -0.34138991576551636,
          -0.24087788237324456,
          -0.16245741027237945,
          -0.1568558111968444,
          -0.4395824731078861,
          -0.24116248567629245,
          -0.36462802165359964,
          -0.15550667784000316,
          -0.15469980822349833,
          -0.27269754207723085,
          -0.1634316137896673,
          -0.2875697757173831,
          0.3562368211068633,
          -0.3147243979080621,
          -0.26502656326275886,
          -0.24119781468813975,
          -0.15701128999936823,
          -0.09735707890163789,
          -0.1533421945801253,
          -0.17290430557503964,
          -0.3221248515024254,
          -0.08432003306071686,
          -0.1559448395375744,
          -0.32218840065906,
          0.2610032430966567,
          -0.2433070708320716,
          -0.32189381474338685,
          -0.27256774383595317,
          -0.24035969599830517,
          -0.17301405652046387,
          -0.1561928474274468,
          -0.1535143458605353,
          -0.40356988940808836,
          0.8771780293878989,
          -0.3219888614752435,
          0.10023514438453751,
          -0.3579294291411684,
          -0.15717001723345336,
          -0.24116116220944483,
          -0.40424049702603226,
          -0.32073488319248705,
          -0.31840739089926395,
          -0.3645826643054099,
          -0.40513264057647874,
          -0.15737985293515608,
          -0.3440635439066671,
          -0.298223892138198,
          -0.3219319066650497,
          -0.3203724785767073,
          -0.23905382611132484,
          -0.24131103368498308,
          -0.3460696003352237,
          -0.2739110514500714,
          -0.4058700597420947,
          -0.32113708510043637,
          0.28416245013663327,
          -0.3221694583378327,
          -0.1572711025525683,
          -0.40638457538484984,
          -0.32212073246955775,
          -0.11244235877988289,
          -0.32227715084909314,
          -0.15455021095822524,
          -0.2725553813379291,
          -0.1572297676851211,
          -0.18327781672602048,
          -0.1570437367492927,
          0.024189305627554187,
          -0.3568877046752448,
          -0.3218915743428802,
          -0.3925697161696701,
          -0.15528948532624384,
          -0.35621650811680367,
          -0.24048170071075867,
          -0.44341071476970567,
          -0.3559679222604487,
          -0.2900091896392678,
          -0.16317402425848768,
          -0.16069504813242083,
          3.7647343504515365,
          -0.4059776379483499,
          -0.08424305893983372,
          -0.2279074620793544,
          0.8433294626937372,
          -0.40633952386691674,
          -0.35735092261812096,
          -0.32181951916173146,
          -0.3219737691188707,
          -0.23914242400014554,
          -0.3579294291411684,
          -0.40591521818556464,
          -0.3220322173678285,
          -0.32182020564287817,
          -0.40390078138621754,
          -0.3219674503510274,
          -0.31756402466379957,
          -0.40636850781182643,
          0.28415672024777866,
          -0.32117972198020533,
          0.36822633585221126,
          -0.32216645645787745,
          -0.3222368934680148,
          -0.36294917633477236,
          -0.35535293617004315,
          -0.15736162150374905,
          0.28428731403061297,
          -0.16299700175849272,
          -0.3184706459435525,
          -0.3221458883325598,
          -0.4062785599500183,
          -0.3220150056788953,
          0.4725730274863962,
          -0.32214188812236116,
          -0.16244437398304343,
          -0.2742010797590119,
          -0.22016407950955483,
          -0.15732993540189916,
          -0.2402498212679232,
          -0.23405855849201587,
          -0.16070737925314657,
          -0.30301728288527247,
          -0.15546529688748725,
          -0.16271566621208028,
          -0.2739422078590616,
          -0.1660083988121785,
          -0.4055456123995845,
          -0.4427781881639334,
          -0.40428494312163415,
          -0.128308350124892,
          -0.356177990874321,
          -0.4054435681857855,
          -0.20086414989182877,
          -0.3505843269172246,
          -0.40139088719868066,
          -0.3220852074912864,
          -0.3220844632122316,
          -0.3152195083929354,
          0.2572187071093484,
          -0.4059211869532288,
          -0.1568928882551546,
          -0.2568723438906755,
          -0.12364066511778354,
          -0.3579637878899747,
          -0.32129718060616913,
          0.8677708060187148,
          -0.27310845858878324,
          -0.15671539486912162,
          -0.3428433258427913,
          -0.16230149427474247,
          0.5677036926749254,
          -0.16002247170343226,
          -0.043803782409922574,
          -0.16499277993170788,
          0.3202372126929625,
          -0.36611654641755176,
          -0.24036822597664467,
          -0.36462078010179283,
          -0.4323484891397869,
          -0.15703397659686544,
          -0.2877329439668019,
          -0.1567980087584046,
          -0.24076228924194848,
          -0.24133899354168323,
          0.14188371995167776,
          0.2845511529870923,
          -0.2878035694408025,
          -0.1704838305367968,
          3.2482816736602036,
          -0.11805555761812309,
          -0.34709555607583475,
          -0.2322267701015997,
          -0.4318537167856242,
          -0.15704793802818973,
          -0.4061931139442768,
          -0.2742748989386234,
          -0.08309599508348992,
          -0.3578304334659775,
          1.5884848612336264,
          -0.15713176567565296,
          -0.15658434054271955,
          -0.156285656076374,
          -0.1562725956670643,
          -0.3217208943532518,
          -0.32221984274030674,
          0.2847343313129861,
          -0.2632662875091712,
          0.6593451344071333,
          -0.40613413692150707,
          0.05129184344597919,
          -0.35088058261572597,
          -0.1957719852406684,
          -0.3221755903760493,
          -0.19078939696486905,
          -0.3219148874700223,
          -0.1605535681061218,
          0.4461889092143298,
          -0.32049399855177885,
          -0.3509044183282036,
          -0.40454115419686,
          -0.1717750966861081,
          -0.3221260099107252,
          -0.4090686646349395,
          -0.15546350722974026,
          -0.341778998807176,
          -0.3219964439877598,
          -0.10109841388263262,
          -0.2368893159233359,
          -0.19063507122659787,
          -0.16154256425963087,
          -0.19073509268408867,
          -0.40492865681294704,
          3.769583696273303,
          0.19272459679577889,
          -0.28447840816610614,
          -0.12259018227372069,
          -0.3194601936984875,
          1.1207888247240312,
          0.2841395768353634,
          -0.08656793056865307,
          -0.3182054641246891,
          -0.36283520309857514,
          -0.23663283794160492,
          -0.1514287259182927,
          0.0914214356050653,
          -0.32113676364998883,
          -0.07361935903380241,
          -0.40550856693610865,
          1.0713914233636335,
          -0.2413130173790073,
          -0.1907869039391131,
          -0.3620013990633536,
          -0.18383364464676996,
          -0.15638365403047783,
          -0.3087177341158175,
          -0.3222419571756185,
          -0.3585365083615944,
          -0.2412385026993914,
          -0.15702734167750612,
          -0.21089373515672774,
          -0.3443451905742267,
          -0.2808823155913005,
          -0.22272524850898748,
          8.007965921884498,
          -0.17910269321210473,
          -0.3177923017240749,
          0.28800856509706985,
          0.035443767441147224,
          -0.1712781412960365,
          -0.18950111984112694,
          -0.2320581699026081,
          -0.15695678530569263,
          0.14975279317227327,
          -0.2353875344996651,
          -0.37583684121659083,
          -0.4062104836141439,
          -0.29923201364107993,
          -0.27343640258816115,
          -0.30327967302886155,
          -0.11466748852051326,
          0.2920486857780482,
          -0.15719347010669707,
          -0.16214293702488386,
          -0.3657161365055678,
          -0.32226928416503525,
          -0.322251025428403,
          -0.1595457631806071,
          -0.26782502845321265,
          -0.15307694294396393,
          -0.3449958252390992,
          -0.3574254041157327,
          -0.3219679525903733,
          3.9690994033682196,
          -0.24040897144552373,
          -0.4077376143061894,
          -0.35761387211573514,
          0.2843219223123336,
          -0.3269716314761128,
          -0.26891947830417373,
          -0.2009233296550671,
          -0.16284248748972077,
          -0.25759814547788873,
          -0.17114374936011606,
          -0.27396939591498654,
          -0.1553737090379314,
          0.2882423645727531,
          0.5705761844014242,
          2.0899739947434197,
          -0.12560861581727384,
          -0.27422143787025904,
          -0.15210702093493803,
          -0.355213892589458,
          0.2979091341357365,
          -0.3214428232220896,
          -0.21669638706931632,
          2.270906373923395,
          -0.35855165431796987,
          -0.2732352176480671,
          1.042519338140044,
          -0.20985422885764285,
          -0.1724019736567246,
          -0.2412952000695496,
          -0.3739839111470485,
          -0.36294866526580677,
          -0.41074993404127075,
          -0.15518344382606464,
          -0.3695184110852006,
          -0.3616697794644088,
          -0.15721804552861054,
          -0.3151596411554155,
          -0.15131536181541158,
          -0.1590945024649078,
          -0.13308672981825936,
          3.089824296179094,
          -0.3581145074997292,
          -0.4056844045843017,
          -0.27147072284305174,
          -0.3567154350289888,
          -0.11692075714895127,
          -0.34305316048862766,
          -0.3579763769624274,
          -0.2412666202165807,
          -0.18200658508347445,
          -0.13905270904778508,
          -0.2092830234057847,
          -0.055436842076051054,
          -0.2515500851245655,
          -0.1547725138143678,
          -0.15704797556880348,
          0.586749210400902,
          -0.14863447067998134,
          0.3639576069481237,
          -0.41004548084357406,
          -0.15474383727452012,
          -0.15513489136936795,
          -0.27723890006800667,
          -0.16873251075692078,
          -0.15611194625035635,
          -0.32197184481581753,
          -0.1586171067311449,
          -0.4105009764072002,
          -0.16038658546037818,
          -0.3630654939063222,
          0.5832561343782862,
          -0.19050532514505505,
          -0.3585907743279786,
          -0.32145567629147626,
          -0.29369533255973723,
          -0.31000801928022476,
          -0.4032539815223363,
          -0.1563249792147513,
          -0.12326660978528842,
          -0.15519459199879881,
          -0.405911308294708,
          3.7818125318701057,
          0.11234992839875788,
          0.5373658060235962,
          -0.40345240504315466,
          -0.11603738753700638,
          -0.32084260674107995,
          -0.1056951576400236,
          -0.3216657545296375,
          -0.274448168895211,
          -0.3221832527888769,
          -0.39754907023988106,
          -0.140791449706087,
          -0.23603790611346098,
          -0.10196693758282753,
          -0.39330475560560246,
          -0.15683842246778776,
          -0.3214622055567469,
          0.5575404092294972,
          -0.3145347163903017,
          -0.21008816404838507,
          -0.40248386160834887,
          -0.319903748252279,
          -0.3582047721388936,
          -0.15729468086762108,
          -0.15525331919697122,
          -0.40396364203882984,
          -0.3206707389397627,
          3.765125586908946,
          -0.08172488829061543,
          -0.31710170031774715,
          -0.35550099989379047,
          -0.13308045373157493,
          -0.28820228079056054,
          -0.13327936493982073,
          3.7749881250840924,
          -0.16320714558764868,
          3.776231394031282,
          -0.25536681990663523,
          -0.35814068010338285,
          -0.3914985400251555,
          2.4842764363147034,
          -0.3203497452458382,
          0.30586996422936696,
          -0.16067450166618605,
          -0.2746172552746843
         ],
         "y": [
          0.9682211240656292,
          0.9685232791398257,
          1.678472572319443,
          -1.290435581792784,
          -2.0004453288769253,
          -1.1232988744486088,
          1.20594327907744,
          -2.1513970312806174,
          -2.000525118324166,
          -1.98131636760193,
          1.074619505522709,
          -1.7914543188020673,
          0.8010734899724079,
          0.6449543000123944,
          -1.123301861376541,
          1.8158449833870753,
          -0.885572434764018,
          -1.1233156432143192,
          0.9682233200228543,
          0.9685289975299647,
          -1.7886949922145203,
          -1.2742254299410258,
          -1.2904202842088077,
          -1.1233321893338832,
          -1.1233321417477655,
          0.9682807500396249,
          -0.4550991862471192,
          -1.2032476360007627,
          -1.1232991299763389,
          0.9682209481700834,
          -1.1233011580295507,
          0.9682212344867789,
          -1.1232992877823114,
          -0.8855746297841667,
          -0.048766595224477995,
          0.8882787785034763,
          -1.7875156168863944,
          -1.2895936982747305,
          -1.122527139110885,
          -1.1232945247434254,
          -1.1233081869362262,
          -1.1232995331887716,
          1.6273416029534837,
          0.23839819978489676,
          -1.1233002647876262,
          -1.6011286407202323,
          -1.1234263911759585,
          -1.1232920958642336,
          -1.1233046137421938,
          0.9682172100575349,
          1.0506327098493133,
          -1.115011067745488,
          1.2059474554267717,
          -1.2904340496667897,
          -1.1233273455215664,
          -1.123294899250841,
          -1.1232963978243375,
          2.06703527785353,
          -1.1232944248703054,
          -2.0904991513843414,
          0.8224102744334533,
          -1.123297520497097,
          0.800912590081568,
          0.8120944927381479,
          1.7877966412196997,
          -1.1280456688789364,
          -1.2904371277764453,
          -1.123266686034894,
          1.7877719644314003,
          0.490419923540734,
          0.9681639362644093,
          0.9682184402171852,
          0.9824250048661765,
          -1.1233041212361883,
          -1.1233829307143293,
          -1.1233041255658807,
          1.0498440076016757,
          1.2059475504175972,
          -1.290512091311525,
          0.14666210725589374,
          -1.29043339735959,
          1.6757790537941144,
          1.2059443135526056,
          -1.2904414091574583,
          -1.290466353622407,
          -1.290436014792583,
          -0.8855693911472664,
          0.9681247139571747,
          0.9682061594244037,
          -1.1232942253145044,
          0.352908347808798,
          -1.1585736513694118,
          -1.12334277287557,
          1.2059487562899733,
          0.14671097582444947,
          -1.2904347098831686,
          1.7877806553817492,
          0.9678997834552328,
          -2.2102024878989557,
          -2.227466392498327,
          -0.4502121980584886,
          1.6484921933204126,
          -1.1233046776526259,
          0.8010737405701774,
          0.888304672255854,
          -1.123755626660287,
          0.8121061840545882,
          -1.1232951697685694,
          1.7877608843061434,
          -1.1232973470652847,
          0.8119811094969819,
          -1.1232855117079659,
          0.9682218352552129,
          1.7877641290112225,
          -1.1233054491262464,
          -2.2041106218660427,
          1.0498128812664493,
          -1.7886953423657306,
          -1.5799881274588696,
          -1.123292814352089,
          0.9682188858561181,
          -1.1249930588505257,
          -2.218110345342304,
          -1.1232963456225658,
          -1.2904382294607453,
          -1.1594564390991564,
          1.2059482836551776,
          2.4380700262798514,
          -0.8855673346824605,
          -2.184454671456568,
          -1.2904499986763405,
          1.6673268423072825,
          -0.8855705437466602,
          0.8751977007425801,
          -1.1233632574998058,
          -1.1233580268881151,
          0.8121021599480871,
          -2.0004990635038773,
          1.787756133228788,
          -2.0785277277437495,
          0.8007093313180021,
          1.8159663926229064,
          -0.8855685766559223,
          -1.2904340941803678,
          0.8428644628551558,
          -1.1232771931002632,
          -2.106974338375224,
          0.8010746435241416,
          1.2008401222950793,
          -1.1232955812582748,
          0.8010798705999879,
          -1.2884027222180219,
          1.473226793925477,
          0.9682089762404388,
          0.8120257410308451,
          -0.8855811351301973,
          -2.2021976373851166,
          -1.123362263437035,
          -2.0756867348818706,
          1.2058016637083078,
          0.7910948027120224,
          0.8010679114680973,
          -0.052229051439705056,
          1.6273406804881834,
          -1.1233010795087106,
          -0.8855731865871526,
          1.2059832660258618,
          0.8009945509233355,
          0.8008832376067405,
          1.4683530371934075,
          1.2059047333356085,
          -1.1232963458997274,
          1.6121695913257021,
          0.9678289921631944,
          0.9682058921754527,
          0.968230271293881,
          1.6315603232892528,
          -0.8855791345939057,
          1.0498795362094153,
          -1.3633125722268356,
          1.2059354389790407,
          0.9682066644749772,
          -2.226882446200738,
          0.8010735470369068,
          -1.290436815311805,
          1.2059466897431048,
          0.9682141211380773,
          -1.7887140273932622,
          0.9682220639703354,
          -1.123318397696188,
          0.8121751860716178,
          -1.2904357828447697,
          0.28516988013185346,
          -1.123302806180256,
          1.8668787508971416,
          1.6273456363734666,
          0.9682373664930776,
          1.2054862248495437,
          -2.1530124148690635,
          1.627395185083689,
          1.6316367382666699,
          1.7696912714237636,
          1.6272291781429749,
          1.8628280085794056,
          -2.000495106595786,
          -1.9813172249571958,
          1.7616012717817235,
          1.2059446463086376,
          -1.127131736079205,
          -0.885367256549524,
          1.8320994921279605,
          1.2059479027131093,
          1.6273434246578111,
          0.9682142563287901,
          0.9682058030604614,
          -0.8856298579448001,
          1.6273406804881834,
          1.2059269083449955,
          0.8010796676132984,
          0.9682179621652683,
          0.7046258637949092,
          0.9682154876148273,
          0.9679706741126356,
          1.2059459797403258,
          -2.226890085859965,
          0.9681685848954792,
          0.8156962402073061,
          0.9682176972034673,
          0.9682214273647046,
          1.4802607513086352,
          0.5115099749231228,
          -1.123297035951919,
          -2.226887598299828,
          -2.184438493427373,
          0.9680362135123999,
          0.8010744824687499,
          1.2059466156303595,
          0.9682189909991414,
          -0.9246142336418585,
          0.9682126526071921,
          -2.1514727639069386,
          0.8120728113323004,
          0.2671449789161785,
          -1.123296213522235,
          1.6316378381964007,
          -0.8859482981515672,
          -1.981315018981687,
          0.9683125963827072,
          -1.1232873309268425,
          -2.1844347402112017,
          0.8120969486077682,
          -2.1353626356319033,
          1.2059146233773466,
          1.7854017421047057,
          1.2059579176291084,
          -1.124837524054207,
          1.6273493493343207,
          1.2059186732452123,
          -0.6231836085925773,
          1.6273761286626034,
          1.2058099770076047,
          0.968215388095618,
          0.9682104393756941,
          0.9678283219771626,
          0.615523791494101,
          1.2059401482873677,
          -1.1233005392720194,
          0.8114499220816505,
          -1.2907801541114718,
          1.6273325784657633,
          0.968190203082856,
          1.8002961549836387,
          0.6448797705747226,
          -1.123318076487082,
          1.6121732081379267,
          -2.151413186076555,
          1.8415220564109762,
          -2.095835631250986,
          -2.0946335889975067,
          -2.0847964530043974,
          -2.226791677558711,
          1.4683460687340733,
          -0.8855922551244361,
          1.4683313092364545,
          1.872412772956591,
          -1.1232951930896995,
          1.787763134335013,
          -1.1233233767402755,
          -0.8855809408101531,
          -0.8855761338151873,
          0.952951326679372,
          -2.2268966686212908,
          1.7877678122550498,
          -2.293055577660811,
          -1.122902406250854,
          -1.142781704978982,
          1.5924676521800465,
          -0.8859429833986101,
          1.872432409176848,
          -1.2904355486447487,
          1.2059499034784353,
          0.8120952141074939,
          -1.1274231327944506,
          1.627316577590651,
          -1.0540071277365903,
          -1.1232995614044596,
          -1.1233209613800337,
          -1.1233198888367322,
          -1.1233193705032571,
          0.968211626142144,
          0.9682215082455367,
          -2.226912908328431,
          1.074682546048119,
          1.700907369613389,
          1.2059404567979153,
          -1.9870405376884541,
          0.49035111848673213,
          -0.8849678773147195,
          0.9682154928693334,
          -1.6011062751903422,
          0.7768261801728069,
          -1.9813116099851087,
          0.9818744374144842,
          0.8010868081850638,
          1.4681479270831093,
          1.8320055645360285,
          -2.2022335770109907,
          0.9682139116902447,
          1.6363259336728275,
          -1.1232872599000094,
          1.5706963530196811,
          0.9682232395392801,
          0.645776652010466,
          -0.8856226466256538,
          -1.6011122795499855,
          -2.0006013754209064,
          -1.60110735443403,
          1.2059094597107112,
          1.7615410391210098,
          1.4703165093003856,
          1.7877710069017496,
          -1.788752893624926,
          0.9681923549445764,
          -2.250948711223275,
          -2.2268850385856145,
          -2.0041755663593563,
          1.3122153915419679,
          1.4802619054014035,
          -0.885747235957036,
          -2.151584412985839,
          0.9509486106388384,
          0.9681662467510695,
          -1.1233409024379521,
          1.2059497856827315,
          -1.2694448751999419,
          -0.8855757093464737,
          -1.6011021332005286,
          1.4802276127663436,
          -1.6011489465412483,
          -1.1232995198302764,
          0.968153744523263,
          0.9682207653497288,
          1.0498133203504056,
          -0.8855749083461368,
          -1.2904341692457852,
          -1.189120663827955,
          1.6121641411578798,
          -0.06510794066837385,
          0.2672429199491523,
          -2.5941795131378016,
          -2.234575973404515,
          0.9682437247034517,
          -2.226949476243066,
          -1.1223816790784693,
          -2.2021759123465654,
          -1.1586858490965433,
          1.6314336577669935,
          -1.1233060937185244,
          -1.1235100236212594,
          -0.8856641210536675,
          0.9023979785075937,
          1.2059387744801455,
          1.4528333557079995,
          0.8120566643149256,
          1.6794036391595952,
          -2.002932319546827,
          -2.2272365650846755,
          -1.1233026841332472,
          -2.2681336698076735,
          1.4683350063015916,
          0.9682203546543724,
          0.9682197316131442,
          -1.9813046310708546,
          0.8120260007228991,
          -2.1531123370527467,
          1.5755338825169594,
          1.6273148627104623,
          0.9682141199995472,
          1.8323432983491723,
          -0.8855938722054935,
          1.63637875957793,
          1.6273127736394914,
          -2.2268817774347145,
          0.7005869456453893,
          0.9668883078313679,
          -0.6231675937578794,
          -2.1844433312982727,
          1.1221037559271234,
          -2.219283487855748,
          0.812101547657272,
          -2.153008412617031,
          -2.2271180918209326,
          -2.0845295585708175,
          -2.2791945818856116,
          0.9691541417351597,
          0.8120794156270575,
          -1.974488488607407,
          1.8652306736070778,
          -2.227003979222132,
          0.9681985735769792,
          1.6598213609841135,
          0.2239784435121213,
          1.48000738819033,
          0.6449420040278954,
          1.628484078560012,
          -1.2347916556893044,
          -2.1835877460637003,
          -0.8855758108337057,
          0.8567160556793432,
          1.4802567285434816,
          1.6363905058034376,
          0.8054589290792552,
          0.932937921230458,
          1.4802542507077492,
          -1.1233044042393654,
          0.9678306979511879,
          -2.1520856442550906,
          -2.2584260411020325,
          -0.6387361856818924,
          -2.1087496311266833,
          1.0498071578543793,
          1.2059428071465212,
          0.8120430345765871,
          1.627260830880429,
          -1.2902439220026793,
          0.9494736464899599,
          1.049782317032936,
          -0.8855773719395444,
          0.9616598913032428,
          0.32461143272637266,
          -1.2348214946554477,
          -1.9822468457939306,
          1.2967122602706407,
          -2.153034080091281,
          -1.2904355501346376,
          1.1941628569886693,
          1.0581579337248408,
          -2.2291534849490775,
          1.636385547231323,
          -2.104373434909633,
          -2.1043351208279546,
          -0.04595701622907077,
          -2.275648776544933,
          -1.1233264715753624,
          0.9682200300995172,
          -1.9813976917397098,
          1.6363910299940108,
          -1.9813116444764363,
          1.480257233329955,
          0.9537569773793455,
          -1.5800242532189666,
          1.0498120426699402,
          0.9681980634722827,
          1.4527566018972327,
          1.8637229537954403,
          1.205789942976918,
          -1.2904358314792925,
          -0.3037531637960286,
          -1.290461048869293,
          1.2059472787590515,
          1.761689448932748,
          0.9618868281210418,
          -1.16182713012643,
          1.2060650814365599,
          -1.600816735223232,
          0.9681442290013147,
          -2.1070728764380133,
          0.9682097686737838,
          0.644947275318153,
          0.9682257905386784,
          1.2059624486712999,
          -1.1233114215451299,
          0.9645693397138329,
          0.8096989297773496,
          1.2057939737360497,
          -1.2904413841888176,
          0.9682442993964769,
          -1.12861468362462,
          0.9682598043944652,
          -1.2032443828459198,
          1.2059633613891654,
          0.9682084434926765,
          1.627337165099917,
          -1.1232959194618326,
          -1.123334173078201,
          0.7595760132830033,
          0.8010764246146871,
          1.7615932694710719,
          0.8130043816793971,
          0.968225311654146,
          0.4903967389718383,
          -1.7887263765132595,
          1.787764641964165,
          -2.2486553407582033,
          1.7620924474394508,
          -2.000495263708139,
          1.7621417895311837,
          0.645044873447962,
          1.627339955276721,
          1.8342367039034528,
          0.778251952616408,
          0.968130097316718,
          -2.2269577212504714,
          -1.9813164095217075,
          0.8120926818482206
         ],
         "z": [
          -0.5860334971963672,
          -0.5866155819681178,
          -0.7526263490792923,
          0.1998993421391273,
          0.4037299765899797,
          0.03502444333997239,
          -0.5729682820025312,
          0.460615799829657,
          0.4037027522158143,
          0.44132272936476835,
          0.1706021257589022,
          0.3070567758465266,
          -0.42119136082861414,
          -0.09396885166082783,
          0.0350600057399202,
          -0.8198503050677773,
          0.048129695558226486,
          0.035051830478599326,
          -0.586044388204782,
          -0.5863467602515312,
          0.31405772368774676,
          -0.009600070977367274,
          0.19980696237337336,
          0.03497264542726673,
          0.0350500331582483,
          -0.5860941669570403,
          0.043291369360871856,
          0.1528695412110143,
          0.03504320232097533,
          -0.5860335763204249,
          0.03505929008018417,
          -0.5860341257698624,
          0.03506144474678743,
          0.04813296148625486,
          -0.7598839489723099,
          -0.46819718874711974,
          0.3053438145246555,
          0.18821250070548137,
          0.027313308786049453,
          0.03505254067219003,
          0.03492251793686719,
          0.03505195814403941,
          -0.15574350945310247,
          -0.10936868338344236,
          0.0350634218748953,
          0.28054275126188516,
          0.03446417968173792,
          0.035024773464154633,
          0.03503635115684313,
          -0.5860914635683359,
          -0.2465620962151842,
          -0.020136519598961507,
          -0.5729725314627543,
          0.19989778319183488,
          0.03495975597026518,
          0.03505343797670854,
          0.03506459067880132,
          -0.8588768342472531,
          0.03504159798967816,
          0.5271825941820302,
          -0.26930468974843147,
          0.035061267520337884,
          -0.4222651771623395,
          -0.25881667344024967,
          -0.7016824812917771,
          0.032154084069944605,
          0.19990091518667402,
          0.03486108246477629,
          -0.7016573725132532,
          -0.3404161085659107,
          -0.5861921294679873,
          -0.5860813579610595,
          -0.6004860301733566,
          0.03506230516052057,
          0.035024275082963116,
          0.03504671908778058,
          -0.2457595869981487,
          -0.5729612713307038,
          0.19952961008064088,
          0.021199355961191484,
          0.1998836910209924,
          -0.38189257591387793,
          -0.5729631396951362,
          0.19989443045624047,
          0.19990019443930887,
          0.19991049471975947,
          0.04813692348013941,
          -0.5867613849187266,
          -0.5860698946635329,
          0.03505120351948472,
          -0.35607470227341215,
          0.17000397529491018,
          0.03497545339450724,
          -0.5729653371222664,
          0.02120125600279764,
          0.19988606518189578,
          -0.7016662156068049,
          -0.5862227721977353,
          0.31340390339591456,
          0.42103704747594956,
          -1.4430408126676613,
          -0.1293214369902487,
          0.03501944512455027,
          -0.42121536289937406,
          -0.468221274658231,
          0.034665270788186854,
          -0.2588202166447076,
          0.034978142774941635,
          -0.701652293312067,
          0.03506489678109802,
          -0.25895107304062814,
          0.03497161235599954,
          -0.5860342208143083,
          -0.701654562336738,
          0.03455825635662966,
          0.47930641117466705,
          -0.24573824058737412,
          0.31509056197052976,
          0.2948189354855382,
          0.03505990097748806,
          -0.5860415446032459,
          0.03162924025683832,
          0.5920521904085956,
          0.03506491468859721,
          0.19990203615698654,
          0.02436417208557048,
          -0.572962016888052,
          -0.9075899498018094,
          0.0481177950619664,
          0.4781941133554368,
          0.19989709934850156,
          -0.7154837320284025,
          0.048127255195842565,
          -0.24203199174570048,
          0.03502478321264407,
          0.034998935292014366,
          -0.2588677461925565,
          0.4037759241164498,
          -0.7016670762207008,
          0.4198286762711923,
          -0.42132571093578647,
          -0.8198067314411809,
          0.048127834874349115,
          0.19989782848466434,
          -0.5274457003931916,
          0.034937336073254374,
          0.4289796773965654,
          -0.4211925345743482,
          -0.5814706309674779,
          0.035021092499260345,
          -0.4211919163835279,
          0.18667736408661328,
          -0.6633757666470703,
          -0.5860428188125099,
          -0.2588524818227104,
          0.04810550880838145,
          0.36348117183335676,
          0.03504539641229161,
          0.39812180627807875,
          -0.5730110667664419,
          -0.2885488705411455,
          -0.4211949770053927,
          -0.7368198582979456,
          -0.1557528956592051,
          0.035059726425763785,
          0.048127879337722244,
          -0.5730363297328741,
          -0.4212146623526791,
          -0.4212574471410779,
          -0.6584631519419878,
          -0.5729894616785968,
          0.035064916534820766,
          -0.13761355399814423,
          -0.5866669826389441,
          -0.5860408853202493,
          -0.5860944286338027,
          -0.37444894620874547,
          0.048133931469888556,
          -0.24613490790495332,
          0.5163141063077115,
          -0.5729747594039099,
          -0.5860652461454795,
          0.4256001262523191,
          -0.4211909026510797,
          0.19990641219068309,
          -0.5729619437960626,
          -0.5860372127153665,
          0.31449008489580904,
          -0.5860344535333017,
          0.034984424404119474,
          -0.25889042660648487,
          0.19990489584612553,
          -0.23206552637909536,
          0.035056320914298306,
          -0.8647832520488783,
          -0.15578581531593694,
          -0.5860500239409958,
          -0.5732662308129048,
          0.4800333150996392,
          -0.1558186791759154,
          -0.37442474136803605,
          -0.9295915273016484,
          -0.15578450508257224,
          -0.854211682638418,
          0.403767097340614,
          0.441323601728836,
          -0.31869739995286706,
          -0.5729738030963916,
          0.033805357027672324,
          0.047673129827032534,
          -0.7471996998294871,
          -0.572963618522509,
          -0.15577117509811148,
          -0.5860464051398758,
          -0.586039590083054,
          0.048080745857221996,
          -0.1557528956592051,
          -0.5729712418431584,
          -0.4211966141328757,
          -0.5860473158753378,
          -0.45465169188981547,
          -0.586042216800574,
          -0.5861145601448241,
          -0.572962253846024,
          0.4256022209999053,
          -0.58605437696143,
          -0.2792586533274496,
          -0.5860367214551138,
          -0.5860355175295263,
          -0.2504309761239016,
          -0.32630078779126,
          0.03506453567703135,
          0.42559762492870046,
          0.4782064527360737,
          -0.5861034700899999,
          -0.4211918544585306,
          -0.5729651485812244,
          -0.5860416515868959,
          0.036241182313345326,
          -0.586036200301239,
          0.46059735364115967,
          -0.2588146529568005,
          -0.12390334843052098,
          0.035063365505906774,
          -0.3744320682104147,
          0.04800622260447981,
          0.4413234220996685,
          -0.5866428118010233,
          0.03500443788205732,
          0.4781969551648222,
          -0.2588285918538338,
          0.581468198104791,
          -0.5729793914557147,
          -0.7754021597426987,
          -0.5730286060237954,
          0.03456842868420451,
          -0.15580832767705052,
          -0.5729835122202998,
          -0.03732335645616635,
          -0.15598513596737285,
          -0.5730794095539139,
          -0.5860386113577398,
          -0.5860373899319011,
          -0.5861500597197548,
          -0.10273475666318654,
          -0.5729743887430685,
          0.03505116446489441,
          -0.2591849481949127,
          0.1989701850767498,
          -0.1557498142133257,
          -0.5860562401963298,
          -0.8503102856352677,
          -0.0939898561709145,
          0.03505017642006695,
          -0.13765156415260543,
          0.4605780321252904,
          -0.6886700365839232,
          0.4092502291761398,
          0.4360408179573899,
          0.3016425446891116,
          0.42448044902860615,
          -0.658414762213192,
          0.0481085636124899,
          -0.658456530846885,
          -0.8039551080647048,
          0.03505411030498312,
          -0.7016638750678101,
          0.03505402073613997,
          0.04811770087060585,
          0.04813402722984169,
          -0.596308437771247,
          0.42559188304558504,
          -0.7016629036684712,
          0.4977761084211183,
          -0.06858380134461349,
          0.17850641391730454,
          -0.17125977721823696,
          0.047949190711716404,
          -0.8039750880353352,
          0.19989930841080272,
          -0.5729685731109255,
          -0.2588180402931398,
          0.03384373441408509,
          -0.15574984642551132,
          -0.03543695586429431,
          0.03505818174568033,
          0.035046916923752475,
          0.035037565748564675,
          0.03503703834117766,
          -0.5860487426419565,
          -0.5860360562922253,
          0.42559039596950216,
          0.17234956504911594,
          -0.08968126040830501,
          -0.5729679915213687,
          0.43631688643594824,
          -0.3405506491869796,
          0.04659564578454915,
          -0.5860358895906166,
          0.2806795126717923,
          -0.12384775600997518,
          0.4413178884614182,
          -0.6128318495473649,
          -0.42124517898709213,
          -0.658827478698687,
          -0.7080630004824965,
          0.3634525359018339,
          -0.5860369996009546,
          -0.577689132538126,
          0.03500436561183262,
          -0.05484652703817712,
          -0.5860432839960774,
          -0.09944531569441066,
          0.048010426895087215,
          0.2806763298053416,
          0.40374420739418343,
          0.280678132851844,
          -0.572996851998314,
          -0.31882970323852255,
          -0.6759017647994889,
          -0.7017648088313463,
          0.3148084016576527,
          -0.5861126350334959,
          0.40621237105051083,
          0.42560147341681176,
          0.40236310535389086,
          -0.3311946147961359,
          -0.25043473162514657,
          0.04803394907888157,
          0.46029048848839893,
          -0.5942706623161289,
          -0.5860550953316249,
          0.032529366308485325,
          -0.5729893572600468,
          0.0683580316876326,
          0.0481331307135064,
          0.28067839561858493,
          -0.25045146276557706,
          0.28047874903110853,
          0.03503542483966156,
          -0.5864295549913376,
          -0.5860351971431327,
          -0.24573920359890597,
          0.04813066371970748,
          0.19989833540916652,
          0.11249009732511293,
          -0.13760362037153595,
          0.10990997199260337,
          -0.10119926258616865,
          0.28309123284301047,
          0.4703624262375685,
          -0.5861762613699949,
          0.42550003515183477,
          0.028972145843158836,
          0.3634229296076536,
          0.16959363629109514,
          -0.37462980788878397,
          0.035054503593984904,
          0.025780215423556564,
          0.04797519122155672,
          -0.5086079383783362,
          -0.5729652472710544,
          -0.5193513972152016,
          -0.25883384389987124,
          -0.023879414330576002,
          0.40290493784810055,
          0.42544936572710906,
          0.03506084289975068,
          0.5759510008419512,
          -0.6584241557625363,
          -0.5860342630171692,
          -0.5860346615510243,
          0.4412854915657071,
          -0.258996750129378,
          0.4799911617716045,
          -0.12940869853197234,
          -0.15576173030523713,
          -0.5860418577259131,
          -0.2834705742367068,
          0.04811020900206089,
          -0.5777428832100305,
          -0.1557554747351204,
          0.42559510935451406,
          -0.022305351392003167,
          -0.5873215099720528,
          -0.037325583045743994,
          0.4782029708944108,
          -0.1884225891348522,
          0.4471748416533385,
          -0.25882892134895064,
          0.48003486981135685,
          0.4255353146112014,
          0.4454394085262925,
          0.38384485296552434,
          -0.5922485063992743,
          -0.25881569421489553,
          0.5315962095519765,
          -0.8528331277083527,
          0.4252127082318349,
          -0.5860539161627503,
          -0.49259571808564634,
          -0.4720818854471978,
          -0.2505009906831879,
          -0.09400164687219041,
          -0.2149653071749096,
          0.2715675869743813,
          0.3903446385550998,
          0.048132614488166026,
          -0.3495524330801589,
          -0.25042998038249215,
          -0.5776542460213959,
          -0.2607707433588988,
          -0.4510724944544237,
          -0.2504682422090057,
          0.035062022535856024,
          -0.5861524772874251,
          0.4604130458657162,
          0.5631173162732315,
          0.10172288156335017,
          0.37492993478051756,
          -0.24575048541666408,
          -0.5729822565580431,
          -0.2588901843363608,
          -0.15576973399967092,
          0.19863106212448603,
          -0.44095085603805056,
          -0.24574844057848433,
          0.048132137958616476,
          -0.5886497419220313,
          0.7502286924804855,
          0.2715577205808644,
          0.4383569059004663,
          -0.19212669109241182,
          0.4800230429051456,
          0.19989930992677363,
          -0.182925417763666,
          -0.25421905616230284,
          0.4237448567773653,
          -0.5776744185015,
          0.48170327073609637,
          0.4817055290444121,
          0.147437848168274,
          0.34593291722963676,
          0.03503393890416308,
          -0.5860432251186952,
          0.44128065008350004,
          -0.5776619473941964,
          0.44131281999801286,
          -0.2504265550868889,
          -0.6099309689620254,
          0.2948040695607096,
          -0.24573723243815068,
          -0.5860533971281952,
          -0.5195004457977043,
          -0.853828594757914,
          -0.5730177255287372,
          0.19987739783358952,
          -0.08055193234701344,
          0.19984936761345612,
          -0.5729764816303083,
          -0.3192388316030758,
          -0.5976567484964695,
          0.023627294167577948,
          -0.5730808593236726,
          0.2783338785404906,
          -0.586058504190645,
          0.48089054875765425,
          -0.5860499522292805,
          -0.09396609204126208,
          -0.5860382453387042,
          -0.5732345503764716,
          0.03456433332828267,
          -0.5877383154371902,
          -0.4300545255006159,
          -0.5733212466306075,
          0.19989440505050016,
          -0.5860648218263572,
          0.014664624917793348,
          -0.5862793510391706,
          0.15285539004563825,
          -0.5730847367000468,
          -0.5861031931766095,
          -0.1557436400797742,
          0.035062219662460745,
          0.0350097682869441,
          -0.36572704887678587,
          -0.42123719484762356,
          -0.3187072838640609,
          -0.2649011093840458,
          -0.5861926303711276,
          -0.3404216331643099,
          0.3151206939249905,
          -0.7016499838083103,
          0.3679380983409319,
          -0.319132643974066,
          0.40376814389632715,
          -0.3191828498451939,
          -0.09457079865738251,
          -0.15574629022929573,
          -0.2418267950156965,
          -0.19885539636495056,
          -0.5860699371677585,
          0.4249590291504024,
          0.44132277201838743,
          -0.2588069943106089
         ]
        },
        {
         "customdata": [
          [
           "VeChainThor Authority"
          ],
          [
           "Proof-of-BibleHash"
          ],
          [
           "SHA-256 + Hive"
          ],
          [
           "Proof-of-Authority"
          ],
          [
           "ECC 256K1"
          ],
          [
           "SHA3-256"
          ],
          [
           "Leased POS"
          ]
         ],
         "hovertemplate": "<b>%{hovertext}</b><br><br>Class=%{marker.color}<br>PC 1=%{x}<br>PC 2=%{y}<br>PC 3=%{z}<br>Algorithm=%{customdata[0]}<extra></extra>",
         "hovertext": [
          "Vechain",
          "BiblePay",
          "LitecoinCash",
          "Poa Network",
          "Acute Angle Cloud",
          "Fiii",
          "Waves"
         ],
         "legendgroup": "1",
         "marker": {
          "color": [
           1,
           1,
           1,
           1,
           1,
           1,
           1
          ],
          "coloraxis": "coloraxis",
          "symbol": "diamond"
         },
         "mode": "markers",
         "name": "1",
         "scene": "scene",
         "showlegend": true,
         "type": "scatter3d",
         "x": [
          4.557362692462839,
          -0.05671677634645989,
          -0.2192245822417206,
          -0.5884664464700541,
          -0.4887739325416204,
          -0.5773948280941039,
          -0.3613516098525082
         ],
         "y": [
          0.14225406510689032,
          1.010695247832543,
          0.6455575895321863,
          6.470915748004822,
          6.152830805874603,
          3.9955084946199486,
          2.5799914708073413
         ],
         "z": [
          12.036140555565122,
          10.275859724490392,
          12.658906674404362,
          11.788229218963895,
          15.229026033977632,
          6.8425077578194236,
          12.183942542019537
         ]
        },
        {
         "customdata": [
          [
           "TRC10"
          ]
         ],
         "hovertemplate": "<b>%{hovertext}</b><br><br>Class=%{marker.color}<br>PC 1=%{x}<br>PC 2=%{y}<br>PC 3=%{z}<br>Algorithm=%{customdata[0]}<extra></extra>",
         "hovertext": [
          "BitTorrent"
         ],
         "legendgroup": "2",
         "marker": {
          "color": [
           2
          ],
          "coloraxis": "coloraxis",
          "symbol": "square"
         },
         "mode": "markers",
         "name": "2",
         "scene": "scene",
         "showlegend": true,
         "type": "scatter3d",
         "x": [
          34.04274411837684
         ],
         "y": [
          2.009685439426493
         ],
         "z": [
          -1.5347969388262381
         ]
        }
       ],
       "layout": {
        "coloraxis": {
         "colorbar": {
          "title": {
           "text": "Class"
          }
         },
         "colorscale": [
          [
           0,
           "#0d0887"
          ],
          [
           0.1111111111111111,
           "#46039f"
          ],
          [
           0.2222222222222222,
           "#7201a8"
          ],
          [
           0.3333333333333333,
           "#9c179e"
          ],
          [
           0.4444444444444444,
           "#bd3786"
          ],
          [
           0.5555555555555556,
           "#d8576b"
          ],
          [
           0.6666666666666666,
           "#ed7953"
          ],
          [
           0.7777777777777778,
           "#fb9f3a"
          ],
          [
           0.8888888888888888,
           "#fdca26"
          ],
          [
           1,
           "#f0f921"
          ]
         ]
        },
        "legend": {
         "title": {
          "text": "Class"
         },
         "tracegroupgap": 0,
         "x": 0,
         "y": 1
        },
        "margin": {
         "t": 60
        },
        "scene": {
         "domain": {
          "x": [
           0,
           1
          ],
          "y": [
           0,
           1
          ]
         },
         "xaxis": {
          "title": {
           "text": "PC 1"
          }
         },
         "yaxis": {
          "title": {
           "text": "PC 2"
          }
         },
         "zaxis": {
          "title": {
           "text": "PC 3"
          }
         }
        },
        "template": {
         "data": {
          "bar": [
           {
            "error_x": {
             "color": "#2a3f5f"
            },
            "error_y": {
             "color": "#2a3f5f"
            },
            "marker": {
             "line": {
              "color": "#E5ECF6",
              "width": 0.5
             }
            },
            "type": "bar"
           }
          ],
          "barpolar": [
           {
            "marker": {
             "line": {
              "color": "#E5ECF6",
              "width": 0.5
             }
            },
            "type": "barpolar"
           }
          ],
          "carpet": [
           {
            "aaxis": {
             "endlinecolor": "#2a3f5f",
             "gridcolor": "white",
             "linecolor": "white",
             "minorgridcolor": "white",
             "startlinecolor": "#2a3f5f"
            },
            "baxis": {
             "endlinecolor": "#2a3f5f",
             "gridcolor": "white",
             "linecolor": "white",
             "minorgridcolor": "white",
             "startlinecolor": "#2a3f5f"
            },
            "type": "carpet"
           }
          ],
          "choropleth": [
           {
            "colorbar": {
             "outlinewidth": 0,
             "ticks": ""
            },
            "type": "choropleth"
           }
          ],
          "contour": [
           {
            "colorbar": {
             "outlinewidth": 0,
             "ticks": ""
            },
            "colorscale": [
             [
              0,
              "#0d0887"
             ],
             [
              0.1111111111111111,
              "#46039f"
             ],
             [
              0.2222222222222222,
              "#7201a8"
             ],
             [
              0.3333333333333333,
              "#9c179e"
             ],
             [
              0.4444444444444444,
              "#bd3786"
             ],
             [
              0.5555555555555556,
              "#d8576b"
             ],
             [
              0.6666666666666666,
              "#ed7953"
             ],
             [
              0.7777777777777778,
              "#fb9f3a"
             ],
             [
              0.8888888888888888,
              "#fdca26"
             ],
             [
              1,
              "#f0f921"
             ]
            ],
            "type": "contour"
           }
          ],
          "contourcarpet": [
           {
            "colorbar": {
             "outlinewidth": 0,
             "ticks": ""
            },
            "type": "contourcarpet"
           }
          ],
          "heatmap": [
           {
            "colorbar": {
             "outlinewidth": 0,
             "ticks": ""
            },
            "colorscale": [
             [
              0,
              "#0d0887"
             ],
             [
              0.1111111111111111,
              "#46039f"
             ],
             [
              0.2222222222222222,
              "#7201a8"
             ],
             [
              0.3333333333333333,
              "#9c179e"
             ],
             [
              0.4444444444444444,
              "#bd3786"
             ],
             [
              0.5555555555555556,
              "#d8576b"
             ],
             [
              0.6666666666666666,
              "#ed7953"
             ],
             [
              0.7777777777777778,
              "#fb9f3a"
             ],
             [
              0.8888888888888888,
              "#fdca26"
             ],
             [
              1,
              "#f0f921"
             ]
            ],
            "type": "heatmap"
           }
          ],
          "heatmapgl": [
           {
            "colorbar": {
             "outlinewidth": 0,
             "ticks": ""
            },
            "colorscale": [
             [
              0,
              "#0d0887"
             ],
             [
              0.1111111111111111,
              "#46039f"
             ],
             [
              0.2222222222222222,
              "#7201a8"
             ],
             [
              0.3333333333333333,
              "#9c179e"
             ],
             [
              0.4444444444444444,
              "#bd3786"
             ],
             [
              0.5555555555555556,
              "#d8576b"
             ],
             [
              0.6666666666666666,
              "#ed7953"
             ],
             [
              0.7777777777777778,
              "#fb9f3a"
             ],
             [
              0.8888888888888888,
              "#fdca26"
             ],
             [
              1,
              "#f0f921"
             ]
            ],
            "type": "heatmapgl"
           }
          ],
          "histogram": [
           {
            "marker": {
             "colorbar": {
              "outlinewidth": 0,
              "ticks": ""
             }
            },
            "type": "histogram"
           }
          ],
          "histogram2d": [
           {
            "colorbar": {
             "outlinewidth": 0,
             "ticks": ""
            },
            "colorscale": [
             [
              0,
              "#0d0887"
             ],
             [
              0.1111111111111111,
              "#46039f"
             ],
             [
              0.2222222222222222,
              "#7201a8"
             ],
             [
              0.3333333333333333,
              "#9c179e"
             ],
             [
              0.4444444444444444,
              "#bd3786"
             ],
             [
              0.5555555555555556,
              "#d8576b"
             ],
             [
              0.6666666666666666,
              "#ed7953"
             ],
             [
              0.7777777777777778,
              "#fb9f3a"
             ],
             [
              0.8888888888888888,
              "#fdca26"
             ],
             [
              1,
              "#f0f921"
             ]
            ],
            "type": "histogram2d"
           }
          ],
          "histogram2dcontour": [
           {
            "colorbar": {
             "outlinewidth": 0,
             "ticks": ""
            },
            "colorscale": [
             [
              0,
              "#0d0887"
             ],
             [
              0.1111111111111111,
              "#46039f"
             ],
             [
              0.2222222222222222,
              "#7201a8"
             ],
             [
              0.3333333333333333,
              "#9c179e"
             ],
             [
              0.4444444444444444,
              "#bd3786"
             ],
             [
              0.5555555555555556,
              "#d8576b"
             ],
             [
              0.6666666666666666,
              "#ed7953"
             ],
             [
              0.7777777777777778,
              "#fb9f3a"
             ],
             [
              0.8888888888888888,
              "#fdca26"
             ],
             [
              1,
              "#f0f921"
             ]
            ],
            "type": "histogram2dcontour"
           }
          ],
          "mesh3d": [
           {
            "colorbar": {
             "outlinewidth": 0,
             "ticks": ""
            },
            "type": "mesh3d"
           }
          ],
          "parcoords": [
           {
            "line": {
             "colorbar": {
              "outlinewidth": 0,
              "ticks": ""
             }
            },
            "type": "parcoords"
           }
          ],
          "pie": [
           {
            "automargin": true,
            "type": "pie"
           }
          ],
          "scatter": [
           {
            "marker": {
             "colorbar": {
              "outlinewidth": 0,
              "ticks": ""
             }
            },
            "type": "scatter"
           }
          ],
          "scatter3d": [
           {
            "line": {
             "colorbar": {
              "outlinewidth": 0,
              "ticks": ""
             }
            },
            "marker": {
             "colorbar": {
              "outlinewidth": 0,
              "ticks": ""
             }
            },
            "type": "scatter3d"
           }
          ],
          "scattercarpet": [
           {
            "marker": {
             "colorbar": {
              "outlinewidth": 0,
              "ticks": ""
             }
            },
            "type": "scattercarpet"
           }
          ],
          "scattergeo": [
           {
            "marker": {
             "colorbar": {
              "outlinewidth": 0,
              "ticks": ""
             }
            },
            "type": "scattergeo"
           }
          ],
          "scattergl": [
           {
            "marker": {
             "colorbar": {
              "outlinewidth": 0,
              "ticks": ""
             }
            },
            "type": "scattergl"
           }
          ],
          "scattermapbox": [
           {
            "marker": {
             "colorbar": {
              "outlinewidth": 0,
              "ticks": ""
             }
            },
            "type": "scattermapbox"
           }
          ],
          "scatterpolar": [
           {
            "marker": {
             "colorbar": {
              "outlinewidth": 0,
              "ticks": ""
             }
            },
            "type": "scatterpolar"
           }
          ],
          "scatterpolargl": [
           {
            "marker": {
             "colorbar": {
              "outlinewidth": 0,
              "ticks": ""
             }
            },
            "type": "scatterpolargl"
           }
          ],
          "scatterternary": [
           {
            "marker": {
             "colorbar": {
              "outlinewidth": 0,
              "ticks": ""
             }
            },
            "type": "scatterternary"
           }
          ],
          "surface": [
           {
            "colorbar": {
             "outlinewidth": 0,
             "ticks": ""
            },
            "colorscale": [
             [
              0,
              "#0d0887"
             ],
             [
              0.1111111111111111,
              "#46039f"
             ],
             [
              0.2222222222222222,
              "#7201a8"
             ],
             [
              0.3333333333333333,
              "#9c179e"
             ],
             [
              0.4444444444444444,
              "#bd3786"
             ],
             [
              0.5555555555555556,
              "#d8576b"
             ],
             [
              0.6666666666666666,
              "#ed7953"
             ],
             [
              0.7777777777777778,
              "#fb9f3a"
             ],
             [
              0.8888888888888888,
              "#fdca26"
             ],
             [
              1,
              "#f0f921"
             ]
            ],
            "type": "surface"
           }
          ],
          "table": [
           {
            "cells": {
             "fill": {
              "color": "#EBF0F8"
             },
             "line": {
              "color": "white"
             }
            },
            "header": {
             "fill": {
              "color": "#C8D4E3"
             },
             "line": {
              "color": "white"
             }
            },
            "type": "table"
           }
          ]
         },
         "layout": {
          "annotationdefaults": {
           "arrowcolor": "#2a3f5f",
           "arrowhead": 0,
           "arrowwidth": 1
          },
          "autotypenumbers": "strict",
          "coloraxis": {
           "colorbar": {
            "outlinewidth": 0,
            "ticks": ""
           }
          },
          "colorscale": {
           "diverging": [
            [
             0,
             "#8e0152"
            ],
            [
             0.1,
             "#c51b7d"
            ],
            [
             0.2,
             "#de77ae"
            ],
            [
             0.3,
             "#f1b6da"
            ],
            [
             0.4,
             "#fde0ef"
            ],
            [
             0.5,
             "#f7f7f7"
            ],
            [
             0.6,
             "#e6f5d0"
            ],
            [
             0.7,
             "#b8e186"
            ],
            [
             0.8,
             "#7fbc41"
            ],
            [
             0.9,
             "#4d9221"
            ],
            [
             1,
             "#276419"
            ]
           ],
           "sequential": [
            [
             0,
             "#0d0887"
            ],
            [
             0.1111111111111111,
             "#46039f"
            ],
            [
             0.2222222222222222,
             "#7201a8"
            ],
            [
             0.3333333333333333,
             "#9c179e"
            ],
            [
             0.4444444444444444,
             "#bd3786"
            ],
            [
             0.5555555555555556,
             "#d8576b"
            ],
            [
             0.6666666666666666,
             "#ed7953"
            ],
            [
             0.7777777777777778,
             "#fb9f3a"
            ],
            [
             0.8888888888888888,
             "#fdca26"
            ],
            [
             1,
             "#f0f921"
            ]
           ],
           "sequentialminus": [
            [
             0,
             "#0d0887"
            ],
            [
             0.1111111111111111,
             "#46039f"
            ],
            [
             0.2222222222222222,
             "#7201a8"
            ],
            [
             0.3333333333333333,
             "#9c179e"
            ],
            [
             0.4444444444444444,
             "#bd3786"
            ],
            [
             0.5555555555555556,
             "#d8576b"
            ],
            [
             0.6666666666666666,
             "#ed7953"
            ],
            [
             0.7777777777777778,
             "#fb9f3a"
            ],
            [
             0.8888888888888888,
             "#fdca26"
            ],
            [
             1,
             "#f0f921"
            ]
           ]
          },
          "colorway": [
           "#636efa",
           "#EF553B",
           "#00cc96",
           "#ab63fa",
           "#FFA15A",
           "#19d3f3",
           "#FF6692",
           "#B6E880",
           "#FF97FF",
           "#FECB52"
          ],
          "font": {
           "color": "#2a3f5f"
          },
          "geo": {
           "bgcolor": "white",
           "lakecolor": "white",
           "landcolor": "#E5ECF6",
           "showlakes": true,
           "showland": true,
           "subunitcolor": "white"
          },
          "hoverlabel": {
           "align": "left"
          },
          "hovermode": "closest",
          "mapbox": {
           "style": "light"
          },
          "paper_bgcolor": "white",
          "plot_bgcolor": "#E5ECF6",
          "polar": {
           "angularaxis": {
            "gridcolor": "white",
            "linecolor": "white",
            "ticks": ""
           },
           "bgcolor": "#E5ECF6",
           "radialaxis": {
            "gridcolor": "white",
            "linecolor": "white",
            "ticks": ""
           }
          },
          "scene": {
           "xaxis": {
            "backgroundcolor": "#E5ECF6",
            "gridcolor": "white",
            "gridwidth": 2,
            "linecolor": "white",
            "showbackground": true,
            "ticks": "",
            "zerolinecolor": "white"
           },
           "yaxis": {
            "backgroundcolor": "#E5ECF6",
            "gridcolor": "white",
            "gridwidth": 2,
            "linecolor": "white",
            "showbackground": true,
            "ticks": "",
            "zerolinecolor": "white"
           },
           "zaxis": {
            "backgroundcolor": "#E5ECF6",
            "gridcolor": "white",
            "gridwidth": 2,
            "linecolor": "white",
            "showbackground": true,
            "ticks": "",
            "zerolinecolor": "white"
           }
          },
          "shapedefaults": {
           "line": {
            "color": "#2a3f5f"
           }
          },
          "ternary": {
           "aaxis": {
            "gridcolor": "white",
            "linecolor": "white",
            "ticks": ""
           },
           "baxis": {
            "gridcolor": "white",
            "linecolor": "white",
            "ticks": ""
           },
           "bgcolor": "#E5ECF6",
           "caxis": {
            "gridcolor": "white",
            "linecolor": "white",
            "ticks": ""
           }
          },
          "title": {
           "x": 0.05
          },
          "xaxis": {
           "automargin": true,
           "gridcolor": "white",
           "linecolor": "white",
           "ticks": "",
           "title": {
            "standoff": 15
           },
           "zerolinecolor": "white",
           "zerolinewidth": 2
          },
          "yaxis": {
           "automargin": true,
           "gridcolor": "white",
           "linecolor": "white",
           "ticks": "",
           "title": {
            "standoff": 15
           },
           "zerolinecolor": "white",
           "zerolinewidth": 2
          }
         }
        },
        "width": 800
       }
      },
      "text/html": [
       "<div>                            <div id=\"c3a6b5a4-49c9-411c-9bb8-7122b1819eea\" class=\"plotly-graph-div\" style=\"height:525px; width:800px;\"></div>            <script type=\"text/javascript\">                require([\"plotly\"], function(Plotly) {                    window.PLOTLYENV=window.PLOTLYENV || {};                                    if (document.getElementById(\"c3a6b5a4-49c9-411c-9bb8-7122b1819eea\")) {                    Plotly.newPlot(                        \"c3a6b5a4-49c9-411c-9bb8-7122b1819eea\",                        [{\"customdata\": [[\"Scrypt\"], [\"Scrypt\"], [\"X13\"], [\"SHA-256\"], [\"Ethash\"], [\"Scrypt\"], [\"X11\"], [\"CryptoNight-V7\"], [\"Ethash\"], [\"Equihash\"], [\"SHA-512\"], [\"Multiple\"], [\"SHA-256\"], [\"SHA-256\"], [\"Scrypt\"], [\"X15\"], [\"X11\"], [\"Scrypt\"], [\"Scrypt\"], [\"Scrypt\"], [\"Multiple\"], [\"Scrypt\"], [\"SHA-256\"], [\"Scrypt\"], [\"Scrypt\"], [\"Scrypt\"], [\"Quark\"], [\"Groestl\"], [\"Scrypt\"], [\"Scrypt\"], [\"Scrypt\"], [\"Scrypt\"], [\"Scrypt\"], [\"X11\"], [\"Scrypt\"], [\"Groestl\"], [\"Multiple\"], [\"SHA-256\"], [\"Scrypt\"], [\"Scrypt\"], [\"Scrypt\"], [\"Scrypt\"], [\"PoS\"], [\"Scrypt\"], [\"Scrypt\"], [\"NeoScrypt\"], [\"Scrypt\"], [\"Scrypt\"], [\"Scrypt\"], [\"Scrypt\"], [\"X11\"], [\"Scrypt\"], [\"X11\"], [\"SHA-256\"], [\"Scrypt\"], [\"Scrypt\"], [\"Scrypt\"], [\"SHA3\"], [\"Scrypt\"], [\"HybridScryptHash256\"], [\"Scrypt\"], [\"Scrypt\"], [\"SHA-256\"], [\"Scrypt\"], [\"X13\"], [\"Scrypt\"], [\"SHA-256\"], [\"Scrypt\"], [\"X13\"], [\"NeoScrypt\"], [\"Scrypt\"], [\"Scrypt\"], [\"Scrypt\"], [\"Scrypt\"], [\"Scrypt\"], [\"Scrypt\"], [\"X11\"], [\"X11\"], [\"SHA-256\"], [\"Multiple\"], [\"SHA-256\"], [\"PHI1612\"], [\"X11\"], [\"SHA-256\"], [\"SHA-256\"], [\"SHA-256\"], [\"X11\"], [\"Scrypt\"], [\"Scrypt\"], [\"Scrypt\"], [\"Scrypt\"], [\"Lyra2REv2\"], [\"Scrypt\"], [\"X11\"], [\"Multiple\"], [\"SHA-256\"], [\"X13\"], [\"Scrypt\"], [\"CryptoNight\"], [\"CryptoNight\"], [\"Shabal256\"], [\"Counterparty\"], [\"Scrypt\"], [\"SHA-256\"], [\"Groestl\"], [\"Scrypt\"], [\"Scrypt\"], [\"Scrypt\"], [\"X13\"], [\"Scrypt\"], [\"Scrypt\"], [\"Scrypt\"], [\"Scrypt\"], [\"X13\"], [\"Scrypt\"], [\"Stanford Folding\"], [\"X11\"], [\"Multiple\"], [\"QuBit\"], [\"Scrypt\"], [\"Scrypt\"], [\"Scrypt\"], [\"M7 POW\"], [\"Scrypt\"], [\"SHA-256\"], [\"Scrypt\"], [\"X11\"], [\"SHA3\"], [\"X11\"], [\"Lyra2RE\"], [\"SHA-256\"], [\"QUAIT\"], [\"X11\"], [\"X11\"], [\"Scrypt\"], [\"Scrypt\"], [\"Scrypt\"], [\"Ethash\"], [\"X13\"], [\"Blake2b\"], [\"SHA-256\"], [\"X15\"], [\"X11\"], [\"SHA-256\"], [\"BLAKE256\"], [\"Scrypt\"], [\"1GB AES Pattern Search\"], [\"SHA-256\"], [\"X11\"], [\"Scrypt\"], [\"SHA-256\"], [\"SHA-256\"], [\"NIST5\"], [\"Scrypt\"], [\"Scrypt\"], [\"X11\"], [\"Dagger\"], [\"Scrypt\"], [\"X11GOST\"], [\"X11\"], [\"Scrypt\"], [\"SHA-256\"], [\"Scrypt\"], [\"PoS\"], [\"Scrypt\"], [\"X11\"], [\"X11\"], [\"SHA-256\"], [\"SHA-256\"], [\"NIST5\"], [\"X11\"], [\"Scrypt\"], [\"POS 3.0\"], [\"Scrypt\"], [\"Scrypt\"], [\"Scrypt\"], [\"X13\"], [\"X11\"], [\"X11\"], [\"Equihash\"], [\"X11\"], [\"Scrypt\"], [\"CryptoNight\"], [\"SHA-256\"], [\"SHA-256\"], [\"X11\"], [\"Scrypt\"], [\"Multiple\"], [\"Scrypt\"], [\"Scrypt\"], [\"Scrypt\"], [\"SHA-256\"], [\"Scrypt\"], [\"Scrypt\"], [\"SHA-256D\"], [\"PoS\"], [\"Scrypt\"], [\"X11\"], [\"Lyra2Z\"], [\"PoS\"], [\"X13\"], [\"X14\"], [\"PoS\"], [\"SHA-256D\"], [\"Ethash\"], [\"Equihash\"], [\"DPoS\"], [\"X11\"], [\"Scrypt\"], [\"X11\"], [\"X13\"], [\"X11\"], [\"PoS\"], [\"Scrypt\"], [\"Scrypt\"], [\"X11\"], [\"PoS\"], [\"X11\"], [\"SHA-256\"], [\"Scrypt\"], [\"X11\"], [\"Scrypt\"], [\"Scrypt\"], [\"X11\"], [\"CryptoNight\"], [\"Scrypt\"], [\"Scrypt\"], [\"Scrypt\"], [\"Scrypt\"], [\"Quark\"], [\"QuBit\"], [\"Scrypt\"], [\"CryptoNight\"], [\"Lyra2RE\"], [\"Scrypt\"], [\"SHA-256\"], [\"X11\"], [\"Scrypt\"], [\"X11\"], [\"Scrypt\"], [\"CryptoNight-V7\"], [\"Scrypt\"], [\"Scrypt\"], [\"Scrypt\"], [\"X13\"], [\"X11\"], [\"Equihash\"], [\"Scrypt\"], [\"Scrypt\"], [\"Lyra2RE\"], [\"Scrypt\"], [\"Dagger-Hashimoto\"], [\"X11\"], [\"Blake2S\"], [\"X11\"], [\"Scrypt\"], [\"PoS\"], [\"X11\"], [\"NIST5\"], [\"PoS\"], [\"X11\"], [\"Scrypt\"], [\"Scrypt\"], [\"Scrypt\"], [\"SHA-256\"], [\"X11\"], [\"Scrypt\"], [\"Scrypt\"], [\"SHA-256\"], [\"PoS\"], [\"Scrypt\"], [\"X15\"], [\"SHA-256\"], [\"Scrypt\"], [\"POS 3.0\"], [\"CryptoNight-V7\"], [\"536\"], [\"Argon2d\"], [\"Blake2b\"], [\"Cloverhash\"], [\"CryptoNight\"], [\"NIST5\"], [\"X11\"], [\"NIST5\"], [\"Skein\"], [\"Scrypt\"], [\"X13\"], [\"Scrypt\"], [\"X11\"], [\"X11\"], [\"Scrypt\"], [\"CryptoNight\"], [\"X13\"], [\"Time Travel\"], [\"Scrypt\"], [\"Keccak\"], [\"SkunkHash v2 Raptor\"], [\"X11\"], [\"Skein\"], [\"SHA-256\"], [\"X11\"], [\"Scrypt\"], [\"Scrypt\"], [\"PoS\"], [\"Scrypt\"], [\"Scrypt\"], [\"Scrypt\"], [\"Scrypt\"], [\"Scrypt\"], [\"Scrypt\"], [\"Scrypt\"], [\"CryptoNight\"], [\"SHA-512\"], [\"Ouroboros\"], [\"X11\"], [\"Equihash\"], [\"NeoScrypt\"], [\"X11\"], [\"Scrypt\"], [\"NeoScrypt\"], [\"Lyra2REv2\"], [\"Equihash\"], [\"Scrypt\"], [\"SHA-256\"], [\"NIST5\"], [\"PHI1612\"], [\"Dagger\"], [\"Scrypt\"], [\"Quark\"], [\"Scrypt\"], [\"POS 2.0\"], [\"Scrypt\"], [\"SHA-256\"], [\"X11\"], [\"NeoScrypt\"], [\"Ethash\"], [\"NeoScrypt\"], [\"X11\"], [\"DPoS\"], [\"NIST5\"], [\"X13\"], [\"Multiple\"], [\"Scrypt\"], [\"CryptoNight\"], [\"CryptoNight\"], [\"Ethash\"], [\"NIST5\"], [\"Quark\"], [\"X11\"], [\"CryptoNight-V7\"], [\"Scrypt\"], [\"Scrypt\"], [\"Scrypt\"], [\"X11\"], [\"BLAKE256\"], [\"X11\"], [\"NeoScrypt\"], [\"Quark\"], [\"NeoScrypt\"], [\"Scrypt\"], [\"Scrypt\"], [\"Scrypt\"], [\"X11\"], [\"X11\"], [\"SHA-256\"], [\"C11\"], [\"POS 3.0\"], [\"Ethash\"], [\"Scrypt\"], [\"CryptoNight\"], [\"SkunkHash\"], [\"Scrypt\"], [\"CryptoNight\"], [\"Scrypt\"], [\"Dagger\"], [\"Lyra2REv2\"], [\"X13\"], [\"Scrypt\"], [\"Scrypt\"], [\"X11\"], [\"C11\"], [\"X11\"], [\"XEVAN\"], [\"Scrypt\"], [\"VBFT\"], [\"Ethash\"], [\"CryptoNight\"], [\"Scrypt\"], [\"IMesh\"], [\"NIST5\"], [\"Scrypt\"], [\"Scrypt\"], [\"Equihash\"], [\"Scrypt\"], [\"Lyra2Z\"], [\"Green Protocol\"], [\"PoS\"], [\"Scrypt\"], [\"Semux BFT consensus\"], [\"X11\"], [\"Quark\"], [\"PoS\"], [\"CryptoNight\"], [\"X16R\"], [\"Scrypt\"], [\"NIST5\"], [\"Lyra2RE\"], [\"XEVAN\"], [\"Tribus\"], [\"Scrypt\"], [\"Lyra2Z\"], [\"CryptoNight\"], [\"CryptoNight Heavy\"], [\"CryptoNight\"], [\"Scrypt\"], [\"Scrypt\"], [\"Jump Consistent Hash\"], [\"SHA-256D\"], [\"CryptoNight\"], [\"Scrypt\"], [\"X15\"], [\"Scrypt\"], [\"Quark\"], [\"SHA-256\"], [\"DPoS\"], [\"X16R\"], [\"HMQ1725\"], [\"X11\"], [\"X16R\"], [\"Quark\"], [\"Quark\"], [\"Scrypt\"], [\"Lyra2REv2\"], [\"Quark\"], [\"Scrypt\"], [\"Scrypt\"], [\"CryptoNight-V7\"], [\"Cryptonight-GPU\"], [\"XEVAN\"], [\"CryptoNight Heavy\"], [\"X11\"], [\"X11\"], [\"Scrypt\"], [\"PoS\"], [\"SHA-256\"], [\"Keccak\"], [\"X11\"], [\"X11\"], [\"Scrypt\"], [\"SHA-512\"], [\"X16R\"], [\"Equihash\"], [\"XEVAN\"], [\"Lyra2Z\"], [\"SHA-256\"], [\"XEVAN\"], [\"X11\"], [\"CryptoNight\"], [\"Quark\"], [\"Blake\"], [\"Blake\"], [\"Equihash\"], [\"Exosis\"], [\"Scrypt\"], [\"Scrypt\"], [\"Equihash\"], [\"Quark\"], [\"Equihash\"], [\"Quark\"], [\"Scrypt\"], [\"QuBit\"], [\"X11\"], [\"Scrypt\"], [\"XEVAN\"], [\"SHA-256D\"], [\"X11\"], [\"SHA-256\"], [\"X13\"], [\"SHA-256\"], [\"X11\"], [\"DPoS\"], [\"Scrypt\"], [\"Scrypt\"], [\"X11\"], [\"NeoScrypt\"], [\"Scrypt\"], [\"Blake\"], [\"Scrypt\"], [\"SHA-256\"], [\"Scrypt\"], [\"X11\"], [\"Scrypt\"], [\"Scrypt\"], [\"SHA-256\"], [\"X11\"], [\"SHA-256\"], [\"Scrypt\"], [\"Scrypt\"], [\"Scrypt\"], [\"Groestl\"], [\"X11\"], [\"Scrypt\"], [\"PoS\"], [\"Scrypt\"], [\"Scrypt\"], [\"X11\"], [\"SHA-256\"], [\"DPoS\"], [\"Scrypt\"], [\"Scrypt\"], [\"NeoScrypt\"], [\"Multiple\"], [\"X13\"], [\"Equihash+Scrypt\"], [\"DPoS\"], [\"Ethash\"], [\"DPoS\"], [\"SHA-256\"], [\"PoS\"], [\"PoS\"], [\"SHA-256\"], [\"Scrypt\"], [\"CryptoNight\"], [\"Equihash\"], [\"Scrypt\"]], \"hovertemplate\": \"<b>%{hovertext}</b><br><br>Class=%{marker.color}<br>PC 1=%{x}<br>PC 2=%{y}<br>PC 3=%{z}<br>Algorithm=%{customdata[0]}<extra></extra>\", \"hovertext\": [\"42 Coin\", \"404Coin\", \"EliteCoin\", \"Bitcoin\", \"Ethereum\", \"Litecoin\", \"Dash\", \"Monero\", \"Ethereum Classic\", \"ZCash\", \"Bitshares\", \"DigiByte\", \"BitcoinDark\", \"PayCoin\", \"ProsperCoin\", \"KoboCoin\", \"Spreadcoin\", \"Argentum\", \"Aurora Coin\", \"BlueCoin\", \"MyriadCoin\", \"MoonCoin\", \"ZetaCoin\", \"SexCoin\", \"Quatloo\", \"EnergyCoin\", \"QuarkCoin\", \"Riecoin\", \"Digitalcoin \", \"BitBar\", \"Catcoin\", \"CryptoBullion\", \"CannaCoin\", \"CryptCoin\", \"CasinoCoin\", \"Diamond\", \"Verge\", \"DevCoin\", \"EarthCoin\", \"E-Gulden\", \"Einsteinium\", \"Emerald\", \"Exclusive Coin\", \"FlutterCoin\", \"Franko\", \"FeatherCoin\", \"GrandCoin\", \"GlobalCoin\", \"GoldCoin\", \"HoboNickels\", \"HyperStake\", \"Infinite Coin\", \"IOCoin\", \"IXcoin\", \"KrugerCoin\", \"LuckyCoin\", \"Litebar \", \"MaxCoin\", \"MegaCoin\", \"MediterraneanCoin\", \"MintCoin\", \"MinCoin\", \"MazaCoin\", \"Nautilus Coin\", \"NavCoin\", \"NobleCoin\", \"Namecoin\", \"NyanCoin\", \"OpalCoin\", \"Orbitcoin\", \"PotCoin\", \"PhoenixCoin\", \"Reddcoin\", \"RonPaulCoin\", \"StableCoin\", \"SmartCoin\", \"SuperCoin\", \"SyncCoin\", \"SysCoin\", \"TeslaCoin\", \"TigerCoin\", \"TittieCoin\", \"TorCoin\", \"TerraCoin\", \"UnbreakableCoin\", \"Unobtanium\", \"UroCoin\", \"UnitaryStatus Dollar\", \"UltraCoin\", \"ViaCoin\", \"VeriCoin\", \"Vertcoin\", \"WorldCoin\", \"X11 Coin\", \"Crypti\", \"JouleCoin\", \"StealthCoin\", \"ZCC Coin\", \"ByteCoin\", \"DigitalNote \", \"BurstCoin\", \"StorjCoin\", \"MonaCoin\", \"Neutron\", \"FairCoin\", \"Gulden\", \"RubyCoin\", \"PesetaCoin\", \"Kore\", \"Wild Beast Coin\", \"Dnotes\", \"Flo\", \"8BIT Coin\", \"Sativa Coin\", \"ArtByte\", \"Folding Coin\", \"Ucoin\", \"Unitus\", \"CypherPunkCoin\", \"OmniCron\", \"Vtorrent\", \"GreenCoin\", \"Cryptonite\", \"MasterCoin\", \"SoonCoin\", \"1Credit\", \"IslaCoin\", \"Nexus\", \"MarsCoin \", \"Crypto\", \"Anarchists Prime\", \"Droidz\", \"BowsCoin\", \"Squall Coin\", \"Song Coin\", \"BitZeny\", \"Diggits\", \"Expanse\", \"Paycon\", \"Siacoin\", \"Emercoin\", \"EverGreenCoin\", \"MindCoin\", \"I0coin\", \"Decred\", \"Revolution VR\", \"HOdlcoin\", \"EDRCoin\", \"Hitcoin\", \"Gamecredits\", \"DubaiCoin\", \"CarpeDiemCoin\", \"PWR Coin\", \"BillaryCoin\", \"GPU Coin\", \"Adzcoin\", \"SoilCoin\", \"YoCoin\", \"SibCoin\", \"EuropeCoin\", \"ZeitCoin\", \"SwingCoin\", \"SafeExchangeCoin\", \"Nebuchadnezzar\", \"Francs\", \"BolivarCoin\", \"Ratecoin\", \"Revenu\", \"Clockcoin\", \"VIP Tokens\", \"BitSend\", \"Omni\", \"Let it Ride\", \"PutinCoin\", \"iBankCoin\", \"Frankywillcoin\", \"MudraCoin\", \"PizzaCoin\", \"Lutetium Coin\", \"Komodo\", \"GoldBlocks\", \"CarterCoin\", \"Karbo\", \"BitTokens\", \"ZayedCoin\", \"MustangCoin\", \"ZoneCoin\", \"Circuits of Value\", \"RootCoin\", \"DopeCoin\", \"BitCurrency\", \"DollarCoin\", \"Swiscoin\", \"Shilling\", \"BuzzCoin\", \"Opair\", \"PesoBit\", \"Halloween Coin\", \"ZCoin\", \"CoffeeCoin\", \"RoyalCoin\", \"GanjaCoin V2\", \"TeamUP\", \"LanaCoin\", \"Elementrem\", \"ZClassic\", \"ARK\", \"InsaneCoin\", \"KiloCoin\", \"ArtexCoin\", \"EmberCoin\", \"XenixCoin\", \"FreeCoin\", \"PLNCoin\", \"AquariusCoin\", \"Kurrent\", \"Creatio\", \"Eternity\", \"Eurocoin\", \"BitcoinFast\", \"Stakenet\", \"BitConnect Coin\", \"MoneyCoin\", \"Enigma\", \"Cannabis Industry Coin\", \"Russiacoin\", \"PandaCoin\", \"GameUnits\", \"GAKHcoin\", \"Allsafe\", \"LiteCreed\", \"OsmiumCoin\", \"Bikercoins\", \"HexxCoin\", \"Klingon Empire Darsek\", \"Internet of People\", \"KushCoin\", \"Printerium\", \"PacCoin\", \"Impeach\", \"Citadel\", \"Zilbercoin\", \"FirstCoin\", \"BeaverCoin\", \"FindCoin\", \"VaultCoin\", \"Zero\", \"OpenChat\", \"Canada eCoin\", \"Zoin\", \"RenosCoin\", \"DubaiCoin\", \"VirtacoinPlus\", \"TajCoin\", \"Impact\", \"EB3coin\", \"Atmos\", \"HappyCoin\", \"Coinonat\", \"MacronCoin\", \"Condensate\", \"Independent Money System\", \"ArgusCoin\", \"LomoCoin\", \"ProCurrency\", \"GoldReserve\", \"BenjiRolls\", \"GrowthCoin\", \"ILCoin\", \"Phreak\", \"Degas Coin\", \"HTML5 Coin\", \"Ultimate Secure Cash\", \"EquiTrader\", \"QTUM\", \"Quantum Resistant Ledger\", \"Espers\", \"Dynamic\", \"Nano\", \"ChanCoin\", \"Dinastycoin\", \"Denarius\", \"DigitalPrice\", \"Virta Unique Coin\", \"Bitcoin Planet\", \"Unify\", \"BritCoin\", \"SocialCoin\", \"ArcticCoin\", \"DAS\", \"Linda\", \"LeviarCoin\", \"DeepOnion\", \"Bitcore\", \"gCn Coin\", \"SmartCash\", \"Signatum\", \"Onix\", \"Cream\", \"Bitcoin Cash\", \"Monoeci\", \"Draftcoin\", \"Sojourn Coin\", \"Stakecoin\", \"NewYorkCoin\", \"FrazCoin\", \"Kronecoin\", \"AdCoin\", \"Linx\", \"CoinonatX\", \"Ethereum Dark\", \"Sumokoin\", \"Obsidian\", \"Cardano\", \"Regalcoin\", \"BitcoinZ\", \"TrezarCoin\", \"Elements\", \"TerraNovaCoin\", \"VIVO Coin\", \"Rupee\", \"Bitcoin Gold\", \"WomenCoin\", \"Theresa May Coin\", \"NamoCoin\", \"LUXCoin\", \"Pirl\", \"Xios\", \"Bitcloud 2.0\", \"eBoost\", \"KekCoin\", \"BlackholeCoin\", \"Infinity Economics\", \"Pura\", \"Innova\", \"Ellaism\", \"GoByte\", \"Magnet\", \"Lamden Tau\", \"Electra\", \"Bitcoin Diamond\", \"SHIELD\", \"Cash & Back Coin\", \"UltraNote\", \"BitCoal\", \"DaxxCoin\", \"Bulwark\", \"Kalkulus\", \"AC3\", \"Lethean\", \"GermanCoin\", \"LiteCoin Ultra\", \"PopularCoin\", \"PhantomX\", \"Photon\", \"Sucre\", \"SparksPay\", \"Digiwage\", \"GunCoin\", \"IrishCoin\", \"Trollcoin\", \"Litecoin Plus\", \"Monkey Project\", \"Pioneer Coin\", \"UnitedBitcoin\", \"Interzone\", \"TokenPay\", \"1717 Masonic Commemorative Token\", \"My Big Coin\", \"TurtleCoin\", \"MUNcoin\", \"Unified Society USDEX\", \"Niobio Cash\", \"ShareChain\", \"Travelflex\", \"KREDS\", \"Tokyo Coin\", \"BitFlip\", \"LottoCoin\", \"Crypto Improvement Fund\", \"Stipend\", \"Pushi\", \"Ellerium\", \"Velox\", \"Ontology\", \"Callisto Network\", \"BitTube\", \"Poseidon\", \"Aidos Kuneen\", \"Bitspace\", \"Briacoin\", \"Ignition\", \"Bitrolium\", \"MedicCoin\", \"Alpenschillling\", \"Bitcoin Green\", \"Deviant Coin\", \"Abjcoin\", \"Semux\", \"FuturoCoin\", \"Carebit\", \"Zealium\", \"Monero Classic\", \"Proton\", \"iDealCash\", \"Jumpcoin\", \"Infinex\", \"Bitcoin Incognito\", \"KEYCO\", \"HollyWoodCoin\", \"GINcoin\", \"PlatinCoin\", \"Loki\", \"Newton Coin\", \"Swisscoin\", \"Xt3ch\", \"MassGrid\", \"TheVig\", \"PluraCoin\", \"EmaratCoin\", \"Dekado\", \"Lynx\", \"Poseidon Quark\", \"BitcoinWSpectrum\", \"Muse\", \"Motion\", \"PlusOneCoin\", \"Axe\", \"Trivechain\", \"Dystem\", \"Giant\", \"Peony Coin\", \"Absolute Coin\", \"Vitae\", \"HexCoin\", \"TPCash\", \"Webchain\", \"Ryo\", \"Urals Coin\", \"Qwertycoin\", \"ARENON\", \"EUNO\", \"MMOCoin\", \"Ketan\", \"Project Pai\", \"XDNA\", \"PAXEX\", \"Azart\", \"ThunderStake\", \"Kcash\", \"Xchange\", \"CrypticCoin\", \"Bettex coin\", \"Actinium\", \"Bitcoin SV\", \"BitMoney\", \"Junson Ming Chan Coin\", \"FREDEnergy\", \"HerbCoin\", \"Universal Molecule\", \"Lithium\", \"PirateCash\", \"Exosis\", \"Block-Logic\", \"Oduwa\", \"Beam\", \"Galilel\", \"Bithereum\", \"Crypto Sports\", \"Credit\", \"SLICE\", \"Dash Platinum\", \"Nasdacoin\", \"Beetle Coin\", \"Titan Coin\", \"Award\", \"BLAST\", \"Bitcoin Rhodium\", \"GlobalToken\", \"Insane Coin\", \"ALAX\", \"LiteDoge\", \"SolarCoin\", \"TruckCoin\", \"UFO Coin\", \"OrangeCoin\", \"BlakeCoin\", \"BitstarCoin\", \"NeosCoin\", \"HyperCoin\", \"PinkCoin\", \"Crypto Escudo\", \"AudioCoin\", \"IncaKoin\", \"Piggy Coin\", \"Crown Coin\", \"Genstake\", \"SmileyCoin\", \"XiaoMiCoin\", \"Groestlcoin\", \"CapriCoin\", \" ClubCoin\", \"Radium\", \"Bata\", \"Pakcoin\", \"Creditbit \", \"OKCash\", \"Lisk\", \"HiCoin\", \"WhiteCoin\", \"FriendshipCoin\", \"JoinCoin\", \"Triangles Coin\", \"Vollar\", \"EOS\", \"Reality Clash\", \"Oxycoin\", \"TigerCash\", \"Particl\", \"Nxt\", \"ZEPHYR\", \"Gapcoin\", \"Beldex\", \"Horizen\", \"BitcoinPlus\"], \"legendgroup\": \"0\", \"marker\": {\"color\": [0, 0, 0, 0, 0, 0, 0, 0, 0, 0, 0, 0, 0, 0, 0, 0, 0, 0, 0, 0, 0, 0, 0, 0, 0, 0, 0, 0, 0, 0, 0, 0, 0, 0, 0, 0, 0, 0, 0, 0, 0, 0, 0, 0, 0, 0, 0, 0, 0, 0, 0, 0, 0, 0, 0, 0, 0, 0, 0, 0, 0, 0, 0, 0, 0, 0, 0, 0, 0, 0, 0, 0, 0, 0, 0, 0, 0, 0, 0, 0, 0, 0, 0, 0, 0, 0, 0, 0, 0, 0, 0, 0, 0, 0, 0, 0, 0, 0, 0, 0, 0, 0, 0, 0, 0, 0, 0, 0, 0, 0, 0, 0, 0, 0, 0, 0, 0, 0, 0, 0, 0, 0, 0, 0, 0, 0, 0, 0, 0, 0, 0, 0, 0, 0, 0, 0, 0, 0, 0, 0, 0, 0, 0, 0, 0, 0, 0, 0, 0, 0, 0, 0, 0, 0, 0, 0, 0, 0, 0, 0, 0, 0, 0, 0, 0, 0, 0, 0, 0, 0, 0, 0, 0, 0, 0, 0, 0, 0, 0, 0, 0, 0, 0, 0, 0, 0, 0, 0, 0, 0, 0, 0, 0, 0, 0, 0, 0, 0, 0, 0, 0, 0, 0, 0, 0, 0, 0, 0, 0, 0, 0, 0, 0, 0, 0, 0, 0, 0, 0, 0, 0, 0, 0, 0, 0, 0, 0, 0, 0, 0, 0, 0, 0, 0, 0, 0, 0, 0, 0, 0, 0, 0, 0, 0, 0, 0, 0, 0, 0, 0, 0, 0, 0, 0, 0, 0, 0, 0, 0, 0, 0, 0, 0, 0, 0, 0, 0, 0, 0, 0, 0, 0, 0, 0, 0, 0, 0, 0, 0, 0, 0, 0, 0, 0, 0, 0, 0, 0, 0, 0, 0, 0, 0, 0, 0, 0, 0, 0, 0, 0, 0, 0, 0, 0, 0, 0, 0, 0, 0, 0, 0, 0, 0, 0, 0, 0, 0, 0, 0, 0, 0, 0, 0, 0, 0, 0, 0, 0, 0, 0, 0, 0, 0, 0, 0, 0, 0, 0, 0, 0, 0, 0, 0, 0, 0, 0, 0, 0, 0, 0, 0, 0, 0, 0, 0, 0, 0, 0, 0, 0, 0, 0, 0, 0, 0, 0, 0, 0, 0, 0, 0, 0, 0, 0, 0, 0, 0, 0, 0, 0, 0, 0, 0, 0, 0, 0, 0, 0, 0, 0, 0, 0, 0, 0, 0, 0, 0, 0, 0, 0, 0, 0, 0, 0, 0, 0, 0, 0, 0, 0, 0, 0, 0, 0, 0, 0, 0, 0, 0, 0, 0, 0, 0, 0, 0, 0, 0, 0, 0, 0, 0, 0, 0, 0, 0, 0, 0, 0, 0, 0, 0, 0, 0, 0, 0, 0, 0, 0, 0, 0, 0, 0, 0, 0, 0, 0, 0, 0, 0, 0, 0, 0, 0, 0, 0, 0, 0, 0, 0, 0, 0, 0, 0, 0, 0, 0, 0, 0, 0, 0, 0, 0, 0, 0, 0, 0, 0, 0, 0, 0, 0, 0, 0, 0, 0, 0, 0, 0, 0, 0, 0, 0, 0, 0, 0, 0, 0, 0, 0, 0, 0, 0, 0, 0, 0, 0, 0, 0, 0, 0, 0, 0, 0, 0, 0], \"coloraxis\": \"coloraxis\", \"symbol\": \"circle\"}, \"mode\": \"markers\", \"name\": \"0\", \"scene\": \"scene\", \"showlegend\": true, \"type\": \"scatter3d\", \"x\": [-0.32230083284362615, -0.3056547708815331, 2.291992404163716, -0.1570487732567905, -0.1623647156089551, -0.1560278178049039, -0.40614791780622966, -0.16367720971633712, -0.16080963104429336, -0.1606734454167633, -0.2052732699968817, 0.15468957283379509, -0.32215391745806704, -0.2744154874084519, -0.15717273916831578, -0.262589653841892, -0.24122711222702653, -0.15678991371668463, -0.3219607929349488, -0.3145433692005481, -0.09837974712077514, 2.5594931616053147, -0.15413696113372916, -0.15404878132698424, -0.15659439174738832, -0.3207984424072832, -0.2410332131270309, -0.21052668686669207, -0.15664267211527322, -0.3222967762186941, -0.15715501698749346, -0.32228107255379385, -0.1572413453243662, -0.24131637744267903, 0.8301660322215421, -0.37656367256879086, 0.178462293408375, 0.2203608708332148, 0.09120417572269081, -0.15698787857952662, -0.15259858204975107, -0.1569273099715688, -0.35824576044545126, -0.23879557124846662, -0.1572982935294919, -0.18610651207203396, -0.1365469138688668, -0.156094720542769, -0.1563720034322474, -0.32036200696682327, -0.3382469665571297, 1.5896461108188003, -0.40604268664857435, -0.15701016839411763, -0.15366490656116247, -0.15701429374412762, -0.15736870649456114, -0.3875842463319028, -0.1566288087618947, -0.15058795444464132, -0.014662635299878301, -0.15725012838374292, -0.2855066891533255, -0.2743138893026262, -0.287398035420686, -0.0223777063143963, -0.15708772728990217, -0.15092115018727412, -0.2880198145859387, -0.3558743889232747, -0.31661072380774774, -0.32070454277912674, 0.03559327488191173, -0.15722968068063078, -0.15532730804588024, -0.1567170321408005, -0.3581198373384056, -0.4064138082450227, -0.14425601921650677, -0.2486877423694333, -0.15655208208726654, -0.32131322545979724, -0.40632559696944026, -0.15683905160073955, -0.15682238366839465, -0.15741199215963908, -0.24148999703887758, -0.2975641043505229, -0.32098002352519234, -0.15694637643243367, -0.2428282146043393, -0.20392447151285567, -0.1540536284311988, -0.40629005793589096, -0.2491542777126431, -0.1566193143051254, -0.2878008293684194, -0.31341889894395597, 3.8362916267878915, 0.4390663085006336, 0.40200591631842, -0.34010309648224474, -0.15581544992715163, -0.3213665816021618, -0.3759855964876132, -0.14043851619244535, -0.2742940199333967, -0.1545356616435165, -0.2880952549070752, -0.15737092563032057, -0.26895614927166395, -0.1544007343895883, -0.3222829137666984, -0.2880474557782553, -0.14064096311996244, -0.1323295499409789, -0.35856455065640275, -0.13234602911041493, -0.1912929400676168, -0.15724409428137934, -0.3220176549596842, -0.030354970835995226, -0.13180850443670775, -0.1573797945059971, -0.15711548634574485, 0.49352967750198906, -0.4063953498919891, -0.34138991576551636, -0.24087788237324456, -0.16245741027237945, -0.1568558111968444, -0.4395824731078861, -0.24116248567629245, -0.36462802165359964, -0.15550667784000316, -0.15469980822349833, -0.27269754207723085, -0.1634316137896673, -0.2875697757173831, 0.3562368211068633, -0.3147243979080621, -0.26502656326275886, -0.24119781468813975, -0.15701128999936823, -0.09735707890163789, -0.1533421945801253, -0.17290430557503964, -0.3221248515024254, -0.08432003306071686, -0.1559448395375744, -0.32218840065906, 0.2610032430966567, -0.2433070708320716, -0.32189381474338685, -0.27256774383595317, -0.24035969599830517, -0.17301405652046387, -0.1561928474274468, -0.1535143458605353, -0.40356988940808836, 0.8771780293878989, -0.3219888614752435, 0.10023514438453751, -0.3579294291411684, -0.15717001723345336, -0.24116116220944483, -0.40424049702603226, -0.32073488319248705, -0.31840739089926395, -0.3645826643054099, -0.40513264057647874, -0.15737985293515608, -0.3440635439066671, -0.298223892138198, -0.3219319066650497, -0.3203724785767073, -0.23905382611132484, -0.24131103368498308, -0.3460696003352237, -0.2739110514500714, -0.4058700597420947, -0.32113708510043637, 0.28416245013663327, -0.3221694583378327, -0.1572711025525683, -0.40638457538484984, -0.32212073246955775, -0.11244235877988289, -0.32227715084909314, -0.15455021095822524, -0.2725553813379291, -0.1572297676851211, -0.18327781672602048, -0.1570437367492927, 0.024189305627554187, -0.3568877046752448, -0.3218915743428802, -0.3925697161696701, -0.15528948532624384, -0.35621650811680367, -0.24048170071075867, -0.44341071476970567, -0.3559679222604487, -0.2900091896392678, -0.16317402425848768, -0.16069504813242083, 3.7647343504515365, -0.4059776379483499, -0.08424305893983372, -0.2279074620793544, 0.8433294626937372, -0.40633952386691674, -0.35735092261812096, -0.32181951916173146, -0.3219737691188707, -0.23914242400014554, -0.3579294291411684, -0.40591521818556464, -0.3220322173678285, -0.32182020564287817, -0.40390078138621754, -0.3219674503510274, -0.31756402466379957, -0.40636850781182643, 0.28415672024777866, -0.32117972198020533, 0.36822633585221126, -0.32216645645787745, -0.3222368934680148, -0.36294917633477236, -0.35535293617004315, -0.15736162150374905, 0.28428731403061297, -0.16299700175849272, -0.3184706459435525, -0.3221458883325598, -0.4062785599500183, -0.3220150056788953, 0.4725730274863962, -0.32214188812236116, -0.16244437398304343, -0.2742010797590119, -0.22016407950955483, -0.15732993540189916, -0.2402498212679232, -0.23405855849201587, -0.16070737925314657, -0.30301728288527247, -0.15546529688748725, -0.16271566621208028, -0.2739422078590616, -0.1660083988121785, -0.4055456123995845, -0.4427781881639334, -0.40428494312163415, -0.128308350124892, -0.356177990874321, -0.4054435681857855, -0.20086414989182877, -0.3505843269172246, -0.40139088719868066, -0.3220852074912864, -0.3220844632122316, -0.3152195083929354, 0.2572187071093484, -0.4059211869532288, -0.1568928882551546, -0.2568723438906755, -0.12364066511778354, -0.3579637878899747, -0.32129718060616913, 0.8677708060187148, -0.27310845858878324, -0.15671539486912162, -0.3428433258427913, -0.16230149427474247, 0.5677036926749254, -0.16002247170343226, -0.043803782409922574, -0.16499277993170788, 0.3202372126929625, -0.36611654641755176, -0.24036822597664467, -0.36462078010179283, -0.4323484891397869, -0.15703397659686544, -0.2877329439668019, -0.1567980087584046, -0.24076228924194848, -0.24133899354168323, 0.14188371995167776, 0.2845511529870923, -0.2878035694408025, -0.1704838305367968, 3.2482816736602036, -0.11805555761812309, -0.34709555607583475, -0.2322267701015997, -0.4318537167856242, -0.15704793802818973, -0.4061931139442768, -0.2742748989386234, -0.08309599508348992, -0.3578304334659775, 1.5884848612336264, -0.15713176567565296, -0.15658434054271955, -0.156285656076374, -0.1562725956670643, -0.3217208943532518, -0.32221984274030674, 0.2847343313129861, -0.2632662875091712, 0.6593451344071333, -0.40613413692150707, 0.05129184344597919, -0.35088058261572597, -0.1957719852406684, -0.3221755903760493, -0.19078939696486905, -0.3219148874700223, -0.1605535681061218, 0.4461889092143298, -0.32049399855177885, -0.3509044183282036, -0.40454115419686, -0.1717750966861081, -0.3221260099107252, -0.4090686646349395, -0.15546350722974026, -0.341778998807176, -0.3219964439877598, -0.10109841388263262, -0.2368893159233359, -0.19063507122659787, -0.16154256425963087, -0.19073509268408867, -0.40492865681294704, 3.769583696273303, 0.19272459679577889, -0.28447840816610614, -0.12259018227372069, -0.3194601936984875, 1.1207888247240312, 0.2841395768353634, -0.08656793056865307, -0.3182054641246891, -0.36283520309857514, -0.23663283794160492, -0.1514287259182927, 0.0914214356050653, -0.32113676364998883, -0.07361935903380241, -0.40550856693610865, 1.0713914233636335, -0.2413130173790073, -0.1907869039391131, -0.3620013990633536, -0.18383364464676996, -0.15638365403047783, -0.3087177341158175, -0.3222419571756185, -0.3585365083615944, -0.2412385026993914, -0.15702734167750612, -0.21089373515672774, -0.3443451905742267, -0.2808823155913005, -0.22272524850898748, 8.007965921884498, -0.17910269321210473, -0.3177923017240749, 0.28800856509706985, 0.035443767441147224, -0.1712781412960365, -0.18950111984112694, -0.2320581699026081, -0.15695678530569263, 0.14975279317227327, -0.2353875344996651, -0.37583684121659083, -0.4062104836141439, -0.29923201364107993, -0.27343640258816115, -0.30327967302886155, -0.11466748852051326, 0.2920486857780482, -0.15719347010669707, -0.16214293702488386, -0.3657161365055678, -0.32226928416503525, -0.322251025428403, -0.1595457631806071, -0.26782502845321265, -0.15307694294396393, -0.3449958252390992, -0.3574254041157327, -0.3219679525903733, 3.9690994033682196, -0.24040897144552373, -0.4077376143061894, -0.35761387211573514, 0.2843219223123336, -0.3269716314761128, -0.26891947830417373, -0.2009233296550671, -0.16284248748972077, -0.25759814547788873, -0.17114374936011606, -0.27396939591498654, -0.1553737090379314, 0.2882423645727531, 0.5705761844014242, 2.0899739947434197, -0.12560861581727384, -0.27422143787025904, -0.15210702093493803, -0.355213892589458, 0.2979091341357365, -0.3214428232220896, -0.21669638706931632, 2.270906373923395, -0.35855165431796987, -0.2732352176480671, 1.042519338140044, -0.20985422885764285, -0.1724019736567246, -0.2412952000695496, -0.3739839111470485, -0.36294866526580677, -0.41074993404127075, -0.15518344382606464, -0.3695184110852006, -0.3616697794644088, -0.15721804552861054, -0.3151596411554155, -0.15131536181541158, -0.1590945024649078, -0.13308672981825936, 3.089824296179094, -0.3581145074997292, -0.4056844045843017, -0.27147072284305174, -0.3567154350289888, -0.11692075714895127, -0.34305316048862766, -0.3579763769624274, -0.2412666202165807, -0.18200658508347445, -0.13905270904778508, -0.2092830234057847, -0.055436842076051054, -0.2515500851245655, -0.1547725138143678, -0.15704797556880348, 0.586749210400902, -0.14863447067998134, 0.3639576069481237, -0.41004548084357406, -0.15474383727452012, -0.15513489136936795, -0.27723890006800667, -0.16873251075692078, -0.15611194625035635, -0.32197184481581753, -0.1586171067311449, -0.4105009764072002, -0.16038658546037818, -0.3630654939063222, 0.5832561343782862, -0.19050532514505505, -0.3585907743279786, -0.32145567629147626, -0.29369533255973723, -0.31000801928022476, -0.4032539815223363, -0.1563249792147513, -0.12326660978528842, -0.15519459199879881, -0.405911308294708, 3.7818125318701057, 0.11234992839875788, 0.5373658060235962, -0.40345240504315466, -0.11603738753700638, -0.32084260674107995, -0.1056951576400236, -0.3216657545296375, -0.274448168895211, -0.3221832527888769, -0.39754907023988106, -0.140791449706087, -0.23603790611346098, -0.10196693758282753, -0.39330475560560246, -0.15683842246778776, -0.3214622055567469, 0.5575404092294972, -0.3145347163903017, -0.21008816404838507, -0.40248386160834887, -0.319903748252279, -0.3582047721388936, -0.15729468086762108, -0.15525331919697122, -0.40396364203882984, -0.3206707389397627, 3.765125586908946, -0.08172488829061543, -0.31710170031774715, -0.35550099989379047, -0.13308045373157493, -0.28820228079056054, -0.13327936493982073, 3.7749881250840924, -0.16320714558764868, 3.776231394031282, -0.25536681990663523, -0.35814068010338285, -0.3914985400251555, 2.4842764363147034, -0.3203497452458382, 0.30586996422936696, -0.16067450166618605, -0.2746172552746843], \"y\": [0.9682211240656292, 0.9685232791398257, 1.678472572319443, -1.290435581792784, -2.0004453288769253, -1.1232988744486088, 1.20594327907744, -2.1513970312806174, -2.000525118324166, -1.98131636760193, 1.074619505522709, -1.7914543188020673, 0.8010734899724079, 0.6449543000123944, -1.123301861376541, 1.8158449833870753, -0.885572434764018, -1.1233156432143192, 0.9682233200228543, 0.9685289975299647, -1.7886949922145203, -1.2742254299410258, -1.2904202842088077, -1.1233321893338832, -1.1233321417477655, 0.9682807500396249, -0.4550991862471192, -1.2032476360007627, -1.1232991299763389, 0.9682209481700834, -1.1233011580295507, 0.9682212344867789, -1.1232992877823114, -0.8855746297841667, -0.048766595224477995, 0.8882787785034763, -1.7875156168863944, -1.2895936982747305, -1.122527139110885, -1.1232945247434254, -1.1233081869362262, -1.1232995331887716, 1.6273416029534837, 0.23839819978489676, -1.1233002647876262, -1.6011286407202323, -1.1234263911759585, -1.1232920958642336, -1.1233046137421938, 0.9682172100575349, 1.0506327098493133, -1.115011067745488, 1.2059474554267717, -1.2904340496667897, -1.1233273455215664, -1.123294899250841, -1.1232963978243375, 2.06703527785353, -1.1232944248703054, -2.0904991513843414, 0.8224102744334533, -1.123297520497097, 0.800912590081568, 0.8120944927381479, 1.7877966412196997, -1.1280456688789364, -1.2904371277764453, -1.123266686034894, 1.7877719644314003, 0.490419923540734, 0.9681639362644093, 0.9682184402171852, 0.9824250048661765, -1.1233041212361883, -1.1233829307143293, -1.1233041255658807, 1.0498440076016757, 1.2059475504175972, -1.290512091311525, 0.14666210725589374, -1.29043339735959, 1.6757790537941144, 1.2059443135526056, -1.2904414091574583, -1.290466353622407, -1.290436014792583, -0.8855693911472664, 0.9681247139571747, 0.9682061594244037, -1.1232942253145044, 0.352908347808798, -1.1585736513694118, -1.12334277287557, 1.2059487562899733, 0.14671097582444947, -1.2904347098831686, 1.7877806553817492, 0.9678997834552328, -2.2102024878989557, -2.227466392498327, -0.4502121980584886, 1.6484921933204126, -1.1233046776526259, 0.8010737405701774, 0.888304672255854, -1.123755626660287, 0.8121061840545882, -1.1232951697685694, 1.7877608843061434, -1.1232973470652847, 0.8119811094969819, -1.1232855117079659, 0.9682218352552129, 1.7877641290112225, -1.1233054491262464, -2.2041106218660427, 1.0498128812664493, -1.7886953423657306, -1.5799881274588696, -1.123292814352089, 0.9682188858561181, -1.1249930588505257, -2.218110345342304, -1.1232963456225658, -1.2904382294607453, -1.1594564390991564, 1.2059482836551776, 2.4380700262798514, -0.8855673346824605, -2.184454671456568, -1.2904499986763405, 1.6673268423072825, -0.8855705437466602, 0.8751977007425801, -1.1233632574998058, -1.1233580268881151, 0.8121021599480871, -2.0004990635038773, 1.787756133228788, -2.0785277277437495, 0.8007093313180021, 1.8159663926229064, -0.8855685766559223, -1.2904340941803678, 0.8428644628551558, -1.1232771931002632, -2.106974338375224, 0.8010746435241416, 1.2008401222950793, -1.1232955812582748, 0.8010798705999879, -1.2884027222180219, 1.473226793925477, 0.9682089762404388, 0.8120257410308451, -0.8855811351301973, -2.2021976373851166, -1.123362263437035, -2.0756867348818706, 1.2058016637083078, 0.7910948027120224, 0.8010679114680973, -0.052229051439705056, 1.6273406804881834, -1.1233010795087106, -0.8855731865871526, 1.2059832660258618, 0.8009945509233355, 0.8008832376067405, 1.4683530371934075, 1.2059047333356085, -1.1232963458997274, 1.6121695913257021, 0.9678289921631944, 0.9682058921754527, 0.968230271293881, 1.6315603232892528, -0.8855791345939057, 1.0498795362094153, -1.3633125722268356, 1.2059354389790407, 0.9682066644749772, -2.226882446200738, 0.8010735470369068, -1.290436815311805, 1.2059466897431048, 0.9682141211380773, -1.7887140273932622, 0.9682220639703354, -1.123318397696188, 0.8121751860716178, -1.2904357828447697, 0.28516988013185346, -1.123302806180256, 1.8668787508971416, 1.6273456363734666, 0.9682373664930776, 1.2054862248495437, -2.1530124148690635, 1.627395185083689, 1.6316367382666699, 1.7696912714237636, 1.6272291781429749, 1.8628280085794056, -2.000495106595786, -1.9813172249571958, 1.7616012717817235, 1.2059446463086376, -1.127131736079205, -0.885367256549524, 1.8320994921279605, 1.2059479027131093, 1.6273434246578111, 0.9682142563287901, 0.9682058030604614, -0.8856298579448001, 1.6273406804881834, 1.2059269083449955, 0.8010796676132984, 0.9682179621652683, 0.7046258637949092, 0.9682154876148273, 0.9679706741126356, 1.2059459797403258, -2.226890085859965, 0.9681685848954792, 0.8156962402073061, 0.9682176972034673, 0.9682214273647046, 1.4802607513086352, 0.5115099749231228, -1.123297035951919, -2.226887598299828, -2.184438493427373, 0.9680362135123999, 0.8010744824687499, 1.2059466156303595, 0.9682189909991414, -0.9246142336418585, 0.9682126526071921, -2.1514727639069386, 0.8120728113323004, 0.2671449789161785, -1.123296213522235, 1.6316378381964007, -0.8859482981515672, -1.981315018981687, 0.9683125963827072, -1.1232873309268425, -2.1844347402112017, 0.8120969486077682, -2.1353626356319033, 1.2059146233773466, 1.7854017421047057, 1.2059579176291084, -1.124837524054207, 1.6273493493343207, 1.2059186732452123, -0.6231836085925773, 1.6273761286626034, 1.2058099770076047, 0.968215388095618, 0.9682104393756941, 0.9678283219771626, 0.615523791494101, 1.2059401482873677, -1.1233005392720194, 0.8114499220816505, -1.2907801541114718, 1.6273325784657633, 0.968190203082856, 1.8002961549836387, 0.6448797705747226, -1.123318076487082, 1.6121732081379267, -2.151413186076555, 1.8415220564109762, -2.095835631250986, -2.0946335889975067, -2.0847964530043974, -2.226791677558711, 1.4683460687340733, -0.8855922551244361, 1.4683313092364545, 1.872412772956591, -1.1232951930896995, 1.787763134335013, -1.1233233767402755, -0.8855809408101531, -0.8855761338151873, 0.952951326679372, -2.2268966686212908, 1.7877678122550498, -2.293055577660811, -1.122902406250854, -1.142781704978982, 1.5924676521800465, -0.8859429833986101, 1.872432409176848, -1.2904355486447487, 1.2059499034784353, 0.8120952141074939, -1.1274231327944506, 1.627316577590651, -1.0540071277365903, -1.1232995614044596, -1.1233209613800337, -1.1233198888367322, -1.1233193705032571, 0.968211626142144, 0.9682215082455367, -2.226912908328431, 1.074682546048119, 1.700907369613389, 1.2059404567979153, -1.9870405376884541, 0.49035111848673213, -0.8849678773147195, 0.9682154928693334, -1.6011062751903422, 0.7768261801728069, -1.9813116099851087, 0.9818744374144842, 0.8010868081850638, 1.4681479270831093, 1.8320055645360285, -2.2022335770109907, 0.9682139116902447, 1.6363259336728275, -1.1232872599000094, 1.5706963530196811, 0.9682232395392801, 0.645776652010466, -0.8856226466256538, -1.6011122795499855, -2.0006013754209064, -1.60110735443403, 1.2059094597107112, 1.7615410391210098, 1.4703165093003856, 1.7877710069017496, -1.788752893624926, 0.9681923549445764, -2.250948711223275, -2.2268850385856145, -2.0041755663593563, 1.3122153915419679, 1.4802619054014035, -0.885747235957036, -2.151584412985839, 0.9509486106388384, 0.9681662467510695, -1.1233409024379521, 1.2059497856827315, -1.2694448751999419, -0.8855757093464737, -1.6011021332005286, 1.4802276127663436, -1.6011489465412483, -1.1232995198302764, 0.968153744523263, 0.9682207653497288, 1.0498133203504056, -0.8855749083461368, -1.2904341692457852, -1.189120663827955, 1.6121641411578798, -0.06510794066837385, 0.2672429199491523, -2.5941795131378016, -2.234575973404515, 0.9682437247034517, -2.226949476243066, -1.1223816790784693, -2.2021759123465654, -1.1586858490965433, 1.6314336577669935, -1.1233060937185244, -1.1235100236212594, -0.8856641210536675, 0.9023979785075937, 1.2059387744801455, 1.4528333557079995, 0.8120566643149256, 1.6794036391595952, -2.002932319546827, -2.2272365650846755, -1.1233026841332472, -2.2681336698076735, 1.4683350063015916, 0.9682203546543724, 0.9682197316131442, -1.9813046310708546, 0.8120260007228991, -2.1531123370527467, 1.5755338825169594, 1.6273148627104623, 0.9682141199995472, 1.8323432983491723, -0.8855938722054935, 1.63637875957793, 1.6273127736394914, -2.2268817774347145, 0.7005869456453893, 0.9668883078313679, -0.6231675937578794, -2.1844433312982727, 1.1221037559271234, -2.219283487855748, 0.812101547657272, -2.153008412617031, -2.2271180918209326, -2.0845295585708175, -2.2791945818856116, 0.9691541417351597, 0.8120794156270575, -1.974488488607407, 1.8652306736070778, -2.227003979222132, 0.9681985735769792, 1.6598213609841135, 0.2239784435121213, 1.48000738819033, 0.6449420040278954, 1.628484078560012, -1.2347916556893044, -2.1835877460637003, -0.8855758108337057, 0.8567160556793432, 1.4802567285434816, 1.6363905058034376, 0.8054589290792552, 0.932937921230458, 1.4802542507077492, -1.1233044042393654, 0.9678306979511879, -2.1520856442550906, -2.2584260411020325, -0.6387361856818924, -2.1087496311266833, 1.0498071578543793, 1.2059428071465212, 0.8120430345765871, 1.627260830880429, -1.2902439220026793, 0.9494736464899599, 1.049782317032936, -0.8855773719395444, 0.9616598913032428, 0.32461143272637266, -1.2348214946554477, -1.9822468457939306, 1.2967122602706407, -2.153034080091281, -1.2904355501346376, 1.1941628569886693, 1.0581579337248408, -2.2291534849490775, 1.636385547231323, -2.104373434909633, -2.1043351208279546, -0.04595701622907077, -2.275648776544933, -1.1233264715753624, 0.9682200300995172, -1.9813976917397098, 1.6363910299940108, -1.9813116444764363, 1.480257233329955, 0.9537569773793455, -1.5800242532189666, 1.0498120426699402, 0.9681980634722827, 1.4527566018972327, 1.8637229537954403, 1.205789942976918, -1.2904358314792925, -0.3037531637960286, -1.290461048869293, 1.2059472787590515, 1.761689448932748, 0.9618868281210418, -1.16182713012643, 1.2060650814365599, -1.600816735223232, 0.9681442290013147, -2.1070728764380133, 0.9682097686737838, 0.644947275318153, 0.9682257905386784, 1.2059624486712999, -1.1233114215451299, 0.9645693397138329, 0.8096989297773496, 1.2057939737360497, -1.2904413841888176, 0.9682442993964769, -1.12861468362462, 0.9682598043944652, -1.2032443828459198, 1.2059633613891654, 0.9682084434926765, 1.627337165099917, -1.1232959194618326, -1.123334173078201, 0.7595760132830033, 0.8010764246146871, 1.7615932694710719, 0.8130043816793971, 0.968225311654146, 0.4903967389718383, -1.7887263765132595, 1.787764641964165, -2.2486553407582033, 1.7620924474394508, -2.000495263708139, 1.7621417895311837, 0.645044873447962, 1.627339955276721, 1.8342367039034528, 0.778251952616408, 0.968130097316718, -2.2269577212504714, -1.9813164095217075, 0.8120926818482206], \"z\": [-0.5860334971963672, -0.5866155819681178, -0.7526263490792923, 0.1998993421391273, 0.4037299765899797, 0.03502444333997239, -0.5729682820025312, 0.460615799829657, 0.4037027522158143, 0.44132272936476835, 0.1706021257589022, 0.3070567758465266, -0.42119136082861414, -0.09396885166082783, 0.0350600057399202, -0.8198503050677773, 0.048129695558226486, 0.035051830478599326, -0.586044388204782, -0.5863467602515312, 0.31405772368774676, -0.009600070977367274, 0.19980696237337336, 0.03497264542726673, 0.0350500331582483, -0.5860941669570403, 0.043291369360871856, 0.1528695412110143, 0.03504320232097533, -0.5860335763204249, 0.03505929008018417, -0.5860341257698624, 0.03506144474678743, 0.04813296148625486, -0.7598839489723099, -0.46819718874711974, 0.3053438145246555, 0.18821250070548137, 0.027313308786049453, 0.03505254067219003, 0.03492251793686719, 0.03505195814403941, -0.15574350945310247, -0.10936868338344236, 0.0350634218748953, 0.28054275126188516, 0.03446417968173792, 0.035024773464154633, 0.03503635115684313, -0.5860914635683359, -0.2465620962151842, -0.020136519598961507, -0.5729725314627543, 0.19989778319183488, 0.03495975597026518, 0.03505343797670854, 0.03506459067880132, -0.8588768342472531, 0.03504159798967816, 0.5271825941820302, -0.26930468974843147, 0.035061267520337884, -0.4222651771623395, -0.25881667344024967, -0.7016824812917771, 0.032154084069944605, 0.19990091518667402, 0.03486108246477629, -0.7016573725132532, -0.3404161085659107, -0.5861921294679873, -0.5860813579610595, -0.6004860301733566, 0.03506230516052057, 0.035024275082963116, 0.03504671908778058, -0.2457595869981487, -0.5729612713307038, 0.19952961008064088, 0.021199355961191484, 0.1998836910209924, -0.38189257591387793, -0.5729631396951362, 0.19989443045624047, 0.19990019443930887, 0.19991049471975947, 0.04813692348013941, -0.5867613849187266, -0.5860698946635329, 0.03505120351948472, -0.35607470227341215, 0.17000397529491018, 0.03497545339450724, -0.5729653371222664, 0.02120125600279764, 0.19988606518189578, -0.7016662156068049, -0.5862227721977353, 0.31340390339591456, 0.42103704747594956, -1.4430408126676613, -0.1293214369902487, 0.03501944512455027, -0.42121536289937406, -0.468221274658231, 0.034665270788186854, -0.2588202166447076, 0.034978142774941635, -0.701652293312067, 0.03506489678109802, -0.25895107304062814, 0.03497161235599954, -0.5860342208143083, -0.701654562336738, 0.03455825635662966, 0.47930641117466705, -0.24573824058737412, 0.31509056197052976, 0.2948189354855382, 0.03505990097748806, -0.5860415446032459, 0.03162924025683832, 0.5920521904085956, 0.03506491468859721, 0.19990203615698654, 0.02436417208557048, -0.572962016888052, -0.9075899498018094, 0.0481177950619664, 0.4781941133554368, 0.19989709934850156, -0.7154837320284025, 0.048127255195842565, -0.24203199174570048, 0.03502478321264407, 0.034998935292014366, -0.2588677461925565, 0.4037759241164498, -0.7016670762207008, 0.4198286762711923, -0.42132571093578647, -0.8198067314411809, 0.048127834874349115, 0.19989782848466434, -0.5274457003931916, 0.034937336073254374, 0.4289796773965654, -0.4211925345743482, -0.5814706309674779, 0.035021092499260345, -0.4211919163835279, 0.18667736408661328, -0.6633757666470703, -0.5860428188125099, -0.2588524818227104, 0.04810550880838145, 0.36348117183335676, 0.03504539641229161, 0.39812180627807875, -0.5730110667664419, -0.2885488705411455, -0.4211949770053927, -0.7368198582979456, -0.1557528956592051, 0.035059726425763785, 0.048127879337722244, -0.5730363297328741, -0.4212146623526791, -0.4212574471410779, -0.6584631519419878, -0.5729894616785968, 0.035064916534820766, -0.13761355399814423, -0.5866669826389441, -0.5860408853202493, -0.5860944286338027, -0.37444894620874547, 0.048133931469888556, -0.24613490790495332, 0.5163141063077115, -0.5729747594039099, -0.5860652461454795, 0.4256001262523191, -0.4211909026510797, 0.19990641219068309, -0.5729619437960626, -0.5860372127153665, 0.31449008489580904, -0.5860344535333017, 0.034984424404119474, -0.25889042660648487, 0.19990489584612553, -0.23206552637909536, 0.035056320914298306, -0.8647832520488783, -0.15578581531593694, -0.5860500239409958, -0.5732662308129048, 0.4800333150996392, -0.1558186791759154, -0.37442474136803605, -0.9295915273016484, -0.15578450508257224, -0.854211682638418, 0.403767097340614, 0.441323601728836, -0.31869739995286706, -0.5729738030963916, 0.033805357027672324, 0.047673129827032534, -0.7471996998294871, -0.572963618522509, -0.15577117509811148, -0.5860464051398758, -0.586039590083054, 0.048080745857221996, -0.1557528956592051, -0.5729712418431584, -0.4211966141328757, -0.5860473158753378, -0.45465169188981547, -0.586042216800574, -0.5861145601448241, -0.572962253846024, 0.4256022209999053, -0.58605437696143, -0.2792586533274496, -0.5860367214551138, -0.5860355175295263, -0.2504309761239016, -0.32630078779126, 0.03506453567703135, 0.42559762492870046, 0.4782064527360737, -0.5861034700899999, -0.4211918544585306, -0.5729651485812244, -0.5860416515868959, 0.036241182313345326, -0.586036200301239, 0.46059735364115967, -0.2588146529568005, -0.12390334843052098, 0.035063365505906774, -0.3744320682104147, 0.04800622260447981, 0.4413234220996685, -0.5866428118010233, 0.03500443788205732, 0.4781969551648222, -0.2588285918538338, 0.581468198104791, -0.5729793914557147, -0.7754021597426987, -0.5730286060237954, 0.03456842868420451, -0.15580832767705052, -0.5729835122202998, -0.03732335645616635, -0.15598513596737285, -0.5730794095539139, -0.5860386113577398, -0.5860373899319011, -0.5861500597197548, -0.10273475666318654, -0.5729743887430685, 0.03505116446489441, -0.2591849481949127, 0.1989701850767498, -0.1557498142133257, -0.5860562401963298, -0.8503102856352677, -0.0939898561709145, 0.03505017642006695, -0.13765156415260543, 0.4605780321252904, -0.6886700365839232, 0.4092502291761398, 0.4360408179573899, 0.3016425446891116, 0.42448044902860615, -0.658414762213192, 0.0481085636124899, -0.658456530846885, -0.8039551080647048, 0.03505411030498312, -0.7016638750678101, 0.03505402073613997, 0.04811770087060585, 0.04813402722984169, -0.596308437771247, 0.42559188304558504, -0.7016629036684712, 0.4977761084211183, -0.06858380134461349, 0.17850641391730454, -0.17125977721823696, 0.047949190711716404, -0.8039750880353352, 0.19989930841080272, -0.5729685731109255, -0.2588180402931398, 0.03384373441408509, -0.15574984642551132, -0.03543695586429431, 0.03505818174568033, 0.035046916923752475, 0.035037565748564675, 0.03503703834117766, -0.5860487426419565, -0.5860360562922253, 0.42559039596950216, 0.17234956504911594, -0.08968126040830501, -0.5729679915213687, 0.43631688643594824, -0.3405506491869796, 0.04659564578454915, -0.5860358895906166, 0.2806795126717923, -0.12384775600997518, 0.4413178884614182, -0.6128318495473649, -0.42124517898709213, -0.658827478698687, -0.7080630004824965, 0.3634525359018339, -0.5860369996009546, -0.577689132538126, 0.03500436561183262, -0.05484652703817712, -0.5860432839960774, -0.09944531569441066, 0.048010426895087215, 0.2806763298053416, 0.40374420739418343, 0.280678132851844, -0.572996851998314, -0.31882970323852255, -0.6759017647994889, -0.7017648088313463, 0.3148084016576527, -0.5861126350334959, 0.40621237105051083, 0.42560147341681176, 0.40236310535389086, -0.3311946147961359, -0.25043473162514657, 0.04803394907888157, 0.46029048848839893, -0.5942706623161289, -0.5860550953316249, 0.032529366308485325, -0.5729893572600468, 0.0683580316876326, 0.0481331307135064, 0.28067839561858493, -0.25045146276557706, 0.28047874903110853, 0.03503542483966156, -0.5864295549913376, -0.5860351971431327, -0.24573920359890597, 0.04813066371970748, 0.19989833540916652, 0.11249009732511293, -0.13760362037153595, 0.10990997199260337, -0.10119926258616865, 0.28309123284301047, 0.4703624262375685, -0.5861762613699949, 0.42550003515183477, 0.028972145843158836, 0.3634229296076536, 0.16959363629109514, -0.37462980788878397, 0.035054503593984904, 0.025780215423556564, 0.04797519122155672, -0.5086079383783362, -0.5729652472710544, -0.5193513972152016, -0.25883384389987124, -0.023879414330576002, 0.40290493784810055, 0.42544936572710906, 0.03506084289975068, 0.5759510008419512, -0.6584241557625363, -0.5860342630171692, -0.5860346615510243, 0.4412854915657071, -0.258996750129378, 0.4799911617716045, -0.12940869853197234, -0.15576173030523713, -0.5860418577259131, -0.2834705742367068, 0.04811020900206089, -0.5777428832100305, -0.1557554747351204, 0.42559510935451406, -0.022305351392003167, -0.5873215099720528, -0.037325583045743994, 0.4782029708944108, -0.1884225891348522, 0.4471748416533385, -0.25882892134895064, 0.48003486981135685, 0.4255353146112014, 0.4454394085262925, 0.38384485296552434, -0.5922485063992743, -0.25881569421489553, 0.5315962095519765, -0.8528331277083527, 0.4252127082318349, -0.5860539161627503, -0.49259571808564634, -0.4720818854471978, -0.2505009906831879, -0.09400164687219041, -0.2149653071749096, 0.2715675869743813, 0.3903446385550998, 0.048132614488166026, -0.3495524330801589, -0.25042998038249215, -0.5776542460213959, -0.2607707433588988, -0.4510724944544237, -0.2504682422090057, 0.035062022535856024, -0.5861524772874251, 0.4604130458657162, 0.5631173162732315, 0.10172288156335017, 0.37492993478051756, -0.24575048541666408, -0.5729822565580431, -0.2588901843363608, -0.15576973399967092, 0.19863106212448603, -0.44095085603805056, -0.24574844057848433, 0.048132137958616476, -0.5886497419220313, 0.7502286924804855, 0.2715577205808644, 0.4383569059004663, -0.19212669109241182, 0.4800230429051456, 0.19989930992677363, -0.182925417763666, -0.25421905616230284, 0.4237448567773653, -0.5776744185015, 0.48170327073609637, 0.4817055290444121, 0.147437848168274, 0.34593291722963676, 0.03503393890416308, -0.5860432251186952, 0.44128065008350004, -0.5776619473941964, 0.44131281999801286, -0.2504265550868889, -0.6099309689620254, 0.2948040695607096, -0.24573723243815068, -0.5860533971281952, -0.5195004457977043, -0.853828594757914, -0.5730177255287372, 0.19987739783358952, -0.08055193234701344, 0.19984936761345612, -0.5729764816303083, -0.3192388316030758, -0.5976567484964695, 0.023627294167577948, -0.5730808593236726, 0.2783338785404906, -0.586058504190645, 0.48089054875765425, -0.5860499522292805, -0.09396609204126208, -0.5860382453387042, -0.5732345503764716, 0.03456433332828267, -0.5877383154371902, -0.4300545255006159, -0.5733212466306075, 0.19989440505050016, -0.5860648218263572, 0.014664624917793348, -0.5862793510391706, 0.15285539004563825, -0.5730847367000468, -0.5861031931766095, -0.1557436400797742, 0.035062219662460745, 0.0350097682869441, -0.36572704887678587, -0.42123719484762356, -0.3187072838640609, -0.2649011093840458, -0.5861926303711276, -0.3404216331643099, 0.3151206939249905, -0.7016499838083103, 0.3679380983409319, -0.319132643974066, 0.40376814389632715, -0.3191828498451939, -0.09457079865738251, -0.15574629022929573, -0.2418267950156965, -0.19885539636495056, -0.5860699371677585, 0.4249590291504024, 0.44132277201838743, -0.2588069943106089]}, {\"customdata\": [[\"VeChainThor Authority\"], [\"Proof-of-BibleHash\"], [\"SHA-256 + Hive\"], [\"Proof-of-Authority\"], [\"ECC 256K1\"], [\"SHA3-256\"], [\"Leased POS\"]], \"hovertemplate\": \"<b>%{hovertext}</b><br><br>Class=%{marker.color}<br>PC 1=%{x}<br>PC 2=%{y}<br>PC 3=%{z}<br>Algorithm=%{customdata[0]}<extra></extra>\", \"hovertext\": [\"Vechain\", \"BiblePay\", \"LitecoinCash\", \"Poa Network\", \"Acute Angle Cloud\", \"Fiii\", \"Waves\"], \"legendgroup\": \"1\", \"marker\": {\"color\": [1, 1, 1, 1, 1, 1, 1], \"coloraxis\": \"coloraxis\", \"symbol\": \"diamond\"}, \"mode\": \"markers\", \"name\": \"1\", \"scene\": \"scene\", \"showlegend\": true, \"type\": \"scatter3d\", \"x\": [4.557362692462839, -0.05671677634645989, -0.2192245822417206, -0.5884664464700541, -0.4887739325416204, -0.5773948280941039, -0.3613516098525082], \"y\": [0.14225406510689032, 1.010695247832543, 0.6455575895321863, 6.470915748004822, 6.152830805874603, 3.9955084946199486, 2.5799914708073413], \"z\": [12.036140555565122, 10.275859724490392, 12.658906674404362, 11.788229218963895, 15.229026033977632, 6.8425077578194236, 12.183942542019537]}, {\"customdata\": [[\"TRC10\"]], \"hovertemplate\": \"<b>%{hovertext}</b><br><br>Class=%{marker.color}<br>PC 1=%{x}<br>PC 2=%{y}<br>PC 3=%{z}<br>Algorithm=%{customdata[0]}<extra></extra>\", \"hovertext\": [\"BitTorrent\"], \"legendgroup\": \"2\", \"marker\": {\"color\": [2], \"coloraxis\": \"coloraxis\", \"symbol\": \"square\"}, \"mode\": \"markers\", \"name\": \"2\", \"scene\": \"scene\", \"showlegend\": true, \"type\": \"scatter3d\", \"x\": [34.04274411837684], \"y\": [2.009685439426493], \"z\": [-1.5347969388262381]}],                        {\"coloraxis\": {\"colorbar\": {\"title\": {\"text\": \"Class\"}}, \"colorscale\": [[0.0, \"#0d0887\"], [0.1111111111111111, \"#46039f\"], [0.2222222222222222, \"#7201a8\"], [0.3333333333333333, \"#9c179e\"], [0.4444444444444444, \"#bd3786\"], [0.5555555555555556, \"#d8576b\"], [0.6666666666666666, \"#ed7953\"], [0.7777777777777778, \"#fb9f3a\"], [0.8888888888888888, \"#fdca26\"], [1.0, \"#f0f921\"]]}, \"legend\": {\"title\": {\"text\": \"Class\"}, \"tracegroupgap\": 0, \"x\": 0, \"y\": 1}, \"margin\": {\"t\": 60}, \"scene\": {\"domain\": {\"x\": [0.0, 1.0], \"y\": [0.0, 1.0]}, \"xaxis\": {\"title\": {\"text\": \"PC 1\"}}, \"yaxis\": {\"title\": {\"text\": \"PC 2\"}}, \"zaxis\": {\"title\": {\"text\": \"PC 3\"}}}, \"template\": {\"data\": {\"bar\": [{\"error_x\": {\"color\": \"#2a3f5f\"}, \"error_y\": {\"color\": \"#2a3f5f\"}, \"marker\": {\"line\": {\"color\": \"#E5ECF6\", \"width\": 0.5}}, \"type\": \"bar\"}], \"barpolar\": [{\"marker\": {\"line\": {\"color\": \"#E5ECF6\", \"width\": 0.5}}, \"type\": \"barpolar\"}], \"carpet\": [{\"aaxis\": {\"endlinecolor\": \"#2a3f5f\", \"gridcolor\": \"white\", \"linecolor\": \"white\", \"minorgridcolor\": \"white\", \"startlinecolor\": \"#2a3f5f\"}, \"baxis\": {\"endlinecolor\": \"#2a3f5f\", \"gridcolor\": \"white\", \"linecolor\": \"white\", \"minorgridcolor\": \"white\", \"startlinecolor\": \"#2a3f5f\"}, \"type\": \"carpet\"}], \"choropleth\": [{\"colorbar\": {\"outlinewidth\": 0, \"ticks\": \"\"}, \"type\": \"choropleth\"}], \"contour\": [{\"colorbar\": {\"outlinewidth\": 0, \"ticks\": \"\"}, \"colorscale\": [[0.0, \"#0d0887\"], [0.1111111111111111, \"#46039f\"], [0.2222222222222222, \"#7201a8\"], [0.3333333333333333, \"#9c179e\"], [0.4444444444444444, \"#bd3786\"], [0.5555555555555556, \"#d8576b\"], [0.6666666666666666, \"#ed7953\"], [0.7777777777777778, \"#fb9f3a\"], [0.8888888888888888, \"#fdca26\"], [1.0, \"#f0f921\"]], \"type\": \"contour\"}], \"contourcarpet\": [{\"colorbar\": {\"outlinewidth\": 0, \"ticks\": \"\"}, \"type\": \"contourcarpet\"}], \"heatmap\": [{\"colorbar\": {\"outlinewidth\": 0, \"ticks\": \"\"}, \"colorscale\": [[0.0, \"#0d0887\"], [0.1111111111111111, \"#46039f\"], [0.2222222222222222, \"#7201a8\"], [0.3333333333333333, \"#9c179e\"], [0.4444444444444444, \"#bd3786\"], [0.5555555555555556, \"#d8576b\"], [0.6666666666666666, \"#ed7953\"], [0.7777777777777778, \"#fb9f3a\"], [0.8888888888888888, \"#fdca26\"], [1.0, \"#f0f921\"]], \"type\": \"heatmap\"}], \"heatmapgl\": [{\"colorbar\": {\"outlinewidth\": 0, \"ticks\": \"\"}, \"colorscale\": [[0.0, \"#0d0887\"], [0.1111111111111111, \"#46039f\"], [0.2222222222222222, \"#7201a8\"], [0.3333333333333333, \"#9c179e\"], [0.4444444444444444, \"#bd3786\"], [0.5555555555555556, \"#d8576b\"], [0.6666666666666666, \"#ed7953\"], [0.7777777777777778, \"#fb9f3a\"], [0.8888888888888888, \"#fdca26\"], [1.0, \"#f0f921\"]], \"type\": \"heatmapgl\"}], \"histogram\": [{\"marker\": {\"colorbar\": {\"outlinewidth\": 0, \"ticks\": \"\"}}, \"type\": \"histogram\"}], \"histogram2d\": [{\"colorbar\": {\"outlinewidth\": 0, \"ticks\": \"\"}, \"colorscale\": [[0.0, \"#0d0887\"], [0.1111111111111111, \"#46039f\"], [0.2222222222222222, \"#7201a8\"], [0.3333333333333333, \"#9c179e\"], [0.4444444444444444, \"#bd3786\"], [0.5555555555555556, \"#d8576b\"], [0.6666666666666666, \"#ed7953\"], [0.7777777777777778, \"#fb9f3a\"], [0.8888888888888888, \"#fdca26\"], [1.0, \"#f0f921\"]], \"type\": \"histogram2d\"}], \"histogram2dcontour\": [{\"colorbar\": {\"outlinewidth\": 0, \"ticks\": \"\"}, \"colorscale\": [[0.0, \"#0d0887\"], [0.1111111111111111, \"#46039f\"], [0.2222222222222222, \"#7201a8\"], [0.3333333333333333, \"#9c179e\"], [0.4444444444444444, \"#bd3786\"], [0.5555555555555556, \"#d8576b\"], [0.6666666666666666, \"#ed7953\"], [0.7777777777777778, \"#fb9f3a\"], [0.8888888888888888, \"#fdca26\"], [1.0, \"#f0f921\"]], \"type\": \"histogram2dcontour\"}], \"mesh3d\": [{\"colorbar\": {\"outlinewidth\": 0, \"ticks\": \"\"}, \"type\": \"mesh3d\"}], \"parcoords\": [{\"line\": {\"colorbar\": {\"outlinewidth\": 0, \"ticks\": \"\"}}, \"type\": \"parcoords\"}], \"pie\": [{\"automargin\": true, \"type\": \"pie\"}], \"scatter\": [{\"marker\": {\"colorbar\": {\"outlinewidth\": 0, \"ticks\": \"\"}}, \"type\": \"scatter\"}], \"scatter3d\": [{\"line\": {\"colorbar\": {\"outlinewidth\": 0, \"ticks\": \"\"}}, \"marker\": {\"colorbar\": {\"outlinewidth\": 0, \"ticks\": \"\"}}, \"type\": \"scatter3d\"}], \"scattercarpet\": [{\"marker\": {\"colorbar\": {\"outlinewidth\": 0, \"ticks\": \"\"}}, \"type\": \"scattercarpet\"}], \"scattergeo\": [{\"marker\": {\"colorbar\": {\"outlinewidth\": 0, \"ticks\": \"\"}}, \"type\": \"scattergeo\"}], \"scattergl\": [{\"marker\": {\"colorbar\": {\"outlinewidth\": 0, \"ticks\": \"\"}}, \"type\": \"scattergl\"}], \"scattermapbox\": [{\"marker\": {\"colorbar\": {\"outlinewidth\": 0, \"ticks\": \"\"}}, \"type\": \"scattermapbox\"}], \"scatterpolar\": [{\"marker\": {\"colorbar\": {\"outlinewidth\": 0, \"ticks\": \"\"}}, \"type\": \"scatterpolar\"}], \"scatterpolargl\": [{\"marker\": {\"colorbar\": {\"outlinewidth\": 0, \"ticks\": \"\"}}, \"type\": \"scatterpolargl\"}], \"scatterternary\": [{\"marker\": {\"colorbar\": {\"outlinewidth\": 0, \"ticks\": \"\"}}, \"type\": \"scatterternary\"}], \"surface\": [{\"colorbar\": {\"outlinewidth\": 0, \"ticks\": \"\"}, \"colorscale\": [[0.0, \"#0d0887\"], [0.1111111111111111, \"#46039f\"], [0.2222222222222222, \"#7201a8\"], [0.3333333333333333, \"#9c179e\"], [0.4444444444444444, \"#bd3786\"], [0.5555555555555556, \"#d8576b\"], [0.6666666666666666, \"#ed7953\"], [0.7777777777777778, \"#fb9f3a\"], [0.8888888888888888, \"#fdca26\"], [1.0, \"#f0f921\"]], \"type\": \"surface\"}], \"table\": [{\"cells\": {\"fill\": {\"color\": \"#EBF0F8\"}, \"line\": {\"color\": \"white\"}}, \"header\": {\"fill\": {\"color\": \"#C8D4E3\"}, \"line\": {\"color\": \"white\"}}, \"type\": \"table\"}]}, \"layout\": {\"annotationdefaults\": {\"arrowcolor\": \"#2a3f5f\", \"arrowhead\": 0, \"arrowwidth\": 1}, \"autotypenumbers\": \"strict\", \"coloraxis\": {\"colorbar\": {\"outlinewidth\": 0, \"ticks\": \"\"}}, \"colorscale\": {\"diverging\": [[0, \"#8e0152\"], [0.1, \"#c51b7d\"], [0.2, \"#de77ae\"], [0.3, \"#f1b6da\"], [0.4, \"#fde0ef\"], [0.5, \"#f7f7f7\"], [0.6, \"#e6f5d0\"], [0.7, \"#b8e186\"], [0.8, \"#7fbc41\"], [0.9, \"#4d9221\"], [1, \"#276419\"]], \"sequential\": [[0.0, \"#0d0887\"], [0.1111111111111111, \"#46039f\"], [0.2222222222222222, \"#7201a8\"], [0.3333333333333333, \"#9c179e\"], [0.4444444444444444, \"#bd3786\"], [0.5555555555555556, \"#d8576b\"], [0.6666666666666666, \"#ed7953\"], [0.7777777777777778, \"#fb9f3a\"], [0.8888888888888888, \"#fdca26\"], [1.0, \"#f0f921\"]], \"sequentialminus\": [[0.0, \"#0d0887\"], [0.1111111111111111, \"#46039f\"], [0.2222222222222222, \"#7201a8\"], [0.3333333333333333, \"#9c179e\"], [0.4444444444444444, \"#bd3786\"], [0.5555555555555556, \"#d8576b\"], [0.6666666666666666, \"#ed7953\"], [0.7777777777777778, \"#fb9f3a\"], [0.8888888888888888, \"#fdca26\"], [1.0, \"#f0f921\"]]}, \"colorway\": [\"#636efa\", \"#EF553B\", \"#00cc96\", \"#ab63fa\", \"#FFA15A\", \"#19d3f3\", \"#FF6692\", \"#B6E880\", \"#FF97FF\", \"#FECB52\"], \"font\": {\"color\": \"#2a3f5f\"}, \"geo\": {\"bgcolor\": \"white\", \"lakecolor\": \"white\", \"landcolor\": \"#E5ECF6\", \"showlakes\": true, \"showland\": true, \"subunitcolor\": \"white\"}, \"hoverlabel\": {\"align\": \"left\"}, \"hovermode\": \"closest\", \"mapbox\": {\"style\": \"light\"}, \"paper_bgcolor\": \"white\", \"plot_bgcolor\": \"#E5ECF6\", \"polar\": {\"angularaxis\": {\"gridcolor\": \"white\", \"linecolor\": \"white\", \"ticks\": \"\"}, \"bgcolor\": \"#E5ECF6\", \"radialaxis\": {\"gridcolor\": \"white\", \"linecolor\": \"white\", \"ticks\": \"\"}}, \"scene\": {\"xaxis\": {\"backgroundcolor\": \"#E5ECF6\", \"gridcolor\": \"white\", \"gridwidth\": 2, \"linecolor\": \"white\", \"showbackground\": true, \"ticks\": \"\", \"zerolinecolor\": \"white\"}, \"yaxis\": {\"backgroundcolor\": \"#E5ECF6\", \"gridcolor\": \"white\", \"gridwidth\": 2, \"linecolor\": \"white\", \"showbackground\": true, \"ticks\": \"\", \"zerolinecolor\": \"white\"}, \"zaxis\": {\"backgroundcolor\": \"#E5ECF6\", \"gridcolor\": \"white\", \"gridwidth\": 2, \"linecolor\": \"white\", \"showbackground\": true, \"ticks\": \"\", \"zerolinecolor\": \"white\"}}, \"shapedefaults\": {\"line\": {\"color\": \"#2a3f5f\"}}, \"ternary\": {\"aaxis\": {\"gridcolor\": \"white\", \"linecolor\": \"white\", \"ticks\": \"\"}, \"baxis\": {\"gridcolor\": \"white\", \"linecolor\": \"white\", \"ticks\": \"\"}, \"bgcolor\": \"#E5ECF6\", \"caxis\": {\"gridcolor\": \"white\", \"linecolor\": \"white\", \"ticks\": \"\"}}, \"title\": {\"x\": 0.05}, \"xaxis\": {\"automargin\": true, \"gridcolor\": \"white\", \"linecolor\": \"white\", \"ticks\": \"\", \"title\": {\"standoff\": 15}, \"zerolinecolor\": \"white\", \"zerolinewidth\": 2}, \"yaxis\": {\"automargin\": true, \"gridcolor\": \"white\", \"linecolor\": \"white\", \"ticks\": \"\", \"title\": {\"standoff\": 15}, \"zerolinecolor\": \"white\", \"zerolinewidth\": 2}}}, \"width\": 800},                        {\"responsive\": true}                    ).then(function(){\n",
       "                            \n",
       "var gd = document.getElementById('c3a6b5a4-49c9-411c-9bb8-7122b1819eea');\n",
       "var x = new MutationObserver(function (mutations, observer) {{\n",
       "        var display = window.getComputedStyle(gd).display;\n",
       "        if (!display || display === 'none') {{\n",
       "            console.log([gd, 'removed!']);\n",
       "            Plotly.purge(gd);\n",
       "            observer.disconnect();\n",
       "        }}\n",
       "}});\n",
       "\n",
       "// Listen for the removal of the full notebook cells\n",
       "var notebookContainer = gd.closest('#notebook-container');\n",
       "if (notebookContainer) {{\n",
       "    x.observe(notebookContainer, {childList: true});\n",
       "}}\n",
       "\n",
       "// Listen for the clearing of the current output cell\n",
       "var outputEl = gd.closest('.output');\n",
       "if (outputEl) {{\n",
       "    x.observe(outputEl, {childList: true});\n",
       "}}\n",
       "\n",
       "                        })                };                });            </script>        </div>"
      ]
     },
     "metadata": {},
     "output_type": "display_data"
    }
   ],
   "source": [
    "#3D-Scatter with Clusters\n",
    "# Create a 3D-Scatter with the PCA data and the clusters\n",
    "fig = px.scatter_3d(\n",
    "    clustered_df,\n",
    "    x=\"PC 1\",\n",
    "    y=\"PC 2\",\n",
    "    z=\"PC 3\",\n",
    "    color=\"Class\",\n",
    "    symbol=\"Class\",\n",
    "    hover_name=\"CoinName\",\n",
    "    hover_data=[\"Algorithm\"],\n",
    "    width=800,\n",
    ")\n",
    "fig.update_layout(legend=dict(x=0, y=1))\n",
    "fig.show()"
   ]
  },
  {
   "cell_type": "markdown",
   "id": "d2c7de89-6dc3-44da-81fd-6f48ea02c36c",
   "metadata": {},
   "source": [
    "## Table of Tradable Cryptocurrencies"
   ]
  },
  {
   "cell_type": "code",
   "execution_count": 55,
   "id": "e192ac8a-989e-4bd3-b5b3-853e38703b33",
   "metadata": {},
   "outputs": [
    {
     "data": {},
     "metadata": {},
     "output_type": "display_data"
    },
    {
     "data": {
      "application/vnd.holoviews_exec.v0+json": "",
      "text/html": [
       "<div id='2293'>\n",
       "\n",
       "\n",
       "\n",
       "\n",
       "\n",
       "  <div class=\"bk-root\" id=\"5beba5f0-c9ed-4c1c-b86d-0c6d5278c897\" data-root-id=\"2293\"></div>\n",
       "</div>\n",
       "<script type=\"application/javascript\">(function(root) {\n",
       "  function embed_document(root) {\n",
       "  var docs_json = {\"3ead120e-b7ab-43fb-9d35-cfffe7476268\":{\"roots\":{\"references\":[{\"attributes\":{\"columns\":[{\"id\":\"2299\"},{\"id\":\"2304\"},{\"id\":\"2309\"},{\"id\":\"2314\"},{\"id\":\"2319\"},{\"id\":\"2324\"}],\"height\":300,\"reorderable\":false,\"source\":{\"id\":\"2295\"},\"view\":{\"id\":\"2328\"},\"width\":700},\"id\":\"2327\",\"type\":\"DataTable\"},{\"attributes\":{\"editor\":{\"id\":\"2313\"},\"field\":\"TotalCoinSupply\",\"formatter\":{\"id\":\"2312\"},\"title\":\"TotalCoinSupply\"},\"id\":\"2314\",\"type\":\"TableColumn\"},{\"attributes\":{},\"id\":\"2302\",\"type\":\"StringFormatter\"},{\"attributes\":{\"editor\":{\"id\":\"2323\"},\"field\":\"Class\",\"formatter\":{\"id\":\"2322\"},\"title\":\"Class\"},\"id\":\"2324\",\"type\":\"TableColumn\"},{\"attributes\":{},\"id\":\"2298\",\"type\":\"StringEditor\"},{\"attributes\":{},\"id\":\"2323\",\"type\":\"IntEditor\"},{\"attributes\":{\"editor\":{\"id\":\"2298\"},\"field\":\"Algorithm\",\"formatter\":{\"id\":\"2297\"},\"title\":\"Algorithm\"},\"id\":\"2299\",\"type\":\"TableColumn\"},{\"attributes\":{},\"id\":\"2317\",\"type\":\"StringFormatter\"},{\"attributes\":{\"margin\":[5,5,5,5],\"name\":\"HSpacer04602\",\"sizing_mode\":\"stretch_width\"},\"id\":\"2294\",\"type\":\"Spacer\"},{\"attributes\":{\"margin\":[5,5,5,5],\"name\":\"HSpacer04603\",\"sizing_mode\":\"stretch_width\"},\"id\":\"2331\",\"type\":\"Spacer\"},{\"attributes\":{},\"id\":\"2313\",\"type\":\"StringEditor\"},{\"attributes\":{\"format\":\"0,0.0[00000]\"},\"id\":\"2307\",\"type\":\"NumberFormatter\"},{\"attributes\":{\"editor\":{\"id\":\"2318\"},\"field\":\"CoinName\",\"formatter\":{\"id\":\"2317\"},\"title\":\"CoinName\"},\"id\":\"2319\",\"type\":\"TableColumn\"},{\"attributes\":{},\"id\":\"2308\",\"type\":\"NumberEditor\"},{\"attributes\":{},\"id\":\"2322\",\"type\":\"NumberFormatter\"},{\"attributes\":{},\"id\":\"2312\",\"type\":\"StringFormatter\"},{\"attributes\":{\"children\":[{\"id\":\"2294\"},{\"id\":\"2327\"},{\"id\":\"2331\"}],\"margin\":[0,0,0,0],\"name\":\"Row04598\",\"tags\":[\"embedded\"]},\"id\":\"2293\",\"type\":\"Row\"},{\"attributes\":{},\"id\":\"2297\",\"type\":\"StringFormatter\"},{\"attributes\":{\"editor\":{\"id\":\"2308\"},\"field\":\"TotalCoinsMined\",\"formatter\":{\"id\":\"2307\"},\"title\":\"TotalCoinsMined\"},\"id\":\"2309\",\"type\":\"TableColumn\"},{\"attributes\":{},\"id\":\"2318\",\"type\":\"StringEditor\"},{\"attributes\":{\"editor\":{\"id\":\"2303\"},\"field\":\"ProofType\",\"formatter\":{\"id\":\"2302\"},\"title\":\"ProofType\"},\"id\":\"2304\",\"type\":\"TableColumn\"},{\"attributes\":{},\"id\":\"2303\",\"type\":\"StringEditor\"},{\"attributes\":{},\"id\":\"2329\",\"type\":\"UnionRenderers\"},{\"attributes\":{},\"id\":\"2296\",\"type\":\"Selection\"},{\"attributes\":{\"data\":{\"Algorithm\":[\"Scrypt\",\"Scrypt\",\"X13\",\"SHA-256\",\"Ethash\",\"Scrypt\",\"X11\",\"CryptoNight-V7\",\"Ethash\",\"Equihash\",\"SHA-512\",\"Multiple\",\"SHA-256\",\"SHA-256\",\"Scrypt\",\"X15\",\"X11\",\"Scrypt\",\"Scrypt\",\"Scrypt\",\"Multiple\",\"Scrypt\",\"SHA-256\",\"Scrypt\",\"Scrypt\",\"Scrypt\",\"Quark\",\"Groestl\",\"Scrypt\",\"Scrypt\",\"Scrypt\",\"Scrypt\",\"Scrypt\",\"X11\",\"Scrypt\",\"Groestl\",\"Multiple\",\"SHA-256\",\"Scrypt\",\"Scrypt\",\"Scrypt\",\"Scrypt\",\"PoS\",\"Scrypt\",\"Scrypt\",\"NeoScrypt\",\"Scrypt\",\"Scrypt\",\"Scrypt\",\"Scrypt\",\"X11\",\"Scrypt\",\"X11\",\"SHA-256\",\"Scrypt\",\"Scrypt\",\"Scrypt\",\"SHA3\",\"Scrypt\",\"HybridScryptHash256\",\"Scrypt\",\"Scrypt\",\"SHA-256\",\"Scrypt\",\"X13\",\"Scrypt\",\"SHA-256\",\"Scrypt\",\"X13\",\"NeoScrypt\",\"Scrypt\",\"Scrypt\",\"Scrypt\",\"Scrypt\",\"Scrypt\",\"Scrypt\",\"X11\",\"X11\",\"SHA-256\",\"Multiple\",\"SHA-256\",\"PHI1612\",\"X11\",\"SHA-256\",\"SHA-256\",\"SHA-256\",\"X11\",\"Scrypt\",\"Scrypt\",\"Scrypt\",\"Scrypt\",\"Lyra2REv2\",\"Scrypt\",\"X11\",\"Multiple\",\"SHA-256\",\"X13\",\"Scrypt\",\"CryptoNight\",\"CryptoNight\",\"Shabal256\",\"Counterparty\",\"Scrypt\",\"SHA-256\",\"Groestl\",\"Scrypt\",\"Scrypt\",\"Scrypt\",\"X13\",\"Scrypt\",\"Scrypt\",\"Scrypt\",\"Scrypt\",\"X13\",\"Scrypt\",\"Stanford Folding\",\"X11\",\"Multiple\",\"QuBit\",\"Scrypt\",\"Scrypt\",\"Scrypt\",\"M7 POW\",\"Scrypt\",\"SHA-256\",\"Scrypt\",\"X11\",\"SHA3\",\"X11\",\"Lyra2RE\",\"SHA-256\",\"QUAIT\",\"X11\",\"X11\",\"Scrypt\",\"Scrypt\",\"Scrypt\",\"Ethash\",\"X13\",\"Blake2b\",\"SHA-256\",\"X15\",\"X11\",\"SHA-256\",\"BLAKE256\",\"Scrypt\",\"1GB AES Pattern Search\",\"SHA-256\",\"X11\",\"Scrypt\",\"SHA-256\",\"SHA-256\",\"NIST5\",\"Scrypt\",\"Scrypt\",\"X11\",\"Dagger\",\"Scrypt\",\"X11GOST\",\"X11\",\"Scrypt\",\"SHA-256\",\"Scrypt\",\"PoS\",\"Scrypt\",\"X11\",\"X11\",\"SHA-256\",\"SHA-256\",\"NIST5\",\"X11\",\"Scrypt\",\"POS 3.0\",\"Scrypt\",\"Scrypt\",\"Scrypt\",\"X13\",\"X11\",\"X11\",\"Equihash\",\"X11\",\"Scrypt\",\"CryptoNight\",\"SHA-256\",\"SHA-256\",\"X11\",\"Scrypt\",\"Multiple\",\"Scrypt\",\"Scrypt\",\"Scrypt\",\"SHA-256\",\"Scrypt\",\"Scrypt\",\"SHA-256D\",\"PoS\",\"Scrypt\",\"X11\",\"Lyra2Z\",\"PoS\",\"X13\",\"X14\",\"PoS\",\"SHA-256D\",\"Ethash\",\"Equihash\",\"DPoS\",\"X11\",\"Scrypt\",\"X11\",\"X13\",\"X11\",\"PoS\",\"Scrypt\",\"Scrypt\",\"X11\",\"PoS\",\"X11\",\"SHA-256\",\"Scrypt\",\"X11\",\"Scrypt\",\"Scrypt\",\"X11\",\"CryptoNight\",\"Scrypt\",\"Scrypt\",\"Scrypt\",\"Scrypt\",\"Quark\",\"QuBit\",\"Scrypt\",\"CryptoNight\",\"Lyra2RE\",\"Scrypt\",\"SHA-256\",\"X11\",\"Scrypt\",\"X11\",\"Scrypt\",\"CryptoNight-V7\",\"Scrypt\",\"Scrypt\",\"Scrypt\",\"X13\",\"X11\",\"Equihash\",\"Scrypt\",\"Scrypt\",\"Lyra2RE\",\"Scrypt\",\"Dagger-Hashimoto\",\"X11\",\"Blake2S\",\"X11\",\"Scrypt\",\"PoS\",\"X11\",\"NIST5\",\"PoS\",\"X11\",\"Scrypt\",\"Scrypt\",\"Scrypt\",\"SHA-256\",\"X11\",\"Scrypt\",\"Scrypt\",\"SHA-256\",\"PoS\",\"Scrypt\",\"X15\",\"SHA-256\",\"Scrypt\",\"POS 3.0\",\"CryptoNight-V7\",\"536\",\"Argon2d\",\"Blake2b\",\"Cloverhash\",\"CryptoNight\",\"NIST5\",\"X11\",\"NIST5\",\"Skein\",\"Scrypt\",\"X13\",\"Scrypt\",\"X11\",\"X11\",\"Scrypt\",\"CryptoNight\",\"X13\",\"Time Travel\",\"Scrypt\",\"Keccak\",\"SkunkHash v2 Raptor\",\"X11\",\"Skein\",\"SHA-256\",\"X11\",\"Scrypt\",\"VeChainThor Authority\",\"Scrypt\",\"PoS\",\"Scrypt\",\"Scrypt\",\"Scrypt\",\"Scrypt\",\"Scrypt\",\"Scrypt\",\"Scrypt\",\"CryptoNight\",\"SHA-512\",\"Ouroboros\",\"X11\",\"Equihash\",\"NeoScrypt\",\"X11\",\"Scrypt\",\"NeoScrypt\",\"Lyra2REv2\",\"Equihash\",\"Scrypt\",\"SHA-256\",\"NIST5\",\"PHI1612\",\"Dagger\",\"Scrypt\",\"Quark\",\"Scrypt\",\"POS 2.0\",\"Scrypt\",\"SHA-256\",\"X11\",\"NeoScrypt\",\"Ethash\",\"NeoScrypt\",\"X11\",\"DPoS\",\"NIST5\",\"X13\",\"Multiple\",\"Scrypt\",\"CryptoNight\",\"CryptoNight\",\"Ethash\",\"NIST5\",\"Quark\",\"X11\",\"CryptoNight-V7\",\"Scrypt\",\"Scrypt\",\"Scrypt\",\"X11\",\"BLAKE256\",\"X11\",\"NeoScrypt\",\"Quark\",\"NeoScrypt\",\"Scrypt\",\"Scrypt\",\"Scrypt\",\"X11\",\"X11\",\"SHA-256\",\"C11\",\"POS 3.0\",\"Ethash\",\"Scrypt\",\"CryptoNight\",\"SkunkHash\",\"Scrypt\",\"CryptoNight\",\"Scrypt\",\"Dagger\",\"Lyra2REv2\",\"X13\",\"Proof-of-BibleHash\",\"SHA-256 + Hive\",\"Scrypt\",\"Scrypt\",\"X11\",\"C11\",\"Proof-of-Authority\",\"X11\",\"XEVAN\",\"Scrypt\",\"VBFT\",\"Ethash\",\"CryptoNight\",\"Scrypt\",\"IMesh\",\"NIST5\",\"Scrypt\",\"Scrypt\",\"Equihash\",\"Scrypt\",\"Lyra2Z\",\"Green Protocol\",\"PoS\",\"Scrypt\",\"Semux BFT consensus\",\"X11\",\"Quark\",\"PoS\",\"CryptoNight\",\"X16R\",\"Scrypt\",\"NIST5\",\"Lyra2RE\",\"XEVAN\",\"Tribus\",\"Scrypt\",\"Lyra2Z\",\"CryptoNight\",\"CryptoNight Heavy\",\"CryptoNight\",\"Scrypt\",\"Scrypt\",\"Jump Consistent Hash\",\"SHA-256D\",\"CryptoNight\",\"Scrypt\",\"X15\",\"Scrypt\",\"Quark\",\"SHA-256\",\"DPoS\",\"X16R\",\"HMQ1725\",\"X11\",\"X16R\",\"Quark\",\"Quark\",\"Scrypt\",\"Lyra2REv2\",\"Quark\",\"Scrypt\",\"Scrypt\",\"CryptoNight-V7\",\"Cryptonight-GPU\",\"XEVAN\",\"CryptoNight Heavy\",\"X11\",\"X11\",\"Scrypt\",\"PoS\",\"SHA-256\",\"Keccak\",\"X11\",\"X11\",\"Scrypt\",\"SHA-512\",\"X16R\",\"ECC 256K1\",\"Equihash\",\"XEVAN\",\"Lyra2Z\",\"SHA-256\",\"XEVAN\",\"X11\",\"CryptoNight\",\"Quark\",\"Blake\",\"Blake\",\"Equihash\",\"Exosis\",\"Scrypt\",\"Scrypt\",\"Equihash\",\"Quark\",\"Equihash\",\"Quark\",\"Scrypt\",\"QuBit\",\"X11\",\"Scrypt\",\"XEVAN\",\"SHA-256D\",\"X11\",\"SHA-256\",\"X13\",\"SHA-256\",\"X11\",\"DPoS\",\"Scrypt\",\"Scrypt\",\"X11\",\"NeoScrypt\",\"Scrypt\",\"Blake\",\"Scrypt\",\"SHA-256\",\"Scrypt\",\"X11\",\"Scrypt\",\"Scrypt\",\"SHA-256\",\"X11\",\"SHA-256\",\"Scrypt\",\"Scrypt\",\"Scrypt\",\"Groestl\",\"X11\",\"Scrypt\",\"PoS\",\"Scrypt\",\"Scrypt\",\"X11\",\"SHA-256\",\"DPoS\",\"Scrypt\",\"Scrypt\",\"NeoScrypt\",\"SHA3-256\",\"Multiple\",\"X13\",\"Equihash+Scrypt\",\"DPoS\",\"Ethash\",\"DPoS\",\"SHA-256\",\"Leased POS\",\"PoS\",\"TRC10\",\"PoS\",\"SHA-256\",\"Scrypt\",\"CryptoNight\",\"Equihash\",\"Scrypt\"],\"Class\":{\"__ndarray__\":\"AAAAAAAAAAAAAAAAAAAAAAAAAAAAAAAAAAAAAAAAAAAAAAAAAAAAAAAAAAAAAAAAAAAAAAAAAAAAAAAAAAAAAAAAAAAAAAAAAAAAAAAAAAAAAAAAAAAAAAAAAAAAAAAAAAAAAAAAAAAAAAAAAAAAAAAAAAAAAAAAAAAAAAAAAAAAAAAAAAAAAAAAAAAAAAAAAAAAAAAAAAAAAAAAAAAAAAAAAAAAAAAAAAAAAAAAAAAAAAAAAAAAAAAAAAAAAAAAAAAAAAAAAAAAAAAAAAAAAAAAAAAAAAAAAAAAAAAAAAAAAAAAAAAAAAAAAAAAAAAAAAAAAAAAAAAAAAAAAAAAAAAAAAAAAAAAAAAAAAAAAAAAAAAAAAAAAAAAAAAAAAAAAAAAAAAAAAAAAAAAAAAAAAAAAAAAAAAAAAAAAAAAAAAAAAAAAAAAAAAAAAAAAAAAAAAAAAAAAAAAAAAAAAAAAAAAAAAAAAAAAAAAAAAAAAAAAAAAAAAAAAAAAAAAAAAAAAAAAAAAAAAAAAAAAAAAAAAAAAAAAAAAAAAAAAAAAAAAAAAAAAAAAAAAAAAAAAAAAAAAAAAAAAAAAAAAAAAAAAAAAAAAAAAAAAAAAAAAAAAAAAAAAAAAAAAAAAAAAAAAAAAAAAAAAAAAAAAAAAAAAAAAAAAAAAAAAAAAAAAAAAAAAAAAAAAAAAAAAAAAAAAAAAAAAAAAAAAAAAAAAAAAAAAAAAAAAAAAAAAAAAAAAAAAAAAAAAAAAAAAAAAAAAAAAAAAAAAAAAAAAAAAAAAAAAAAAAAAAAAAAAAAAAAAAAAAAAAAAAAAAAAAAAAAAAAAAAAAAAAAAAAAAAAAAAAAAAAAAAAAAAAAAAAAAAAAAAAAAAAAAAAAAAAAAAAAAAAAAAAAAAAAAAAAAAAAAAAAAAAAAAAAAAAAAAAAAAAAAAAAAAAAAAAAAAAAAAAAAAAAAAAAAAAAAAAAAAAAAAAAAAAAAAAAAAAAAAAAAAAAAAAAAAAAAAAAAAAAAAAAAAAAAAAAAAAAAAAAAAAAAAAAAAAAAAAAAAAAAAAAAAAAAAAAAAAAAAAAAAAAAAAAAAAAAAAAAAAAAAAAAAAAAAAAAAAAAAAAAAAAAAAAAAAAAAAAAAAAAAAAAAAAAAAAAAAAAAAAAAAAAAAAAAAAAAAAAAAAAAAAAAAAAAAAAAAAAAAAAAAAAAAAAAAAAAAAAAAAAAAAAAAAAAAAAAAAAAAAAAAAAAAAAAAAAAAAAAAAAAAAAAAAAAAAAAAAAAAAAAAAAAAAAAAAAAAAAAAAAAAAAAAAAAAAAAAAAAAAAAAAAAAAAAAAAAAAAAAAAAAAAAAAAAAAAAAAAAAAAAAAAAAAAAAAAAAAAAAAAAAAAAAAAAAAAAAAAAAAAAAAAAAAAAAAAAAAAAAAAAAAAAAAAAAAAAAAAAAAAAAAAAAAAAAAAAAAAAAAAAAAAAAAAAAAAAAAAAAAAAAAAAAAAAAAAAAAAAAAAAAAAAAAAAAAAAAAAAAAAAAAAAAAAAAAAAAAAAAAAAAAAAAAAAAAAAAAAAAAAAAAAAAAAAAAAAAAAAAAAAAAAAAAAAAAAAAAAAAAAAAAAAAAAAAAAAABAAAAAAAAAAAAAAAAAAAAAAAAAAAAAAAAAAAAAAAAAAAAAAAAAAAAAAAAAAAAAAAAAAAAAAAAAAAAAAAAAAAAAAAAAAAAAAAAAAAAAAAAAAAAAAAAAAAAAAAAAAAAAAAAAAAAAAAAAAAAAAAAAAAAAAAAAAAAAAAAAAAAAAAAAAAAAAAAAAAAAAAAAAAAAAAAAAAAAAAAAAAAAAAAAAAAAAAAAAAAAAAAAAAAAAAAAAAAAAAAAAAAAAAAAAAAAAAAAAAAAAAAAAAAAAAAAAAAAAAAAAAAAAAAAAAAAAAAAAAAAAAAAAAAAAAAAAAAAAAAAAAAAAAAAAAAAAAAAAAAAAAAAAAAAAAAAAAAAAAAAAAAAAAAAAAAAAAAAAAAAAAAAAAAAAAAAAAAAAAAAAAAAQAAAAEAAAAAAAAAAAAAAAAAAAAAAAAAAQAAAAAAAAAAAAAAAAAAAAAAAAAAAAAAAAAAAAAAAAAAAAAAAAAAAAAAAAAAAAAAAAAAAAAAAAAAAAAAAAAAAAAAAAAAAAAAAAAAAAAAAAAAAAAAAAAAAAAAAAAAAAAAAAAAAAAAAAAAAAAAAAAAAAAAAAAAAAAAAAAAAAAAAAAAAAAAAAAAAAAAAAAAAAAAAAAAAAAAAAAAAAAAAAAAAAAAAAAAAAAAAAAAAAAAAAAAAAAAAAAAAAAAAAAAAAAAAAAAAAAAAAAAAAAAAAAAAAAAAAAAAAAAAAAAAAAAAAAAAAAAAAAAAAAAAAAAAAAAAAAAAAAAAAAAAAAAAAAAAAAAAAAAAAAAAAAAAAAAAAAAAAAAAAAAAAAAAAABAAAAAAAAAAAAAAAAAAAAAAAAAAAAAAAAAAAAAAAAAAAAAAAAAAAAAAAAAAAAAAAAAAAAAAAAAAAAAAAAAAAAAAAAAAAAAAAAAAAAAAAAAAAAAAAAAAAAAAAAAAAAAAAAAAAAAAAAAAAAAAAAAAAAAAAAAAAAAAAAAAAAAAAAAAAAAAAAAAAAAAAAAAAAAAAAAAAAAAAAAAAAAAAAAAAAAAAAAAAAAAAAAAAAAAAAAAAAAAAAAAAAAAAAAAAAAAAAAAAAAAAAAAAAAAAAAAAAAAAAAAAAAAAAAAAAAAAAAAAAAAAAAAAAAAAAAAAAAAAAAAAAAQAAAAAAAAAAAAAAAAAAAAAAAAAAAAAAAAAAAAAAAAABAAAAAAAAAAIAAAAAAAAAAAAAAAAAAAAAAAAAAAAAAAAAAAA=\",\"dtype\":\"int32\",\"shape\":[533]},\"CoinName\":[\"42 Coin\",\"404Coin\",\"EliteCoin\",\"Bitcoin\",\"Ethereum\",\"Litecoin\",\"Dash\",\"Monero\",\"Ethereum Classic\",\"ZCash\",\"Bitshares\",\"DigiByte\",\"BitcoinDark\",\"PayCoin\",\"ProsperCoin\",\"KoboCoin\",\"Spreadcoin\",\"Argentum\",\"Aurora Coin\",\"BlueCoin\",\"MyriadCoin\",\"MoonCoin\",\"ZetaCoin\",\"SexCoin\",\"Quatloo\",\"EnergyCoin\",\"QuarkCoin\",\"Riecoin\",\"Digitalcoin \",\"BitBar\",\"Catcoin\",\"CryptoBullion\",\"CannaCoin\",\"CryptCoin\",\"CasinoCoin\",\"Diamond\",\"Verge\",\"DevCoin\",\"EarthCoin\",\"E-Gulden\",\"Einsteinium\",\"Emerald\",\"Exclusive Coin\",\"FlutterCoin\",\"Franko\",\"FeatherCoin\",\"GrandCoin\",\"GlobalCoin\",\"GoldCoin\",\"HoboNickels\",\"HyperStake\",\"Infinite Coin\",\"IOCoin\",\"IXcoin\",\"KrugerCoin\",\"LuckyCoin\",\"Litebar \",\"MaxCoin\",\"MegaCoin\",\"MediterraneanCoin\",\"MintCoin\",\"MinCoin\",\"MazaCoin\",\"Nautilus Coin\",\"NavCoin\",\"NobleCoin\",\"Namecoin\",\"NyanCoin\",\"OpalCoin\",\"Orbitcoin\",\"PotCoin\",\"PhoenixCoin\",\"Reddcoin\",\"RonPaulCoin\",\"StableCoin\",\"SmartCoin\",\"SuperCoin\",\"SyncCoin\",\"SysCoin\",\"TeslaCoin\",\"TigerCoin\",\"TittieCoin\",\"TorCoin\",\"TerraCoin\",\"UnbreakableCoin\",\"Unobtanium\",\"UroCoin\",\"UnitaryStatus Dollar\",\"UltraCoin\",\"ViaCoin\",\"VeriCoin\",\"Vertcoin\",\"WorldCoin\",\"X11 Coin\",\"Crypti\",\"JouleCoin\",\"StealthCoin\",\"ZCC Coin\",\"ByteCoin\",\"DigitalNote \",\"BurstCoin\",\"StorjCoin\",\"MonaCoin\",\"Neutron\",\"FairCoin\",\"Gulden\",\"RubyCoin\",\"PesetaCoin\",\"Kore\",\"Wild Beast Coin\",\"Dnotes\",\"Flo\",\"8BIT Coin\",\"Sativa Coin\",\"ArtByte\",\"Folding Coin\",\"Ucoin\",\"Unitus\",\"CypherPunkCoin\",\"OmniCron\",\"Vtorrent\",\"GreenCoin\",\"Cryptonite\",\"MasterCoin\",\"SoonCoin\",\"1Credit\",\"IslaCoin\",\"Nexus\",\"MarsCoin \",\"Crypto\",\"Anarchists Prime\",\"Droidz\",\"BowsCoin\",\"Squall Coin\",\"Song Coin\",\"BitZeny\",\"Diggits\",\"Expanse\",\"Paycon\",\"Siacoin\",\"Emercoin\",\"EverGreenCoin\",\"MindCoin\",\"I0coin\",\"Decred\",\"Revolution VR\",\"HOdlcoin\",\"EDRCoin\",\"Hitcoin\",\"Gamecredits\",\"DubaiCoin\",\"CarpeDiemCoin\",\"PWR Coin\",\"BillaryCoin\",\"GPU Coin\",\"Adzcoin\",\"SoilCoin\",\"YoCoin\",\"SibCoin\",\"EuropeCoin\",\"ZeitCoin\",\"SwingCoin\",\"SafeExchangeCoin\",\"Nebuchadnezzar\",\"Francs\",\"BolivarCoin\",\"Ratecoin\",\"Revenu\",\"Clockcoin\",\"VIP Tokens\",\"BitSend\",\"Omni\",\"Let it Ride\",\"PutinCoin\",\"iBankCoin\",\"Frankywillcoin\",\"MudraCoin\",\"PizzaCoin\",\"Lutetium Coin\",\"Komodo\",\"GoldBlocks\",\"CarterCoin\",\"Karbo\",\"BitTokens\",\"ZayedCoin\",\"MustangCoin\",\"ZoneCoin\",\"Circuits of Value\",\"RootCoin\",\"DopeCoin\",\"BitCurrency\",\"DollarCoin\",\"Swiscoin\",\"Shilling\",\"BuzzCoin\",\"Opair\",\"PesoBit\",\"Halloween Coin\",\"ZCoin\",\"CoffeeCoin\",\"RoyalCoin\",\"GanjaCoin V2\",\"TeamUP\",\"LanaCoin\",\"Elementrem\",\"ZClassic\",\"ARK\",\"InsaneCoin\",\"KiloCoin\",\"ArtexCoin\",\"EmberCoin\",\"XenixCoin\",\"FreeCoin\",\"PLNCoin\",\"AquariusCoin\",\"Kurrent\",\"Creatio\",\"Eternity\",\"Eurocoin\",\"BitcoinFast\",\"Stakenet\",\"BitConnect Coin\",\"MoneyCoin\",\"Enigma\",\"Cannabis Industry Coin\",\"Russiacoin\",\"PandaCoin\",\"GameUnits\",\"GAKHcoin\",\"Allsafe\",\"LiteCreed\",\"OsmiumCoin\",\"Bikercoins\",\"HexxCoin\",\"Klingon Empire Darsek\",\"Internet of People\",\"KushCoin\",\"Printerium\",\"PacCoin\",\"Impeach\",\"Citadel\",\"Zilbercoin\",\"FirstCoin\",\"BeaverCoin\",\"FindCoin\",\"VaultCoin\",\"Zero\",\"OpenChat\",\"Canada eCoin\",\"Zoin\",\"RenosCoin\",\"DubaiCoin\",\"VirtacoinPlus\",\"TajCoin\",\"Impact\",\"EB3coin\",\"Atmos\",\"HappyCoin\",\"Coinonat\",\"MacronCoin\",\"Condensate\",\"Independent Money System\",\"ArgusCoin\",\"LomoCoin\",\"ProCurrency\",\"GoldReserve\",\"BenjiRolls\",\"GrowthCoin\",\"ILCoin\",\"Phreak\",\"Degas Coin\",\"HTML5 Coin\",\"Ultimate Secure Cash\",\"EquiTrader\",\"QTUM\",\"Quantum Resistant Ledger\",\"Espers\",\"Dynamic\",\"Nano\",\"ChanCoin\",\"Dinastycoin\",\"Denarius\",\"DigitalPrice\",\"Virta Unique Coin\",\"Bitcoin Planet\",\"Unify\",\"BritCoin\",\"SocialCoin\",\"ArcticCoin\",\"DAS\",\"Linda\",\"LeviarCoin\",\"DeepOnion\",\"Bitcore\",\"gCn Coin\",\"SmartCash\",\"Signatum\",\"Onix\",\"Cream\",\"Bitcoin Cash\",\"Monoeci\",\"Draftcoin\",\"Vechain\",\"Sojourn Coin\",\"Stakecoin\",\"NewYorkCoin\",\"FrazCoin\",\"Kronecoin\",\"AdCoin\",\"Linx\",\"CoinonatX\",\"Ethereum Dark\",\"Sumokoin\",\"Obsidian\",\"Cardano\",\"Regalcoin\",\"BitcoinZ\",\"TrezarCoin\",\"Elements\",\"TerraNovaCoin\",\"VIVO Coin\",\"Rupee\",\"Bitcoin Gold\",\"WomenCoin\",\"Theresa May Coin\",\"NamoCoin\",\"LUXCoin\",\"Pirl\",\"Xios\",\"Bitcloud 2.0\",\"eBoost\",\"KekCoin\",\"BlackholeCoin\",\"Infinity Economics\",\"Pura\",\"Innova\",\"Ellaism\",\"GoByte\",\"Magnet\",\"Lamden Tau\",\"Electra\",\"Bitcoin Diamond\",\"SHIELD\",\"Cash & Back Coin\",\"UltraNote\",\"BitCoal\",\"DaxxCoin\",\"Bulwark\",\"Kalkulus\",\"AC3\",\"Lethean\",\"GermanCoin\",\"LiteCoin Ultra\",\"PopularCoin\",\"PhantomX\",\"Photon\",\"Sucre\",\"SparksPay\",\"Digiwage\",\"GunCoin\",\"IrishCoin\",\"Trollcoin\",\"Litecoin Plus\",\"Monkey Project\",\"Pioneer Coin\",\"UnitedBitcoin\",\"Interzone\",\"TokenPay\",\"1717 Masonic Commemorative Token\",\"My Big Coin\",\"TurtleCoin\",\"MUNcoin\",\"Unified Society USDEX\",\"Niobio Cash\",\"ShareChain\",\"Travelflex\",\"KREDS\",\"Tokyo Coin\",\"BiblePay\",\"LitecoinCash\",\"BitFlip\",\"LottoCoin\",\"Crypto Improvement Fund\",\"Stipend\",\"Poa Network\",\"Pushi\",\"Ellerium\",\"Velox\",\"Ontology\",\"Callisto Network\",\"BitTube\",\"Poseidon\",\"Aidos Kuneen\",\"Bitspace\",\"Briacoin\",\"Ignition\",\"Bitrolium\",\"MedicCoin\",\"Alpenschillling\",\"Bitcoin Green\",\"Deviant Coin\",\"Abjcoin\",\"Semux\",\"FuturoCoin\",\"Carebit\",\"Zealium\",\"Monero Classic\",\"Proton\",\"iDealCash\",\"Jumpcoin\",\"Infinex\",\"Bitcoin Incognito\",\"KEYCO\",\"HollyWoodCoin\",\"GINcoin\",\"PlatinCoin\",\"Loki\",\"Newton Coin\",\"Swisscoin\",\"Xt3ch\",\"MassGrid\",\"TheVig\",\"PluraCoin\",\"EmaratCoin\",\"Dekado\",\"Lynx\",\"Poseidon Quark\",\"BitcoinWSpectrum\",\"Muse\",\"Motion\",\"PlusOneCoin\",\"Axe\",\"Trivechain\",\"Dystem\",\"Giant\",\"Peony Coin\",\"Absolute Coin\",\"Vitae\",\"HexCoin\",\"TPCash\",\"Webchain\",\"Ryo\",\"Urals Coin\",\"Qwertycoin\",\"ARENON\",\"EUNO\",\"MMOCoin\",\"Ketan\",\"Project Pai\",\"XDNA\",\"PAXEX\",\"Azart\",\"ThunderStake\",\"Kcash\",\"Xchange\",\"Acute Angle Cloud\",\"CrypticCoin\",\"Bettex coin\",\"Actinium\",\"Bitcoin SV\",\"BitMoney\",\"Junson Ming Chan Coin\",\"FREDEnergy\",\"HerbCoin\",\"Universal Molecule\",\"Lithium\",\"PirateCash\",\"Exosis\",\"Block-Logic\",\"Oduwa\",\"Beam\",\"Galilel\",\"Bithereum\",\"Crypto Sports\",\"Credit\",\"SLICE\",\"Dash Platinum\",\"Nasdacoin\",\"Beetle Coin\",\"Titan Coin\",\"Award\",\"BLAST\",\"Bitcoin Rhodium\",\"GlobalToken\",\"Insane Coin\",\"ALAX\",\"LiteDoge\",\"SolarCoin\",\"TruckCoin\",\"UFO Coin\",\"OrangeCoin\",\"BlakeCoin\",\"BitstarCoin\",\"NeosCoin\",\"HyperCoin\",\"PinkCoin\",\"Crypto Escudo\",\"AudioCoin\",\"IncaKoin\",\"Piggy Coin\",\"Crown Coin\",\"Genstake\",\"SmileyCoin\",\"XiaoMiCoin\",\"Groestlcoin\",\"CapriCoin\",\" ClubCoin\",\"Radium\",\"Bata\",\"Pakcoin\",\"Creditbit \",\"OKCash\",\"Lisk\",\"HiCoin\",\"WhiteCoin\",\"FriendshipCoin\",\"Fiii\",\"JoinCoin\",\"Triangles Coin\",\"Vollar\",\"EOS\",\"Reality Clash\",\"Oxycoin\",\"TigerCash\",\"Waves\",\"Particl\",\"BitTorrent\",\"Nxt\",\"ZEPHYR\",\"Gapcoin\",\"Beldex\",\"Horizen\",\"BitcoinPlus\"],\"ProofType\":[\"PoW/PoS\",\"PoW/PoS\",\"PoW/PoS\",\"PoW\",\"PoW\",\"PoW\",\"PoW/PoS\",\"PoW\",\"PoW\",\"PoW\",\"PoS\",\"PoW\",\"PoW/PoS\",\"PoS\",\"PoW\",\"PoW/PoS\",\"PoW\",\"PoW\",\"PoW/PoS\",\"PoW/PoS\",\"PoW\",\"PoW\",\"PoW\",\"PoW\",\"PoW\",\"PoW/PoS\",\"PoW\",\"PoW\",\"PoW\",\"PoW/PoS\",\"PoW\",\"PoW/PoS\",\"PoW\",\"PoW\",\"PoC\",\"PoW/PoS\",\"PoW\",\"PoW\",\"PoW\",\"PoW\",\"PoW\",\"PoW\",\"PoS\",\"PoS/PoW/PoT\",\"PoW\",\"PoW\",\"PoW\",\"PoW\",\"PoW\",\"PoW/PoS\",\"PoS\",\"PoW\",\"PoW/PoS\",\"PoW\",\"PoW\",\"PoW\",\"PoW\",\"PoW/PoS\",\"PoW\",\"PoW\",\"PoS\",\"PoW\",\"PoW/PoS\",\"PoS\",\"PoW/PoS\",\"PoW\",\"PoW\",\"PoW\",\"PoW/PoS\",\"PoW/PoS\",\"PoW/PoS\",\"PoW/PoS\",\"PoW/PoS\",\"PoW\",\"PoW\",\"PoW\",\"PoS\",\"PoW/PoS\",\"PoW\",\"PoS\",\"PoW\",\"PoS\",\"PoW/PoS\",\"PoW\",\"PoW\",\"PoW\",\"PoW\",\"PoW/PoS\",\"PoW/PoS\",\"PoW\",\"PoST\",\"PoW\",\"PoW\",\"PoW/PoS\",\"PoS\",\"PoW\",\"PoW/PoS\",\"PoW/PoS\",\"PoW\",\"PoW\",\"PoC\",\"PoS\",\"PoW\",\"PoW/PoS\",\"PoW/PoS\",\"PoW\",\"PoS\",\"PoW\",\"PoW/PoS\",\"PoW\",\"PoS\",\"PoW\",\"PoW/PoS\",\"PoW/PoS\",\"PoW\",\"PoW\",\"PoS\",\"PoW\",\"PoW\",\"PoW\",\"PoW/PoS\",\"PoW\",\"PoW\",\"PoW\",\"PoW\",\"PoW\",\"PoW/PoS\",\"PoW/nPoS\",\"PoW\",\"PoW\",\"PoW\",\"PoW/PoS\",\"PoW\",\"PoS/PoW\",\"PoW\",\"PoW\",\"PoS\",\"PoW\",\"PoW/PoS\",\"PoW\",\"PoW/PoS\",\"PoW/PoS\",\"PoW\",\"PoW\",\"PoW/PoS\",\"PoW\",\"PoW\",\"PoW/PoS\",\"PoW/PoS\",\"PoW\",\"PoW/PoS\",\"PoW\",\"PoW/PoS\",\"PoW/PoS\",\"PoS\",\"PoW\",\"PoW\",\"PoW\",\"PoW\",\"PoW/PoS\",\"PoS\",\"PoW/PoS\",\"PoC\",\"PoS\",\"PoW\",\"PoW\",\"PoW/PoS\",\"PoW/PoS\",\"PoW/PoS\",\"PoW/PoS\",\"PoW/PoS\",\"PoW\",\"PoS\",\"PoW/PoS\",\"PoW/PoS\",\"PoW/PoS\",\"PoS\",\"PoW\",\"PoS\",\"dPoW/PoW\",\"PoW/PoS\",\"PoW/PoS\",\"PoW\",\"PoW/PoS\",\"PoW\",\"PoW/PoS\",\"PoW/PoS\",\"PoW\",\"PoW/PoS\",\"PoW\",\"PoS\",\"PoW\",\"PoW/PoW\",\"PoW\",\"PoW/PoS\",\"PoS\",\"PoW/PoS\",\"PoW/PoS\",\"PoW\",\"PoS\",\"PoS\",\"PoW/PoS\",\"PoS\",\"PoW/PoS\",\"PoW\",\"PoW\",\"DPoS\",\"PoW/PoS\",\"PoW\",\"PoW\",\"PoW/PoS\",\"PoW/PoS\",\"PoS\",\"PoW/PoS\",\"PoW/PoS\",\"PoW\",\"PoS\",\"PoW/PoS\",\"PoW/PoS\",\"PoW/PoS\",\"TPoS\",\"PoW/PoS\",\"PoW/PoS\",\"PoW/PoS\",\"PoW\",\"PoW/PoS\",\"PoS\",\"PoW/PoS\",\"PoW/PoS\",\"PoS\",\"PoW/PoS\",\"PoW\",\"PoW\",\"PoW\",\"PoW/PoS\",\"PoW/PoS\",\"PoW/PoS\",\"PoW/PoS\",\"PoW\",\"PoW/PoS\",\"PoW\",\"PoS\",\"PoW/PoS \",\"PoW\",\"PoS\",\"PoW\",\"PoW\",\"PoW/PoS\",\"PoW\",\"PoW\",\"PoS\",\"PoW\",\"PoW/PoS\",\"PoW/PoS\",\"PoW/PoS\",\"PoW\",\"PoS\",\"PoW/PoS\",\"PoW\",\"PoS\",\"PoW/PoS\",\"PoW/PoS\",\"PoW/PoS\",\"PoW/PoS\",\"PoS\",\"PoW/PoS\",\"PoW\",\"PoS\",\"PoW\",\"PoS\",\"PoW/PoS\",\"PoW/PoS\",\"PoS\",\"PoW\",\"PoS\",\"PoW\",\"PoW/PoS\",\"PoW\",\"PoW\",\"PoW\",\"PoW\",\"PoW/PoS\",\"PoW\",\"PoW/PoS\",\"PoW/PoS\",\"PoW\",\"PoW/PoS\",\"PoW\",\"PoW\",\"PoW\",\"PoW/PoS\",\"PoW\",\"PoW/PoS\",\"PoW\",\"PoW\",\"PoW\",\"PoS\",\"PoW\",\"PoW/PoS\",\"PoW\",\"PoW/PoS\",\"PoS\",\"Proof of Authority\",\"PoW\",\"PoS\",\"PoW\",\"PoW\",\"PoW\",\"PoW\",\"PoW\",\"PoW/PoS\",\"PoW/PoS\",\"PoW\",\"PoS\",\"PoS\",\"PoW/PoS\",\"PoW\",\"PoW/PoS\",\"PoW\",\"PoW/PoS\",\"PoW\",\"PoS\",\"PoW\",\"PoW/PoS\",\"PoW/PoS\",\"PoW/PoS\",\"PoW/PoS\",\"PoW\",\"PoW/PoS\",\"PoW/PoS\",\"PoW\",\"PoS\",\"PoW/PoS\",\"PoS\",\"PoW\",\"PoW\",\"PoW\",\"PoW\",\"PoW/PoS\",\"DPoS\",\"PoW/PoS\",\"PoW/PoS\",\"PoW\",\"PoW/PoS\",\"PoW\",\"PoW\",\"PoW\",\"PoS\",\"PoS\",\"PoW\",\"PoW\",\"PoW/PoS\",\"PoW/PoS\",\"PoW\",\"PoW/PoS\",\"PoW\",\"PoW\",\"PoW\",\"PoS\",\"PoW\",\"PoW\",\"PoW/PoS\",\"PoW/PoS\",\"PoS\",\"PoW\",\"PoW\",\"PoW\",\"PoS\",\"PoS\",\"PoW and PoS\",\"PoW\",\"PoW\",\"PoW/PoS\",\"PoW\",\"PoW\",\"PoW\",\"PoW\",\"PoS\",\"POBh\",\"PoW + Hive\",\"PoW\",\"PoW\",\"PoW\",\"PoW/PoS\",\"PoA\",\"PoW/PoS\",\"PoW/PoS\",\"PoS\",\"PoS\",\"PoW\",\"PoW\",\"PoW\",\"PoW\",\"PoW/PoS\",\"PoW/PoS\",\"PoW/PoS\",\"PoW\",\"PoS\",\"PoW\",\"PoS\",\"PoS\",\"PoW/PoS\",\"DPoS\",\"PoW\",\"PoW/PoS\",\"PoS\",\"PoW\",\"PoS\",\"PoW/PoS\",\"PoW\",\"PoW\",\"PoS/PoW\",\"PoW\",\"PoS\",\"PoW\",\"PoW\",\"PoW\",\"PoW\",\"PoW/PoS\",\"PoS\",\"PoW\",\"PoW/PoS\",\"PoW\",\"PoW/PoS\",\"PoS\",\"HPoW\",\"PoS\",\"PoS\",\"PoS\",\"PoW\",\"PoW\",\"PoW\",\"PoW/PoS\",\"PoS\",\"PoW/PoS\",\"PoS\",\"PoW/PoS\",\"PoS\",\"PoW\",\"PoW/PoS\",\"PoW\",\"PoW\",\"PoW\",\"PoW\",\"PoS\",\"PoW/PoS\",\"PoS\",\"PoS\",\"PoW\",\"PoW/PoS\",\"PoS\",\"PoW\",\"PoW/PoS\",\"Zero-Knowledge Proof\",\"PoW\",\"DPOS\",\"PoW\",\"PoS\",\"PoW\",\"PoW\",\"Pos\",\"PoS\",\"PoW\",\"PoW/PoS\",\"PoW\",\"PoW\",\"PoS\",\"PoW\",\"PoW\",\"PoW/PoS\",\"PoW\",\"PoW/PoS\",\"PoW\",\"PoS\",\"PoW/PoS\",\"PoW\",\"PoS\",\"PoW/PoS\",\"PoW/PoS\",\"PoW/PoS\",\"PoW/PoS\",\"PoW\",\"PoW\",\"PoW\",\"PoW/PoS\",\"DPoS\",\"PoW/PoS\",\"PoW\",\"PoW/PoS\",\"PoW\",\"PoW/PoS\",\"PoW\",\"PoW/PoS\",\"PoS\",\"PoW/PoS\",\"PoW/PoS\",\"PoW\",\"PoW/PoS\",\"PoW/PoS\",\"PoW/PoS\",\"PoW\",\"PoW/PoS\",\"PoW\",\"PoW/PoS\",\"PoW\",\"PoW/PoS\",\"PoW/PoS\",\"PoS\",\"PoW\",\"PoW\",\"Proof of Trust\",\"PoW/PoS\",\"DPoS\",\"PoS\",\"PoW/PoS\",\"PoW/PoS\",\"DPoC\",\"PoW\",\"PoW/PoS\",\"PoW\",\"DPoS\",\"PoW\",\"DPoS\",\"PoS\",\"LPoS\",\"PoS\",\"DPoS\",\"PoS/LPoS\",\"DPoS\",\"PoW/PoS\",\"PoW\",\"PoW\",\"PoS\"],\"TotalCoinSupply\":[\"42\",\"532000000\",\"3.14159E+11\",\"21000000\",\"0\",\"84000000\",\"22000000\",\"0\",\"210000000\",\"21000000\",\"3600570502\",\"21000000000\",\"22000000\",\"12500000\",\"21000000\",\"350000000\",\"20000000\",\"64000000\",\"16768584\",\"0\",\"2000000000\",\"3.84E+11\",\"169795588\",\"250000000\",\"100000000\",\"0\",\"247000000\",\"84000000\",\"48166000\",\"500000\",\"21000000\",\"1000000\",\"13140000\",\"18000000\",\"40000000000\",\"4380000\",\"16555000000\",\"21000000000\",\"13500000000\",\"21000000\",\"299792458\",\"32000000\",\"0\",\"0\",\"11235813\",\"336000000\",\"1420609614\",\"70000000\",\"72245700\",\"120000000\",\"0\",\"90600000000\",\"22000000\",\"21000000\",\"265420800\",\"20000000\",\"1350000\",\"100000000\",\"42000000\",\"200000000\",\"0\",\"10000000\",\"2419200000\",\"16180000\",\"0\",\"15000000000\",\"21000000\",\"337000000\",\"0\",\"3770000\",\"420000000\",\"98000000\",\"0\",\"21000000\",\"250000000\",\"51200000\",\"0\",\"1000\",\"888000000\",\"100000000\",\"47011968\",\"2300000000\",\"10000000\",\"42000000\",\"80000000\",\"250000\",\"0\",\"1600000000\",\"100000000\",\"23000000\",\"0\",\"84000000\",\"265420800\",\"5500000\",\"0\",\"45000000\",\"0\",\"1000000000\",\"1.84467E+11\",\"10000000000\",\"2158812800\",\"500000000\",\"105120000\",\"68000000\",\"0\",\"1680000000\",\"0\",\"166386000\",\"12000000\",\"2628000\",\"500000000\",\"160000000\",\"0\",\"10000000\",\"1000000000\",\"1000000000\",\"20000000\",\"0\",\"0\",\"3371337\",\"20000000\",\"10000000000\",\"1840000000\",\"619478\",\"21000000\",\"92000000000\",\"0\",\"78000000\",\"33000000\",\"65789100\",\"53760000\",\"5060000\",\"21000000\",\"0\",\"210240000\",\"250000000\",\"100000000\",\"16906397\",\"50000000\",\"0\",\"1000000000\",\"26298000\",\"16000000\",\"21000000\",\"21000000\",\"210000000\",\"81962100\",\"22000000\",\"26550000000\",\"84000000\",\"10500000\",\"21626280000\",\"0\",\"42000000\",\"221052632\",\"84000000\",\"30000000\",\"168351300\",\"24000000\",\"384000000\",\"99000000000\",\"40000000\",\"2147483647\",\"20000000\",\"20000000\",\"25000000\",\"75000000\",\"222725000\",\"525000000\",\"90000000\",\"139000000\",\"616448\",\"33500000\",\"2000000000\",\"44333333\",\"100000000\",\"200000000\",\"25000000\",\"657000000\",\"200000000\",\"50000000\",\"90000000\",\"10000000\",\"21000000\",\"9736000\",\"3000000\",\"21000000\",\"1200000000\",\"0\",\"200000000\",\"0\",\"10638298\",\"3100000000\",\"30000000\",\"20000000000\",\"74000000\",\"0\",\"1500000000\",\"21400000\",\"39999898\",\"2500124\",\"100000000\",\"301000000\",\"7506000000\",\"26205539\",\"21000000\",\"125000000\",\"30000000\",\"10000000000\",\"500000000\",\"850000000\",\"3853326.777\",\"50000000\",\"38540000\",\"42000000\",\"228000000\",\"20000000\",\"60000000\",\"20000000\",\"33000000\",\"76500000\",\"28000000\",\"650659833\",\"5000000\",\"21000000\",\"144000000\",\"32514916898\",\"13000000\",\"3315789\",\"15000000\",\"78835200\",\"2714286\",\"25000000\",\"9999999\",\"500000000\",\"21000000\",\"9354000\",\"20000000\",\"1E+11\",\"21933333\",\"185000000\",\"55000000\",\"110000000\",\"3360000\",\"14524851.48\",\"1000000000\",\"17000000\",\"1000000000\",\"100000000\",\"21000000\",\"34426423\",\"2232901\",\"100000000\",\"36900000\",\"110000000\",\"4000000000\",\"110290030\",\"100000000\",\"48252000\",\"400000000\",\"500000000\",\"21212121\",\"28600000\",\"1000000000\",\"75000000000\",\"40000000\",\"35520400\",\"2000000000\",\"2500000000\",\"30000000\",\"105000000\",\"90000000000\",\"200084200\",\"72000000\",\"100000000\",\"105000000\",\"50000000000\",\"0\",\"340282367\",\"30000000\",\"2000000000\",\"10000000\",\"100000000\",\"120000000\",\"100000000\",\"19276800\",\"30000000\",\"75000000\",\"60000000\",\"18900000\",\"50000000000\",\"54000000\",\"18898187.62\",\"21000000\",\"2E+11\",\"5000000000\",\"137500000\",\"1100000000\",\"100000000\",\"21000000\",\"9507271\",\"17405891.2\",\"86712634466\",\"10500000000\",\"61599965\",\"0\",\"20000000\",\"84000000\",\"100000000\",\"100000000\",\"48252000\",\"4200000\",\"88888888\",\"91388946\",\"45000000000\",\"27000000\",\"21000000000\",\"400000000\",\"1800000000\",\"15733333\",\"27000000\",\"24000000\",\"21000000\",\"25000000000\",\"100000000\",\"1200000000\",\"60000000\",\"156306732.7\",\"21000000\",\"200000000\",\"100000000\",\"21000000\",\"14788275.99\",\"9000000000\",\"350000000\",\"45000000\",\"280000000\",\"31800000\",\"144000000\",\"500000000\",\"30000000000\",\"210000000\",\"660000000\",\"210000000\",\"85000000000\",\"12500000\",\"10000000000\",\"27716121\",\"20000000\",\"550000000\",\"999481516\",\"50000000000\",\"150000000\",\"4999999999\",\"50000000\",\"90000000000\",\"19800000\",\"21000000\",\"120000000\",\"500000000\",\"64000000\",\"900000000\",\"4000000\",\"21000000\",\"23000000\",\"20166000\",\"23000000\",\"25000000\",\"1618033\",\"30000000\",\"1E+12\",\"16600000\",\"232000000\",\"336000000\",\"10000000000\",\"100000000\",\"1100000000\",\"800000000\",\"5200000000\",\"840000000\",\"40000000\",\"18406979840\",\"500000000\",\"19340594\",\"252460800\",\"25000000\",\"60000000\",\"124000000\",\"1000000000\",\"6500000000\",\"1000000000\",\"21000000\",\"25000000\",\"50000000\",\"3000000\",\"5000000\",\"70000000\",\"500000000\",\"300000000\",\"21000000\",\"88000000\",\"30000000\",\"100000000\",\"100000000\",\"200000000\",\"80000000\",\"18400000\",\"45000000\",\"5121951220\",\"21000000\",\"26280000\",\"21000000\",\"18000000\",\"26000000\",\"10500000\",\"600000518\",\"150000000\",\"1.84E+11\",\"10200000000\",\"44000000\",\"168000000\",\"100000000\",\"1000000000\",\"84000000\",\"90000000\",\"92000000000\",\"650000000\",\"100262205\",\"18081806\",\"22075700\",\"21000000\",\"21000000\",\"82546564\",\"21000000\",\"5151000\",\"16880000000\",\"52500000\",\"100000000\",\"22105263\",\"1000000000\",\"1750000000\",\"88188888\",\"210000000\",\"1.8447E+11\",\"55000000\",\"50000000\",\"260000000\",\"210000000\",\"2100000000\",\"366000000\",\"100000000\",\"25000000\",\"18000000000\",\"1000000000\",\"100000000\",\"1000000000\",\"7600000000\",\"50000000\",\"84000000\",\"21000000\",\"70000000000\",\"0\",\"8080000000\",\"54000000\",\"105120001.4\",\"25228800\",\"105000000\",\"21000000\",\"120000000\",\"21000000\",\"262800000\",\"19035999\",\"30886000\",\"13370000\",\"74800000000\",\"100000000\",\"19700000\",\"84000000\",\"500000000\",\"5000000000\",\"420000000\",\"64000000\",\"2100000\",\"168000000\",\"30000000\",\"1000000000\",\"35000000000\",\"98100000000\",\"0\",\"4000000000\",\"200000000\",\"7000000000\",\"54256119\",\"21000000\",\"0\",\"500000000\",\"1000000000\",\"10500000000\",\"190000000\",\"1000000000\",\"42000000\",\"15000000\",\"50000000000\",\"400000000\",\"105000000\",\"208000000\",\"160000000\",\"9000000\",\"5000000\",\"182000000\",\"16504333\",\"105000000\",\"159918400\",\"10008835635\",\"300000000\",\"60168145\",\"5000000000\",\"2800000\",\"120000\",\"2100000000\",\"0\",\"24487944\",\"0\",\"1000000000\",\"100000000\",\"8634140\",\"9.9E+11\",\"1000000000\",\"2000000000\",\"250000000\",\"1400222610\",\"21000000\",\"1000000\"],\"TotalCoinsMined\":{\"__ndarray__\":\"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\",\"dtype\":\"float64\",\"shape\":[533]}},\"selected\":{\"id\":\"2296\"},\"selection_policy\":{\"id\":\"2329\"}},\"id\":\"2295\",\"type\":\"ColumnDataSource\"},{\"attributes\":{\"source\":{\"id\":\"2295\"}},\"id\":\"2328\",\"type\":\"CDSView\"}],\"root_ids\":[\"2293\"]},\"title\":\"Bokeh Application\",\"version\":\"2.0.2\"}};\n",
       "  var render_items = [{\"docid\":\"3ead120e-b7ab-43fb-9d35-cfffe7476268\",\"root_ids\":[\"2293\"],\"roots\":{\"2293\":\"5beba5f0-c9ed-4c1c-b86d-0c6d5278c897\"}}];\n",
       "  root.Bokeh.embed.embed_items_notebook(docs_json, render_items);\n",
       "  }\n",
       "if (root.Bokeh !== undefined) {\n",
       "    embed_document(root);\n",
       "  } else {\n",
       "    var attempts = 0;\n",
       "    var timer = setInterval(function(root) {\n",
       "      if (root.Bokeh !== undefined) {\n",
       "        clearInterval(timer);\n",
       "        embed_document(root);\n",
       "      } else if (document.readyState == \"complete\") {\n",
       "        attempts++;\n",
       "        if (attempts > 100) {\n",
       "          clearInterval(timer);\n",
       "          console.log(\"Bokeh: ERROR: Unable to run BokehJS code because BokehJS library is missing\");\n",
       "        }\n",
       "      }\n",
       "    }, 10, root)\n",
       "  }\n",
       "})(window);</script>"
      ],
      "text/plain": [
       ":Table   [Algorithm,ProofType,TotalCoinsMined,TotalCoinSupply,CoinName,Class]"
      ]
     },
     "execution_count": 55,
     "metadata": {
      "application/vnd.holoviews_exec.v0+json": {
       "id": "2293"
      }
     },
     "output_type": "execute_result"
    }
   ],
   "source": [
    "# Table with tradable cryptos\n",
    "clustered_df[['Algorithm', 'ProofType', 'TotalCoinsMined', 'TotalCoinSupply', 'CoinName', 'Class']].hvplot.table()"
   ]
  },
  {
   "cell_type": "markdown",
   "id": "b7cc1c4f-d326-49da-ad3d-98dc39cfb958",
   "metadata": {},
   "source": [
    "## Scatter Plot with Tradable Cryptocurrencies"
   ]
  },
  {
   "cell_type": "code",
   "execution_count": 56,
   "id": "94efa7ba-bae2-4c46-93e6-3bb47bf686c3",
   "metadata": {},
   "outputs": [
    {
     "data": {
      "text/html": [
       "<div>\n",
       "<style scoped>\n",
       "    .dataframe tbody tr th:only-of-type {\n",
       "        vertical-align: middle;\n",
       "    }\n",
       "\n",
       "    .dataframe tbody tr th {\n",
       "        vertical-align: top;\n",
       "    }\n",
       "\n",
       "    .dataframe thead th {\n",
       "        text-align: right;\n",
       "    }\n",
       "</style>\n",
       "<table border=\"1\" class=\"dataframe\">\n",
       "  <thead>\n",
       "    <tr style=\"text-align: right;\">\n",
       "      <th></th>\n",
       "      <th>TotalCoinSupply</th>\n",
       "      <th>TotalCoinsMined</th>\n",
       "      <th>CoinName</th>\n",
       "      <th>Class</th>\n",
       "    </tr>\n",
       "  </thead>\n",
       "  <tbody>\n",
       "    <tr>\n",
       "      <th>42</th>\n",
       "      <td>4.200000e-11</td>\n",
       "      <td>0.005942</td>\n",
       "      <td>42 Coin</td>\n",
       "      <td>0</td>\n",
       "    </tr>\n",
       "    <tr>\n",
       "      <th>404</th>\n",
       "      <td>5.320000e-04</td>\n",
       "      <td>0.007002</td>\n",
       "      <td>404Coin</td>\n",
       "      <td>0</td>\n",
       "    </tr>\n",
       "    <tr>\n",
       "      <th>1337</th>\n",
       "      <td>3.141590e-01</td>\n",
       "      <td>0.035342</td>\n",
       "      <td>EliteCoin</td>\n",
       "      <td>0</td>\n",
       "    </tr>\n",
       "    <tr>\n",
       "      <th>BTC</th>\n",
       "      <td>2.100000e-05</td>\n",
       "      <td>0.005960</td>\n",
       "      <td>Bitcoin</td>\n",
       "      <td>0</td>\n",
       "    </tr>\n",
       "    <tr>\n",
       "      <th>ETH</th>\n",
       "      <td>0.000000e+00</td>\n",
       "      <td>0.006050</td>\n",
       "      <td>Ethereum</td>\n",
       "      <td>0</td>\n",
       "    </tr>\n",
       "  </tbody>\n",
       "</table>\n",
       "</div>"
      ],
      "text/plain": [
       "      TotalCoinSupply  TotalCoinsMined   CoinName  Class\n",
       "42       4.200000e-11         0.005942    42 Coin      0\n",
       "404      5.320000e-04         0.007002    404Coin      0\n",
       "1337     3.141590e-01         0.035342  EliteCoin      0\n",
       "BTC      2.100000e-05         0.005960    Bitcoin      0\n",
       "ETH      0.000000e+00         0.006050   Ethereum      0"
      ]
     },
     "execution_count": 56,
     "metadata": {},
     "output_type": "execute_result"
    }
   ],
   "source": [
    "# Scale data to create the scatter plot\n",
    "mm_scaler = MinMaxScaler()\n",
    "data = mm_scaler.fit_transform(\n",
    "    clustered_df[[\"TotalCoinSupply\", \"TotalCoinsMined\"]]\n",
    ")\n",
    "data_df = pd.DataFrame(\n",
    "    data, columns=[\"TotalCoinSupply\", \"TotalCoinsMined\"], index=clustered_df.index\n",
    ")\n",
    "data_df[\"CoinName\"] = clustered_df[\"CoinName\"]\n",
    "data_df[\"Class\"] = clustered_df[\"Class\"]\n",
    "data_df.head()"
   ]
  },
  {
   "cell_type": "code",
   "execution_count": 57,
   "id": "19a00965-9bd6-4499-8918-529a67506510",
   "metadata": {},
   "outputs": [
    {
     "data": {},
     "metadata": {},
     "output_type": "display_data"
    },
    {
     "data": {
      "application/vnd.holoviews_exec.v0+json": "",
      "text/html": [
       "<div id='2343'>\n",
       "\n",
       "\n",
       "\n",
       "\n",
       "\n",
       "  <div class=\"bk-root\" id=\"ac4213a5-37a7-40c4-9b88-a9c5fc4d4725\" data-root-id=\"2343\"></div>\n",
       "</div>\n",
       "<script type=\"application/javascript\">(function(root) {\n",
       "  function embed_document(root) {\n",
       "  var docs_json = {\"65c5afc5-87ec-4602-9eaa-e37f9ebe0571\":{\"roots\":{\"references\":[{\"attributes\":{\"axis\":{\"id\":\"2359\"},\"grid_line_color\":null,\"ticker\":null},\"id\":\"2362\",\"type\":\"Grid\"},{\"attributes\":{\"overlay\":{\"id\":\"2372\"}},\"id\":\"2370\",\"type\":\"BoxZoomTool\"},{\"attributes\":{},\"id\":\"2369\",\"type\":\"WheelZoomTool\"},{\"attributes\":{\"end\":1.042857142857143,\"reset_end\":1.042857142857143,\"reset_start\":-0.04285714285714286,\"start\":-0.04285714285714286,\"tags\":[[[\"TotalCoinsMined\",\"TotalCoinsMined\",null]]]},\"id\":\"2345\",\"type\":\"Range1d\"},{\"attributes\":{},\"id\":\"2355\",\"type\":\"LinearScale\"},{\"attributes\":{},\"id\":\"2371\",\"type\":\"ResetTool\"},{\"attributes\":{\"children\":[{\"id\":\"2344\"},{\"id\":\"2350\"},{\"id\":\"2532\"}],\"margin\":[0,0,0,0],\"name\":\"Row04770\",\"tags\":[\"embedded\"]},\"id\":\"2343\",\"type\":\"Row\"},{\"attributes\":{},\"id\":\"2414\",\"type\":\"UnionRenderers\"},{\"attributes\":{\"text\":\"\",\"text_color\":{\"value\":\"black\"},\"text_font_size\":{\"value\":\"12pt\"}},\"id\":\"2351\",\"type\":\"Title\"},{\"attributes\":{},\"id\":\"2418\",\"type\":\"Selection\"},{\"attributes\":{\"callback\":null,\"renderers\":[{\"id\":\"2390\"},{\"id\":\"2406\"},{\"id\":\"2423\"}],\"tags\":[\"hv_created\"],\"tooltips\":[[\"Class\",\"@{Class}\"],[\"TotalCoinsMined\",\"@{TotalCoinsMined}\"],[\"TotalCoinSupply\",\"@{TotalCoinSupply}\"],[\"CoinName\",\"@{CoinName}\"]]},\"id\":\"2347\",\"type\":\"HoverTool\"},{\"attributes\":{},\"id\":\"2364\",\"type\":\"BasicTicker\"},{\"attributes\":{\"label\":{\"value\":\"0\"},\"renderers\":[{\"id\":\"2390\"}]},\"id\":\"2399\",\"type\":\"LegendItem\"},{\"attributes\":{\"fill_color\":{\"value\":\"#2ba02b\"},\"line_color\":{\"value\":\"#2ba02b\"},\"size\":{\"units\":\"screen\",\"value\":5.477225575051661},\"x\":{\"field\":\"TotalCoinsMined\"},\"y\":{\"field\":\"TotalCoinSupply\"}},\"id\":\"2420\",\"type\":\"Scatter\"},{\"attributes\":{\"below\":[{\"id\":\"2359\"}],\"center\":[{\"id\":\"2362\"},{\"id\":\"2366\"}],\"left\":[{\"id\":\"2363\"}],\"margin\":null,\"min_border_bottom\":10,\"min_border_left\":10,\"min_border_right\":10,\"min_border_top\":10,\"plot_height\":300,\"plot_width\":700,\"renderers\":[{\"id\":\"2390\"},{\"id\":\"2406\"},{\"id\":\"2423\"}],\"right\":[{\"id\":\"2398\"}],\"sizing_mode\":\"fixed\",\"title\":{\"id\":\"2351\"},\"toolbar\":{\"id\":\"2373\"},\"x_range\":{\"id\":\"2345\"},\"x_scale\":{\"id\":\"2355\"},\"y_range\":{\"id\":\"2346\"},\"y_scale\":{\"id\":\"2357\"}},\"id\":\"2350\",\"subtype\":\"Figure\",\"type\":\"Plot\"},{\"attributes\":{\"margin\":[5,5,5,5],\"name\":\"HSpacer04775\",\"sizing_mode\":\"stretch_width\"},\"id\":\"2532\",\"type\":\"Spacer\"},{\"attributes\":{},\"id\":\"2357\",\"type\":\"LinearScale\"},{\"attributes\":{\"fill_alpha\":{\"value\":0.1},\"fill_color\":{\"value\":\"#1f77b3\"},\"line_alpha\":{\"value\":0.1},\"line_color\":{\"value\":\"#1f77b3\"},\"size\":{\"units\":\"screen\",\"value\":5.477225575051661},\"x\":{\"field\":\"TotalCoinsMined\"},\"y\":{\"field\":\"TotalCoinSupply\"}},\"id\":\"2388\",\"type\":\"Scatter\"},{\"attributes\":{\"axis_label\":\"TotalCoinsMined\",\"bounds\":\"auto\",\"formatter\":{\"id\":\"2381\"},\"major_label_orientation\":\"horizontal\",\"ticker\":{\"id\":\"2360\"}},\"id\":\"2359\",\"type\":\"LinearAxis\"},{\"attributes\":{\"label\":{\"value\":\"1\"},\"renderers\":[{\"id\":\"2406\"}]},\"id\":\"2416\",\"type\":\"LegendItem\"},{\"attributes\":{\"fill_alpha\":{\"value\":0.2},\"fill_color\":{\"value\":\"#1f77b3\"},\"line_alpha\":{\"value\":0.2},\"line_color\":{\"value\":\"#1f77b3\"},\"size\":{\"units\":\"screen\",\"value\":5.477225575051661},\"x\":{\"field\":\"TotalCoinsMined\"},\"y\":{\"field\":\"TotalCoinSupply\"}},\"id\":\"2389\",\"type\":\"Scatter\"},{\"attributes\":{\"fill_alpha\":{\"value\":0.2},\"fill_color\":{\"value\":\"#2ba02b\"},\"line_alpha\":{\"value\":0.2},\"line_color\":{\"value\":\"#2ba02b\"},\"size\":{\"units\":\"screen\",\"value\":5.477225575051661},\"x\":{\"field\":\"TotalCoinsMined\"},\"y\":{\"field\":\"TotalCoinSupply\"}},\"id\":\"2422\",\"type\":\"Scatter\"},{\"attributes\":{\"margin\":[5,5,5,5],\"name\":\"HSpacer04774\",\"sizing_mode\":\"stretch_width\"},\"id\":\"2344\",\"type\":\"Spacer\"},{\"attributes\":{},\"id\":\"2446\",\"type\":\"UnionRenderers\"},{\"attributes\":{},\"id\":\"2360\",\"type\":\"BasicTicker\"},{\"attributes\":{},\"id\":\"2401\",\"type\":\"Selection\"},{\"attributes\":{\"fill_alpha\":{\"value\":0.1},\"fill_color\":{\"value\":\"#ff7e0e\"},\"line_alpha\":{\"value\":0.1},\"line_color\":{\"value\":\"#ff7e0e\"},\"size\":{\"units\":\"screen\",\"value\":5.477225575051661},\"x\":{\"field\":\"TotalCoinsMined\"},\"y\":{\"field\":\"TotalCoinSupply\"}},\"id\":\"2404\",\"type\":\"Scatter\"},{\"attributes\":{\"data\":{\"Class\":[1,1,1,1,1,1,1],\"CoinName\":[\"Vechain\",\"BiblePay\",\"LitecoinCash\",\"Poa Network\",\"Acute Angle Cloud\",\"Fiii\",\"Waves\"],\"TotalCoinSupply\":{\"__ndarray__\":\"+nQumcwytj+U9gZfmEx1P7x5qkNuhks/hFoo4ZaLMD/8qfHSTWJQP3sUrkfhenQ/LEMc6+I2Gj8=\",\"dtype\":\"float64\",\"shape\":[7]},\"TotalCoinsMined\":{\"__ndarray__\":\"pmqbA06Nrz8qWYkaw6B/P4im+ZwY93o/OH3+4z4ueT+0Hz2Q1nN8PwAAAAAAAAAAcsF4vz3AeD8=\",\"dtype\":\"float64\",\"shape\":[7]}},\"selected\":{\"id\":\"2401\"},\"selection_policy\":{\"id\":\"2433\"}},\"id\":\"2400\",\"type\":\"ColumnDataSource\"},{\"attributes\":{\"click_policy\":\"mute\",\"items\":[{\"id\":\"2399\"},{\"id\":\"2416\"},{\"id\":\"2435\"}],\"location\":[0,0],\"title\":\"Class\"},\"id\":\"2398\",\"type\":\"Legend\"},{\"attributes\":{\"fill_alpha\":{\"value\":0.2},\"fill_color\":{\"value\":\"#ff7e0e\"},\"line_alpha\":{\"value\":0.2},\"line_color\":{\"value\":\"#ff7e0e\"},\"size\":{\"units\":\"screen\",\"value\":5.477225575051661},\"x\":{\"field\":\"TotalCoinsMined\"},\"y\":{\"field\":\"TotalCoinSupply\"}},\"id\":\"2405\",\"type\":\"Scatter\"},{\"attributes\":{\"active_drag\":\"auto\",\"active_inspect\":\"auto\",\"active_multi\":null,\"active_scroll\":\"auto\",\"active_tap\":\"auto\",\"tools\":[{\"id\":\"2347\"},{\"id\":\"2367\"},{\"id\":\"2368\"},{\"id\":\"2369\"},{\"id\":\"2370\"},{\"id\":\"2371\"}]},\"id\":\"2373\",\"type\":\"Toolbar\"},{\"attributes\":{\"axis_label\":\"TotalCoinSupply\",\"bounds\":\"auto\",\"formatter\":{\"id\":\"2383\"},\"major_label_orientation\":\"horizontal\",\"ticker\":{\"id\":\"2364\"}},\"id\":\"2363\",\"type\":\"LinearAxis\"},{\"attributes\":{\"fill_color\":{\"value\":\"#1f77b3\"},\"line_color\":{\"value\":\"#1f77b3\"},\"size\":{\"units\":\"screen\",\"value\":5.477225575051661},\"x\":{\"field\":\"TotalCoinsMined\"},\"y\":{\"field\":\"TotalCoinSupply\"}},\"id\":\"2387\",\"type\":\"Scatter\"},{\"attributes\":{\"axis\":{\"id\":\"2363\"},\"dimension\":1,\"grid_line_color\":null,\"ticker\":null},\"id\":\"2366\",\"type\":\"Grid\"},{\"attributes\":{},\"id\":\"2385\",\"type\":\"Selection\"},{\"attributes\":{\"data_source\":{\"id\":\"2384\"},\"glyph\":{\"id\":\"2387\"},\"hover_glyph\":null,\"muted_glyph\":{\"id\":\"2389\"},\"nonselection_glyph\":{\"id\":\"2388\"},\"selection_glyph\":null,\"view\":{\"id\":\"2391\"}},\"id\":\"2390\",\"type\":\"GlyphRenderer\"},{\"attributes\":{},\"id\":\"2433\",\"type\":\"UnionRenderers\"},{\"attributes\":{\"label\":{\"value\":\"2\"},\"renderers\":[{\"id\":\"2423\"}]},\"id\":\"2435\",\"type\":\"LegendItem\"},{\"attributes\":{\"fill_color\":{\"value\":\"#ff7e0e\"},\"line_color\":{\"value\":\"#ff7e0e\"},\"size\":{\"units\":\"screen\",\"value\":5.477225575051661},\"x\":{\"field\":\"TotalCoinsMined\"},\"y\":{\"field\":\"TotalCoinSupply\"}},\"id\":\"2403\",\"type\":\"Scatter\"},{\"attributes\":{\"data_source\":{\"id\":\"2400\"},\"glyph\":{\"id\":\"2403\"},\"hover_glyph\":null,\"muted_glyph\":{\"id\":\"2405\"},\"nonselection_glyph\":{\"id\":\"2404\"},\"selection_glyph\":null,\"view\":{\"id\":\"2407\"}},\"id\":\"2406\",\"type\":\"GlyphRenderer\"},{\"attributes\":{\"source\":{\"id\":\"2384\"}},\"id\":\"2391\",\"type\":\"CDSView\"},{\"attributes\":{\"bottom_units\":\"screen\",\"fill_alpha\":0.5,\"fill_color\":\"lightgrey\",\"left_units\":\"screen\",\"level\":\"overlay\",\"line_alpha\":1.0,\"line_color\":\"black\",\"line_dash\":[4,4],\"line_width\":2,\"render_mode\":\"css\",\"right_units\":\"screen\",\"top_units\":\"screen\"},\"id\":\"2372\",\"type\":\"BoxAnnotation\"},{\"attributes\":{},\"id\":\"2383\",\"type\":\"BasicTickFormatter\"},{\"attributes\":{\"source\":{\"id\":\"2400\"}},\"id\":\"2407\",\"type\":\"CDSView\"},{\"attributes\":{\"source\":{\"id\":\"2417\"}},\"id\":\"2424\",\"type\":\"CDSView\"},{\"attributes\":{\"end\":1.1,\"reset_end\":1.1,\"reset_start\":-0.1,\"start\":-0.1,\"tags\":[[[\"TotalCoinSupply\",\"TotalCoinSupply\",null]]]},\"id\":\"2346\",\"type\":\"Range1d\"},{\"attributes\":{\"data_source\":{\"id\":\"2417\"},\"glyph\":{\"id\":\"2420\"},\"hover_glyph\":null,\"muted_glyph\":{\"id\":\"2422\"},\"nonselection_glyph\":{\"id\":\"2421\"},\"selection_glyph\":null,\"view\":{\"id\":\"2424\"}},\"id\":\"2423\",\"type\":\"GlyphRenderer\"},{\"attributes\":{\"fill_alpha\":{\"value\":0.1},\"fill_color\":{\"value\":\"#2ba02b\"},\"line_alpha\":{\"value\":0.1},\"line_color\":{\"value\":\"#2ba02b\"},\"size\":{\"units\":\"screen\",\"value\":5.477225575051661},\"x\":{\"field\":\"TotalCoinsMined\"},\"y\":{\"field\":\"TotalCoinSupply\"}},\"id\":\"2421\",\"type\":\"Scatter\"},{\"attributes\":{\"data\":{\"Class\":[2],\"CoinName\":[\"BitTorrent\"],\"TotalCoinSupply\":{\"__ndarray__\":\"rkfhehSu7z8=\",\"dtype\":\"float64\",\"shape\":[1]},\"TotalCoinsMined\":{\"__ndarray__\":\"AAAAAAAA8D8=\",\"dtype\":\"float64\",\"shape\":[1]}},\"selected\":{\"id\":\"2418\"},\"selection_policy\":{\"id\":\"2446\"}},\"id\":\"2417\",\"type\":\"ColumnDataSource\"},{\"attributes\":{\"data\":{\"Class\":[0,0,0,0,0,0,0,0,0,0,0,0,0,0,0,0,0,0,0,0,0,0,0,0,0,0,0,0,0,0,0,0,0,0,0,0,0,0,0,0,0,0,0,0,0,0,0,0,0,0,0,0,0,0,0,0,0,0,0,0,0,0,0,0,0,0,0,0,0,0,0,0,0,0,0,0,0,0,0,0,0,0,0,0,0,0,0,0,0,0,0,0,0,0,0,0,0,0,0,0,0,0,0,0,0,0,0,0,0,0,0,0,0,0,0,0,0,0,0,0,0,0,0,0,0,0,0,0,0,0,0,0,0,0,0,0,0,0,0,0,0,0,0,0,0,0,0,0,0,0,0,0,0,0,0,0,0,0,0,0,0,0,0,0,0,0,0,0,0,0,0,0,0,0,0,0,0,0,0,0,0,0,0,0,0,0,0,0,0,0,0,0,0,0,0,0,0,0,0,0,0,0,0,0,0,0,0,0,0,0,0,0,0,0,0,0,0,0,0,0,0,0,0,0,0,0,0,0,0,0,0,0,0,0,0,0,0,0,0,0,0,0,0,0,0,0,0,0,0,0,0,0,0,0,0,0,0,0,0,0,0,0,0,0,0,0,0,0,0,0,0,0,0,0,0,0,0,0,0,0,0,0,0,0,0,0,0,0,0,0,0,0,0,0,0,0,0,0,0,0,0,0,0,0,0,0,0,0,0,0,0,0,0,0,0,0,0,0,0,0,0,0,0,0,0,0,0,0,0,0,0,0,0,0,0,0,0,0,0,0,0,0,0,0,0,0,0,0,0,0,0,0,0,0,0,0,0,0,0,0,0,0,0,0,0,0,0,0,0,0,0,0,0,0,0,0,0,0,0,0,0,0,0,0,0,0,0,0,0,0,0,0,0,0,0,0,0,0,0,0,0,0,0,0,0,0,0,0,0,0,0,0,0,0,0,0,0,0,0,0,0,0,0,0,0,0,0,0,0,0,0,0,0,0,0,0,0,0,0,0,0,0,0,0,0,0,0,0,0,0,0,0,0,0,0,0,0,0,0,0,0,0,0,0,0,0,0,0,0,0,0,0,0,0,0,0,0,0,0,0,0,0,0,0,0,0,0,0,0,0,0,0,0,0,0,0,0,0,0,0,0,0,0,0,0,0,0,0,0,0,0,0,0,0,0,0,0,0,0,0,0,0,0,0,0],\"CoinName\":[\"42 Coin\",\"404Coin\",\"EliteCoin\",\"Bitcoin\",\"Ethereum\",\"Litecoin\",\"Dash\",\"Monero\",\"Ethereum Classic\",\"ZCash\",\"Bitshares\",\"DigiByte\",\"BitcoinDark\",\"PayCoin\",\"ProsperCoin\",\"KoboCoin\",\"Spreadcoin\",\"Argentum\",\"Aurora Coin\",\"BlueCoin\",\"MyriadCoin\",\"MoonCoin\",\"ZetaCoin\",\"SexCoin\",\"Quatloo\",\"EnergyCoin\",\"QuarkCoin\",\"Riecoin\",\"Digitalcoin \",\"BitBar\",\"Catcoin\",\"CryptoBullion\",\"CannaCoin\",\"CryptCoin\",\"CasinoCoin\",\"Diamond\",\"Verge\",\"DevCoin\",\"EarthCoin\",\"E-Gulden\",\"Einsteinium\",\"Emerald\",\"Exclusive Coin\",\"FlutterCoin\",\"Franko\",\"FeatherCoin\",\"GrandCoin\",\"GlobalCoin\",\"GoldCoin\",\"HoboNickels\",\"HyperStake\",\"Infinite Coin\",\"IOCoin\",\"IXcoin\",\"KrugerCoin\",\"LuckyCoin\",\"Litebar \",\"MaxCoin\",\"MegaCoin\",\"MediterraneanCoin\",\"MintCoin\",\"MinCoin\",\"MazaCoin\",\"Nautilus Coin\",\"NavCoin\",\"NobleCoin\",\"Namecoin\",\"NyanCoin\",\"OpalCoin\",\"Orbitcoin\",\"PotCoin\",\"PhoenixCoin\",\"Reddcoin\",\"RonPaulCoin\",\"StableCoin\",\"SmartCoin\",\"SuperCoin\",\"SyncCoin\",\"SysCoin\",\"TeslaCoin\",\"TigerCoin\",\"TittieCoin\",\"TorCoin\",\"TerraCoin\",\"UnbreakableCoin\",\"Unobtanium\",\"UroCoin\",\"UnitaryStatus Dollar\",\"UltraCoin\",\"ViaCoin\",\"VeriCoin\",\"Vertcoin\",\"WorldCoin\",\"X11 Coin\",\"Crypti\",\"JouleCoin\",\"StealthCoin\",\"ZCC Coin\",\"ByteCoin\",\"DigitalNote \",\"BurstCoin\",\"StorjCoin\",\"MonaCoin\",\"Neutron\",\"FairCoin\",\"Gulden\",\"RubyCoin\",\"PesetaCoin\",\"Kore\",\"Wild Beast Coin\",\"Dnotes\",\"Flo\",\"8BIT Coin\",\"Sativa Coin\",\"ArtByte\",\"Folding Coin\",\"Ucoin\",\"Unitus\",\"CypherPunkCoin\",\"OmniCron\",\"Vtorrent\",\"GreenCoin\",\"Cryptonite\",\"MasterCoin\",\"SoonCoin\",\"1Credit\",\"IslaCoin\",\"Nexus\",\"MarsCoin \",\"Crypto\",\"Anarchists Prime\",\"Droidz\",\"BowsCoin\",\"Squall Coin\",\"Song Coin\",\"BitZeny\",\"Diggits\",\"Expanse\",\"Paycon\",\"Siacoin\",\"Emercoin\",\"EverGreenCoin\",\"MindCoin\",\"I0coin\",\"Decred\",\"Revolution VR\",\"HOdlcoin\",\"EDRCoin\",\"Hitcoin\",\"Gamecredits\",\"DubaiCoin\",\"CarpeDiemCoin\",\"PWR Coin\",\"BillaryCoin\",\"GPU Coin\",\"Adzcoin\",\"SoilCoin\",\"YoCoin\",\"SibCoin\",\"EuropeCoin\",\"ZeitCoin\",\"SwingCoin\",\"SafeExchangeCoin\",\"Nebuchadnezzar\",\"Francs\",\"BolivarCoin\",\"Ratecoin\",\"Revenu\",\"Clockcoin\",\"VIP Tokens\",\"BitSend\",\"Omni\",\"Let it Ride\",\"PutinCoin\",\"iBankCoin\",\"Frankywillcoin\",\"MudraCoin\",\"PizzaCoin\",\"Lutetium Coin\",\"Komodo\",\"GoldBlocks\",\"CarterCoin\",\"Karbo\",\"BitTokens\",\"ZayedCoin\",\"MustangCoin\",\"ZoneCoin\",\"Circuits of Value\",\"RootCoin\",\"DopeCoin\",\"BitCurrency\",\"DollarCoin\",\"Swiscoin\",\"Shilling\",\"BuzzCoin\",\"Opair\",\"PesoBit\",\"Halloween Coin\",\"ZCoin\",\"CoffeeCoin\",\"RoyalCoin\",\"GanjaCoin V2\",\"TeamUP\",\"LanaCoin\",\"Elementrem\",\"ZClassic\",\"ARK\",\"InsaneCoin\",\"KiloCoin\",\"ArtexCoin\",\"EmberCoin\",\"XenixCoin\",\"FreeCoin\",\"PLNCoin\",\"AquariusCoin\",\"Kurrent\",\"Creatio\",\"Eternity\",\"Eurocoin\",\"BitcoinFast\",\"Stakenet\",\"BitConnect Coin\",\"MoneyCoin\",\"Enigma\",\"Cannabis Industry Coin\",\"Russiacoin\",\"PandaCoin\",\"GameUnits\",\"GAKHcoin\",\"Allsafe\",\"LiteCreed\",\"OsmiumCoin\",\"Bikercoins\",\"HexxCoin\",\"Klingon Empire Darsek\",\"Internet of People\",\"KushCoin\",\"Printerium\",\"PacCoin\",\"Impeach\",\"Citadel\",\"Zilbercoin\",\"FirstCoin\",\"BeaverCoin\",\"FindCoin\",\"VaultCoin\",\"Zero\",\"OpenChat\",\"Canada eCoin\",\"Zoin\",\"RenosCoin\",\"DubaiCoin\",\"VirtacoinPlus\",\"TajCoin\",\"Impact\",\"EB3coin\",\"Atmos\",\"HappyCoin\",\"Coinonat\",\"MacronCoin\",\"Condensate\",\"Independent Money System\",\"ArgusCoin\",\"LomoCoin\",\"ProCurrency\",\"GoldReserve\",\"BenjiRolls\",\"GrowthCoin\",\"ILCoin\",\"Phreak\",\"Degas Coin\",\"HTML5 Coin\",\"Ultimate Secure Cash\",\"EquiTrader\",\"QTUM\",\"Quantum Resistant Ledger\",\"Espers\",\"Dynamic\",\"Nano\",\"ChanCoin\",\"Dinastycoin\",\"Denarius\",\"DigitalPrice\",\"Virta Unique Coin\",\"Bitcoin Planet\",\"Unify\",\"BritCoin\",\"SocialCoin\",\"ArcticCoin\",\"DAS\",\"Linda\",\"LeviarCoin\",\"DeepOnion\",\"Bitcore\",\"gCn Coin\",\"SmartCash\",\"Signatum\",\"Onix\",\"Cream\",\"Bitcoin Cash\",\"Monoeci\",\"Draftcoin\",\"Sojourn Coin\",\"Stakecoin\",\"NewYorkCoin\",\"FrazCoin\",\"Kronecoin\",\"AdCoin\",\"Linx\",\"CoinonatX\",\"Ethereum Dark\",\"Sumokoin\",\"Obsidian\",\"Cardano\",\"Regalcoin\",\"BitcoinZ\",\"TrezarCoin\",\"Elements\",\"TerraNovaCoin\",\"VIVO Coin\",\"Rupee\",\"Bitcoin Gold\",\"WomenCoin\",\"Theresa May Coin\",\"NamoCoin\",\"LUXCoin\",\"Pirl\",\"Xios\",\"Bitcloud 2.0\",\"eBoost\",\"KekCoin\",\"BlackholeCoin\",\"Infinity Economics\",\"Pura\",\"Innova\",\"Ellaism\",\"GoByte\",\"Magnet\",\"Lamden Tau\",\"Electra\",\"Bitcoin Diamond\",\"SHIELD\",\"Cash & Back Coin\",\"UltraNote\",\"BitCoal\",\"DaxxCoin\",\"Bulwark\",\"Kalkulus\",\"AC3\",\"Lethean\",\"GermanCoin\",\"LiteCoin Ultra\",\"PopularCoin\",\"PhantomX\",\"Photon\",\"Sucre\",\"SparksPay\",\"Digiwage\",\"GunCoin\",\"IrishCoin\",\"Trollcoin\",\"Litecoin Plus\",\"Monkey Project\",\"Pioneer Coin\",\"UnitedBitcoin\",\"Interzone\",\"TokenPay\",\"1717 Masonic Commemorative Token\",\"My Big Coin\",\"TurtleCoin\",\"MUNcoin\",\"Unified Society USDEX\",\"Niobio Cash\",\"ShareChain\",\"Travelflex\",\"KREDS\",\"Tokyo Coin\",\"BitFlip\",\"LottoCoin\",\"Crypto Improvement Fund\",\"Stipend\",\"Pushi\",\"Ellerium\",\"Velox\",\"Ontology\",\"Callisto Network\",\"BitTube\",\"Poseidon\",\"Aidos Kuneen\",\"Bitspace\",\"Briacoin\",\"Ignition\",\"Bitrolium\",\"MedicCoin\",\"Alpenschillling\",\"Bitcoin Green\",\"Deviant Coin\",\"Abjcoin\",\"Semux\",\"FuturoCoin\",\"Carebit\",\"Zealium\",\"Monero Classic\",\"Proton\",\"iDealCash\",\"Jumpcoin\",\"Infinex\",\"Bitcoin Incognito\",\"KEYCO\",\"HollyWoodCoin\",\"GINcoin\",\"PlatinCoin\",\"Loki\",\"Newton Coin\",\"Swisscoin\",\"Xt3ch\",\"MassGrid\",\"TheVig\",\"PluraCoin\",\"EmaratCoin\",\"Dekado\",\"Lynx\",\"Poseidon Quark\",\"BitcoinWSpectrum\",\"Muse\",\"Motion\",\"PlusOneCoin\",\"Axe\",\"Trivechain\",\"Dystem\",\"Giant\",\"Peony Coin\",\"Absolute Coin\",\"Vitae\",\"HexCoin\",\"TPCash\",\"Webchain\",\"Ryo\",\"Urals Coin\",\"Qwertycoin\",\"ARENON\",\"EUNO\",\"MMOCoin\",\"Ketan\",\"Project Pai\",\"XDNA\",\"PAXEX\",\"Azart\",\"ThunderStake\",\"Kcash\",\"Xchange\",\"CrypticCoin\",\"Bettex coin\",\"Actinium\",\"Bitcoin SV\",\"BitMoney\",\"Junson Ming Chan Coin\",\"FREDEnergy\",\"HerbCoin\",\"Universal Molecule\",\"Lithium\",\"PirateCash\",\"Exosis\",\"Block-Logic\",\"Oduwa\",\"Beam\",\"Galilel\",\"Bithereum\",\"Crypto Sports\",\"Credit\",\"SLICE\",\"Dash Platinum\",\"Nasdacoin\",\"Beetle Coin\",\"Titan Coin\",\"Award\",\"BLAST\",\"Bitcoin Rhodium\",\"GlobalToken\",\"Insane Coin\",\"ALAX\",\"LiteDoge\",\"SolarCoin\",\"TruckCoin\",\"UFO Coin\",\"OrangeCoin\",\"BlakeCoin\",\"BitstarCoin\",\"NeosCoin\",\"HyperCoin\",\"PinkCoin\",\"Crypto Escudo\",\"AudioCoin\",\"IncaKoin\",\"Piggy Coin\",\"Crown Coin\",\"Genstake\",\"SmileyCoin\",\"XiaoMiCoin\",\"Groestlcoin\",\"CapriCoin\",\" ClubCoin\",\"Radium\",\"Bata\",\"Pakcoin\",\"Creditbit \",\"OKCash\",\"Lisk\",\"HiCoin\",\"WhiteCoin\",\"FriendshipCoin\",\"JoinCoin\",\"Triangles Coin\",\"Vollar\",\"EOS\",\"Reality Clash\",\"Oxycoin\",\"TigerCash\",\"Particl\",\"Nxt\",\"ZEPHYR\",\"Gapcoin\",\"Beldex\",\"Horizen\",\"BitcoinPlus\"],\"TotalCoinSupply\":{\"__ndarray__\":\"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\",\"dtype\":\"float64\",\"shape\":[525]},\"TotalCoinsMined\":{\"__ndarray__\":\"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\",\"dtype\":\"float64\",\"shape\":[525]}},\"selected\":{\"id\":\"2385\"},\"selection_policy\":{\"id\":\"2414\"}},\"id\":\"2384\",\"type\":\"ColumnDataSource\"},{\"attributes\":{},\"id\":\"2367\",\"type\":\"SaveTool\"},{\"attributes\":{},\"id\":\"2381\",\"type\":\"BasicTickFormatter\"},{\"attributes\":{},\"id\":\"2368\",\"type\":\"PanTool\"}],\"root_ids\":[\"2343\"]},\"title\":\"Bokeh Application\",\"version\":\"2.0.2\"}};\n",
       "  var render_items = [{\"docid\":\"65c5afc5-87ec-4602-9eaa-e37f9ebe0571\",\"root_ids\":[\"2343\"],\"roots\":{\"2343\":\"ac4213a5-37a7-40c4-9b88-a9c5fc4d4725\"}}];\n",
       "  root.Bokeh.embed.embed_items_notebook(docs_json, render_items);\n",
       "  }\n",
       "if (root.Bokeh !== undefined) {\n",
       "    embed_document(root);\n",
       "  } else {\n",
       "    var attempts = 0;\n",
       "    var timer = setInterval(function(root) {\n",
       "      if (root.Bokeh !== undefined) {\n",
       "        clearInterval(timer);\n",
       "        embed_document(root);\n",
       "      } else if (document.readyState == \"complete\") {\n",
       "        attempts++;\n",
       "        if (attempts > 100) {\n",
       "          clearInterval(timer);\n",
       "          console.log(\"Bokeh: ERROR: Unable to run BokehJS code because BokehJS library is missing\");\n",
       "        }\n",
       "      }\n",
       "    }, 10, root)\n",
       "  }\n",
       "})(window);</script>"
      ],
      "text/plain": [
       ":NdOverlay   [Class]\n",
       "   :Scatter   [TotalCoinsMined]   (TotalCoinSupply,CoinName)"
      ]
     },
     "execution_count": 57,
     "metadata": {
      "application/vnd.holoviews_exec.v0+json": {
       "id": "2343"
      }
     },
     "output_type": "execute_result"
    }
   ],
   "source": [
    "# Plot the scatter with x=\"TotalCoinsMined\" and y=\"TotalCoinSupply\"\n",
    "data_df.hvplot.scatter(\n",
    "    x=\"TotalCoinsMined\", y=\"TotalCoinSupply\", hover_cols=[\"CoinName\"], by=\"Class\"\n",
    ")"
   ]
  },
  {
   "cell_type": "code",
   "execution_count": null,
   "id": "4d7b2dc7",
   "metadata": {},
   "outputs": [],
   "source": []
  }
 ],
 "metadata": {
  "kernelspec": {
   "display_name": "Python [conda env:pyvizenv] *",
   "language": "python",
   "name": "conda-env-pyvizenv-py"
  },
  "language_info": {
   "codemirror_mode": {
    "name": "ipython",
    "version": 3
   },
   "file_extension": ".py",
   "mimetype": "text/x-python",
   "name": "python",
   "nbconvert_exporter": "python",
   "pygments_lexer": "ipython3",
   "version": "3.7.10"
  }
 },
 "nbformat": 4,
 "nbformat_minor": 5
}
